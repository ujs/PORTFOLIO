{
  "nbformat": 4,
  "nbformat_minor": 0,
  "metadata": {
    "colab": {
      "name": "Text_Classification_NLP.ipynb",
      "provenance": [],
      "collapsed_sections": [],
      "authorship_tag": "ABX9TyPsUjHbyl1/jqmtC9mfSohD"
    },
    "kernelspec": {
      "name": "python3",
      "display_name": "Python 3"
    },
    "accelerator": "TPU"
  },
  "cells": [
    {
      "cell_type": "markdown",
      "metadata": {
        "id": "_AJkqDYTS2f-",
        "colab_type": "text"
      },
      "source": [
        "# What to Expect\n",
        "This notebook wil demo various machine learning and deep learning techniques for text classification problems. Initially, I will explore various datasets before I pick one to deep dive into. The first dataset that I will focus on is scientific paper reviews' data. If the quality of data is good enough, I will carry out sentiment analysis on it using various algorithms. Otherwise I will explore another data set."
      ]
    },
    {
      "cell_type": "markdown",
      "metadata": {
        "id": "yCRjFD5O8wY1",
        "colab_type": "text"
      },
      "source": [
        "# Initial Data Exploration\n",
        "The main goal of this step is to skim different datasets containing text, examine data quality and finally select the dataset that I will use for demonstrating various machine learning algorithms in action. The main steps will be:\n",
        "\n",
        "\n",
        "*   Load the dataset into local memory\n",
        "*   Parse the file into the desired format like a pandas dataframe (this might be a multistep process depending on the level of granularity we need)\n",
        "*   Examine the basics like the main features, missing values etc\n",
        "*   If data quality is satisfactory, proceed to machine learning, else move on to exploration of the next dataset\n",
        "\n",
        "\n",
        "\n",
        "\n"
      ]
    },
    {
      "cell_type": "code",
      "metadata": {
        "id": "5UuKgU0DTuRz",
        "colab_type": "code",
        "colab": {
          "base_uri": "https://localhost:8080/",
          "height": 228
        },
        "outputId": "18ca9679-d273-4413-c5f9-fd0ae8c61138"
      },
      "source": [
        "#Loading the first dataset\n",
        "!wget 'https://archive.ics.uci.edu/ml/machine-learning-databases/00410/reviews.json'"
      ],
      "execution_count": null,
      "outputs": [
        {
          "output_type": "stream",
          "text": [
            "--2020-07-06 18:08:41--  https://archive.ics.uci.edu/ml/machine-learning-databases/00410/reviews.json\n",
            "Resolving archive.ics.uci.edu (archive.ics.uci.edu)... 128.195.10.252\n",
            "Connecting to archive.ics.uci.edu (archive.ics.uci.edu)|128.195.10.252|:443... connected.\n",
            "HTTP request sent, awaiting response... 200 OK\n",
            "Length: 593600 (580K) [application/x-httpd-php]\n",
            "Saving to: ‘reviews.json’\n",
            "\n",
            "reviews.json        100%[===================>] 579.69K  3.20MB/s    in 0.2s    \n",
            "\n",
            "2020-07-06 18:08:41 (3.20 MB/s) - ‘reviews.json’ saved [593600/593600]\n",
            "\n"
          ],
          "name": "stdout"
        }
      ]
    },
    {
      "cell_type": "code",
      "metadata": {
        "id": "0kHejsKfUPQC",
        "colab_type": "code",
        "colab": {
          "base_uri": "https://localhost:8080/",
          "height": 72
        },
        "outputId": "d6a05818-d2b9-4708-ccde-d40454b7802f"
      },
      "source": [
        "#Importing python libraries\n",
        "import numpy as np\n",
        "import pandas as pd #to work with csv files\n",
        "\n",
        "#matplotlib imports are used to plot confusion matrices for the classifiers\n",
        "import matplotlib as mpl \n",
        "import matplotlib.cm as cm \n",
        "import matplotlib.pyplot as plt \n",
        "\n",
        "#import feature extraction methods \n",
        "from sklearn.feature_extraction.text import CountVectorizer\n",
        "from sklearn.feature_extraction import stop_words\n",
        "\n",
        "#pre-processing of text\n",
        "import string\n",
        "import re\n",
        "import json\n",
        "import gzip\n",
        "from urllib.request import urlopen\n",
        "\n",
        "#import classifiers \n",
        "import sklearn\n",
        "from sklearn.naive_bayes import MultinomialNB\n",
        "from sklearn.linear_model import LogisticRegression\n",
        "from sklearn.svm import LinearSVC\n",
        "\n",
        "#import different evaluation metrics \n",
        "from sklearn.metrics import accuracy_score\n",
        "from sklearn.model_selection import train_test_split\n",
        "from sklearn.metrics import confusion_matrix \n",
        "from sklearn import metrics\n",
        "\n",
        "#import time function to track the training duration\n",
        "from time import time\n",
        "\n",
        "#System libraries\n",
        "import os\n",
        "import sys"
      ],
      "execution_count": 2,
      "outputs": [
        {
          "output_type": "stream",
          "text": [
            "/usr/local/lib/python3.6/dist-packages/sklearn/utils/deprecation.py:144: FutureWarning: The sklearn.feature_extraction.stop_words module is  deprecated in version 0.22 and will be removed in version 0.24. The corresponding classes / functions should instead be imported from sklearn.feature_extraction.text. Anything that cannot be imported from sklearn.feature_extraction.text is now part of the private API.\n",
            "  warnings.warn(message, FutureWarning)\n"
          ],
          "name": "stderr"
        }
      ]
    },
    {
      "cell_type": "markdown",
      "metadata": {
        "id": "d4IgawsF8Xt8",
        "colab_type": "text"
      },
      "source": [
        "The json file is nested. Hence, I will visualize all levels (top down approach)"
      ]
    },
    {
      "cell_type": "code",
      "metadata": {
        "id": "g-13_iZ2Un31",
        "colab_type": "code",
        "colab": {}
      },
      "source": [
        "#Explore dataset (top most level in the nested file)\n",
        "df = pd.read_json(r'reviews.json')"
      ],
      "execution_count": null,
      "outputs": []
    },
    {
      "cell_type": "code",
      "metadata": {
        "id": "cZ7ywClnU1W8",
        "colab_type": "code",
        "colab": {
          "base_uri": "https://localhost:8080/",
          "height": 488
        },
        "outputId": "8f0f2d40-eebf-453b-f1ae-81080ff0ff03"
      },
      "source": [
        "df.loc[0,'paper'] #The json file ahs 3 main keys id, preliminary decision and review"
      ],
      "execution_count": null,
      "outputs": [
        {
          "output_type": "execute_result",
          "data": {
            "text/plain": [
              "{'id': 1,\n",
              " 'preliminary_decision': 'accept',\n",
              " 'review': [{'confidence': '4',\n",
              "   'evaluation': '1',\n",
              "   'id': 1,\n",
              "   'lan': 'es',\n",
              "   'orientation': '0',\n",
              "   'remarks': '',\n",
              "   'text': '- El artículo aborda un problema contingente y muy relevante, e incluye tanto un diagnóstico nacional de uso de buenas prácticas como una solución (buenas prácticas concretas). - El lenguaje es adecuado.  - El artículo se siente como la concatenación de tres artículos diferentes: (1) resultados de una encuesta, (2) buenas prácticas de seguridad, (3) incorporación de buenas prácticas. - El orden de las secciones sería mejor si refleja este orden (la versión revisada es #2, #1, #3). - El artículo no tiene validación de ningún tipo, ni siquiera por evaluación de expertos.',\n",
              "   'timespan': '2010-07-05'},\n",
              "  {'confidence': '4',\n",
              "   'evaluation': '1',\n",
              "   'id': 2,\n",
              "   'lan': 'es',\n",
              "   'orientation': '1',\n",
              "   'remarks': '',\n",
              "   'text': 'El artículo presenta recomendaciones prácticas para el desarrollo de software seguro. Se describen las mejores prácticas recomendadas para desarrollar software que sea proactivo ante los ataques, y se realiza un análisis de costos de estas prácticas en desarrollo de software. Todo basado en una revisión de prácticas propuestas en la bibliografía y su contraste con datos obtenidos de una encuesta en empresas. Finalmente se recomienda una guía.  Sería ideal aplicar la guía propuesta a empresas no involucradas en la encuesta que sirvió para originarla de modo de poder evaluar su efectividad en forma independiente.',\n",
              "   'timespan': '2010-07-05'},\n",
              "  {'confidence': '5',\n",
              "   'evaluation': '1',\n",
              "   'id': 3,\n",
              "   'lan': 'es',\n",
              "   'orientation': '1',\n",
              "   'remarks': '',\n",
              "   'text': '- El tema es muy interesante y puede ser de mucha ayuda una guía para incorporar prácticas de seguridad. - La presentación (descripción, etapa y uso) de las 9 prácticas para el desarrollo de software seguro.  - El “estado real del desarrollo de software en Chile” (como lo indica en su paper) no se puede lograr con solamente 22 encuestas de un total de 50. - Presenta nueve tablas que corresponden a las prácticas para el desarrollo de software seguro, pero la guía presenta 10 prácticas. ¿explica por qué? - Sugiero mejorar la guía, el mayor aporte está en la secuencia de incorporación que propone.  Además, no debería explicar la práctica en Observaciones ni diferenciarla con otras prácticas en esa columna, sino que debería dar sugerencias de cómo aplicarla. - En el texto indica “Más adelante, se presentan además tres prácticas extras…” ¿cuáles son o no leí correctamente? - De acuerdo a formato, poner como mínimo 5 palabras clave. - Sugiero mencionar las prácticas antes de mostrar cada tabla. - Algunas referencias están incompletas, por ejemplo, falta año en referencia 17, falta año y tipo de evento en referencia 11, falta editorial en referencia 19 (¿es un libro?) - Algunos títulos llevan una coma dentro de las comillas, ejemplo, referencia 1',\n",
              "   'timespan': '2010-07-05'}]}"
            ]
          },
          "metadata": {
            "tags": []
          },
          "execution_count": 168
        }
      ]
    },
    {
      "cell_type": "code",
      "metadata": {
        "id": "mlfLJvptU2ja",
        "colab_type": "code",
        "colab": {}
      },
      "source": [
        "#Extracting the main features of each research paper\n",
        "paper_df = pd.json_normalize(df[\"paper\"])\n"
      ],
      "execution_count": null,
      "outputs": []
    },
    {
      "cell_type": "code",
      "metadata": {
        "id": "yUYM7KDNcgh1",
        "colab_type": "code",
        "colab": {
          "base_uri": "https://localhost:8080/",
          "height": 226
        },
        "outputId": "4b01edb1-e196-4fdf-a07a-9c8f2d393361"
      },
      "source": [
        "paper_df.head()"
      ],
      "execution_count": null,
      "outputs": [
        {
          "output_type": "execute_result",
          "data": {
            "text/html": [
              "<div>\n",
              "<style scoped>\n",
              "    .dataframe tbody tr th:only-of-type {\n",
              "        vertical-align: middle;\n",
              "    }\n",
              "\n",
              "    .dataframe tbody tr th {\n",
              "        vertical-align: top;\n",
              "    }\n",
              "\n",
              "    .dataframe thead th {\n",
              "        text-align: right;\n",
              "    }\n",
              "</style>\n",
              "<table border=\"1\" class=\"dataframe\">\n",
              "  <thead>\n",
              "    <tr style=\"text-align: right;\">\n",
              "      <th></th>\n",
              "      <th>id</th>\n",
              "      <th>preliminary_decision</th>\n",
              "      <th>review</th>\n",
              "    </tr>\n",
              "  </thead>\n",
              "  <tbody>\n",
              "    <tr>\n",
              "      <th>0</th>\n",
              "      <td>1</td>\n",
              "      <td>accept</td>\n",
              "      <td>[{'confidence': '4', 'evaluation': '1', 'id': ...</td>\n",
              "    </tr>\n",
              "    <tr>\n",
              "      <th>1</th>\n",
              "      <td>2</td>\n",
              "      <td>accept</td>\n",
              "      <td>[{'confidence': '4', 'evaluation': '2', 'id': ...</td>\n",
              "    </tr>\n",
              "    <tr>\n",
              "      <th>2</th>\n",
              "      <td>3</td>\n",
              "      <td>accept</td>\n",
              "      <td>[{'confidence': '4', 'evaluation': '2', 'id': ...</td>\n",
              "    </tr>\n",
              "    <tr>\n",
              "      <th>3</th>\n",
              "      <td>4</td>\n",
              "      <td>accept</td>\n",
              "      <td>[{'confidence': '4', 'evaluation': '2', 'id': ...</td>\n",
              "    </tr>\n",
              "    <tr>\n",
              "      <th>4</th>\n",
              "      <td>5</td>\n",
              "      <td>accept</td>\n",
              "      <td>[{'confidence': '4', 'evaluation': '2', 'id': ...</td>\n",
              "    </tr>\n",
              "  </tbody>\n",
              "</table>\n",
              "</div>"
            ],
            "text/plain": [
              "   id preliminary_decision                                             review\n",
              "0   1               accept  [{'confidence': '4', 'evaluation': '1', 'id': ...\n",
              "1   2               accept  [{'confidence': '4', 'evaluation': '2', 'id': ...\n",
              "2   3               accept  [{'confidence': '4', 'evaluation': '2', 'id': ...\n",
              "3   4               accept  [{'confidence': '4', 'evaluation': '2', 'id': ...\n",
              "4   5               accept  [{'confidence': '4', 'evaluation': '2', 'id': ..."
            ]
          },
          "metadata": {
            "tags": []
          },
          "execution_count": 170
        }
      ]
    },
    {
      "cell_type": "code",
      "metadata": {
        "id": "9v797fSuYaNK",
        "colab_type": "code",
        "colab": {}
      },
      "source": [
        "#Extracting the main features of review per research paper\n",
        "review_df = pd.json_normalize(paper_df[\"review\"][0])"
      ],
      "execution_count": null,
      "outputs": []
    },
    {
      "cell_type": "code",
      "metadata": {
        "id": "RCTFEb6qjoZZ",
        "colab_type": "code",
        "colab": {
          "base_uri": "https://localhost:8080/",
          "height": 216
        },
        "outputId": "9156e645-4d84-4ce4-ff9b-c3a9f5e7a006"
      },
      "source": [
        "review_df.head()"
      ],
      "execution_count": null,
      "outputs": [
        {
          "output_type": "execute_result",
          "data": {
            "text/html": [
              "<div>\n",
              "<style scoped>\n",
              "    .dataframe tbody tr th:only-of-type {\n",
              "        vertical-align: middle;\n",
              "    }\n",
              "\n",
              "    .dataframe tbody tr th {\n",
              "        vertical-align: top;\n",
              "    }\n",
              "\n",
              "    .dataframe thead th {\n",
              "        text-align: right;\n",
              "    }\n",
              "</style>\n",
              "<table border=\"1\" class=\"dataframe\">\n",
              "  <thead>\n",
              "    <tr style=\"text-align: right;\">\n",
              "      <th></th>\n",
              "      <th>confidence</th>\n",
              "      <th>evaluation</th>\n",
              "      <th>id</th>\n",
              "      <th>lan</th>\n",
              "      <th>orientation</th>\n",
              "      <th>remarks</th>\n",
              "      <th>text</th>\n",
              "      <th>timespan</th>\n",
              "    </tr>\n",
              "  </thead>\n",
              "  <tbody>\n",
              "    <tr>\n",
              "      <th>0</th>\n",
              "      <td>4</td>\n",
              "      <td>1</td>\n",
              "      <td>1</td>\n",
              "      <td>es</td>\n",
              "      <td>0</td>\n",
              "      <td></td>\n",
              "      <td>- El artículo aborda un problema contingente y...</td>\n",
              "      <td>2010-07-05</td>\n",
              "    </tr>\n",
              "    <tr>\n",
              "      <th>1</th>\n",
              "      <td>4</td>\n",
              "      <td>1</td>\n",
              "      <td>2</td>\n",
              "      <td>es</td>\n",
              "      <td>1</td>\n",
              "      <td></td>\n",
              "      <td>El artículo presenta recomendaciones prácticas...</td>\n",
              "      <td>2010-07-05</td>\n",
              "    </tr>\n",
              "    <tr>\n",
              "      <th>2</th>\n",
              "      <td>5</td>\n",
              "      <td>1</td>\n",
              "      <td>3</td>\n",
              "      <td>es</td>\n",
              "      <td>1</td>\n",
              "      <td></td>\n",
              "      <td>- El tema es muy interesante y puede ser de mu...</td>\n",
              "      <td>2010-07-05</td>\n",
              "    </tr>\n",
              "  </tbody>\n",
              "</table>\n",
              "</div>"
            ],
            "text/plain": [
              "  confidence  ...    timespan\n",
              "0          4  ...  2010-07-05\n",
              "1          4  ...  2010-07-05\n",
              "2          5  ...  2010-07-05\n",
              "\n",
              "[3 rows x 8 columns]"
            ]
          },
          "metadata": {
            "tags": []
          },
          "execution_count": 173
        }
      ]
    },
    {
      "cell_type": "code",
      "metadata": {
        "id": "XY2hO_aeKhxP",
        "colab_type": "code",
        "colab": {
          "base_uri": "https://localhost:8080/",
          "height": 55
        },
        "outputId": "caaf2ef2-e0a7-4ba6-f7d3-c4a556de0a5a"
      },
      "source": [
        "len(df)"
      ],
      "execution_count": null,
      "outputs": [
        {
          "output_type": "execute_result",
          "data": {
            "text/plain": [
              "101"
            ]
          },
          "metadata": {
            "tags": []
          },
          "execution_count": 107
        }
      ]
    },
    {
      "cell_type": "code",
      "metadata": {
        "id": "1ByIObh_35x8",
        "colab_type": "code",
        "colab": {}
      },
      "source": [
        "#Extracting the main features that I am primarily interested in and combining into final df\n",
        "final_df =pd.concat([review_df.text, paper_df.preliminary_decision,review_df.confidence], axis=1)"
      ],
      "execution_count": null,
      "outputs": []
    },
    {
      "cell_type": "code",
      "metadata": {
        "id": "jQlakJjo6ATK",
        "colab_type": "code",
        "colab": {
          "base_uri": "https://localhost:8080/",
          "height": 211
        },
        "outputId": "98551077-79ee-4c57-9d6a-0befd5c47330"
      },
      "source": [
        "final_df.info()"
      ],
      "execution_count": null,
      "outputs": [
        {
          "output_type": "stream",
          "text": [
            "<class 'pandas.core.frame.DataFrame'>\n",
            "RangeIndex: 172 entries, 0 to 171\n",
            "Data columns (total 3 columns):\n",
            " #   Column                Non-Null Count  Dtype \n",
            "---  ------                --------------  ----- \n",
            " 0   text                  3 non-null      object\n",
            " 1   preliminary_decision  172 non-null    object\n",
            " 2   confidence            3 non-null      object\n",
            "dtypes: object(3)\n",
            "memory usage: 4.2+ KB\n"
          ],
          "name": "stdout"
        }
      ]
    },
    {
      "cell_type": "markdown",
      "metadata": {
        "id": "SzrTrNHX_m7d",
        "colab_type": "text"
      },
      "source": [
        "I am primarily interested in analysing the text data but ~98% data is null values. Hence, I will not proceed with this dataset. Let's look at the next dataset. It is a very large data file which contains millions of Amazon product reviews. I will be analysing the first 1 million reviews."
      ]
    },
    {
      "cell_type": "code",
      "metadata": {
        "id": "R5Rnm02o6mkh",
        "colab_type": "code",
        "colab": {
          "base_uri": "https://localhost:8080/",
          "height": 208
        },
        "outputId": "4a3cade8-c600-4761-ab83-c69f7125b04e"
      },
      "source": [
        "#Loading the second dataset\n",
        "!wget http://snap.stanford.edu/data/amazon/productGraph/item_dedup.json.gz"
      ],
      "execution_count": 3,
      "outputs": [
        {
          "output_type": "stream",
          "text": [
            "--2020-07-09 15:15:15--  http://snap.stanford.edu/data/amazon/productGraph/item_dedup.json.gz\n",
            "Resolving snap.stanford.edu (snap.stanford.edu)... 171.64.75.80\n",
            "Connecting to snap.stanford.edu (snap.stanford.edu)|171.64.75.80|:80... connected.\n",
            "HTTP request sent, awaiting response... 200 OK\n",
            "Length: 19233006068 (18G) [application/x-gzip]\n",
            "Saving to: ‘item_dedup.json.gz’\n",
            "\n",
            "item_dedup.json.gz  100%[===================>]  17.91G  12.5MB/s    in 48m 47s \n",
            "\n",
            "2020-07-09 16:04:02 (6.27 MB/s) - ‘item_dedup.json.gz’ saved [19233006068/19233006068]\n",
            "\n"
          ],
          "name": "stdout"
        }
      ]
    },
    {
      "cell_type": "code",
      "metadata": {
        "id": "K1MNSB-RvAKX",
        "colab_type": "code",
        "colab": {}
      },
      "source": [
        "f = gzip.open('item_dedup.json.gz')\n"
      ],
      "execution_count": 3,
      "outputs": []
    },
    {
      "cell_type": "code",
      "metadata": {
        "id": "fyOAemIK7b9d",
        "colab_type": "code",
        "colab": {}
      },
      "source": [
        "#Since, the file size is very big, parsing the entire file crashes the session. \n",
        "# I will unwrap first million records\n",
        "\n",
        "i = 0\n",
        "data = []\n",
        "for line in f:\n",
        "  i+=1\n",
        "  data.append(json.loads(line))\n",
        "  if i>1000000:\n",
        "    break\n",
        "\n",
        "f.close()\n",
        "  \n",
        "df = pd.DataFrame(data)"
      ],
      "execution_count": 4,
      "outputs": []
    },
    {
      "cell_type": "code",
      "metadata": {
        "id": "DDuqP8ALCcM3",
        "colab_type": "code",
        "colab": {
          "base_uri": "https://localhost:8080/",
          "height": 191
        },
        "outputId": "a4f2311d-e291-485a-8ead-02e96d3a0cf4"
      },
      "source": [
        "df.isnull().sum()"
      ],
      "execution_count": 5,
      "outputs": [
        {
          "output_type": "execute_result",
          "data": {
            "text/plain": [
              "reviewerID            0\n",
              "asin                  0\n",
              "helpful               0\n",
              "reviewText            0\n",
              "overall               0\n",
              "summary               0\n",
              "unixReviewTime        0\n",
              "reviewTime            0\n",
              "reviewerName      59931\n",
              "dtype: int64"
            ]
          },
          "metadata": {
            "tags": []
          },
          "execution_count": 5
        }
      ]
    },
    {
      "cell_type": "markdown",
      "metadata": {
        "id": "nYwepicSEYya",
        "colab_type": "text"
      },
      "source": [
        "I want to analyse text- hence, I am interested in the reviewText feature. It has 0 null values. That's great! So I will finalise this dataset."
      ]
    },
    {
      "cell_type": "markdown",
      "metadata": {
        "id": "9LkgwkE9__58",
        "colab_type": "text"
      },
      "source": [
        "The text classification throughout this notebook will be sentiment analysis. We can see the review and star rating for each product. I will add one more feature (the output class) called 'Sentiment'. If the rating is 3, the sentiment is 'OK', if it >3 the sentiment is 'Positive' else it is 'Negative'"
      ]
    },
    {
      "cell_type": "code",
      "metadata": {
        "id": "RL_IoGdWC8ii",
        "colab_type": "code",
        "colab": {}
      },
      "source": [
        "df['sentiment'] = pd.Series(df['overall'].apply(lambda x: 1 if x == 3 or x > 3 else(-1) ))"
      ],
      "execution_count": 19,
      "outputs": []
    },
    {
      "cell_type": "code",
      "metadata": {
        "id": "n9n6_IrsFkmM",
        "colab_type": "code",
        "colab": {
          "base_uri": "https://localhost:8080/",
          "height": 504
        },
        "outputId": "28c2856b-9459-47d5-b7d2-ef72ebc94f14"
      },
      "source": [
        "df.tail()"
      ],
      "execution_count": 21,
      "outputs": [
        {
          "output_type": "execute_result",
          "data": {
            "text/html": [
              "<div>\n",
              "<style scoped>\n",
              "    .dataframe tbody tr th:only-of-type {\n",
              "        vertical-align: middle;\n",
              "    }\n",
              "\n",
              "    .dataframe tbody tr th {\n",
              "        vertical-align: top;\n",
              "    }\n",
              "\n",
              "    .dataframe thead th {\n",
              "        text-align: right;\n",
              "    }\n",
              "</style>\n",
              "<table border=\"1\" class=\"dataframe\">\n",
              "  <thead>\n",
              "    <tr style=\"text-align: right;\">\n",
              "      <th></th>\n",
              "      <th>reviewerID</th>\n",
              "      <th>asin</th>\n",
              "      <th>helpful</th>\n",
              "      <th>reviewText</th>\n",
              "      <th>overall</th>\n",
              "      <th>summary</th>\n",
              "      <th>unixReviewTime</th>\n",
              "      <th>reviewTime</th>\n",
              "      <th>reviewerName</th>\n",
              "      <th>sentiment</th>\n",
              "    </tr>\n",
              "  </thead>\n",
              "  <tbody>\n",
              "    <tr>\n",
              "      <th>999996</th>\n",
              "      <td>A1O3P34EPGVOCY</td>\n",
              "      <td>0062217208</td>\n",
              "      <td>[9, 15]</td>\n",
              "      <td>I love this book.  Having 2 small children, I ...</td>\n",
              "      <td>4.0</td>\n",
              "      <td>Honest and courageous</td>\n",
              "      <td>1370736000</td>\n",
              "      <td>06 9, 2013</td>\n",
              "      <td>Elizabeth Lincoln</td>\n",
              "      <td>1</td>\n",
              "    </tr>\n",
              "    <tr>\n",
              "      <th>999997</th>\n",
              "      <td>A3JCRFRUF8G6XF</td>\n",
              "      <td>0062217208</td>\n",
              "      <td>[5, 10]</td>\n",
              "      <td>It was an excellent description of what that p...</td>\n",
              "      <td>4.0</td>\n",
              "      <td>Amanda Knox</td>\n",
              "      <td>1369872000</td>\n",
              "      <td>05 30, 2013</td>\n",
              "      <td>Elizabeth Ritter</td>\n",
              "      <td>1</td>\n",
              "    </tr>\n",
              "    <tr>\n",
              "      <th>999998</th>\n",
              "      <td>A3XPIQ1OPU8M3</td>\n",
              "      <td>0062217208</td>\n",
              "      <td>[4, 13]</td>\n",
              "      <td>If it is to be believed, this book is mostly a...</td>\n",
              "      <td>3.0</td>\n",
              "      <td>alone in a strange place...</td>\n",
              "      <td>1370908800</td>\n",
              "      <td>06 11, 2013</td>\n",
              "      <td>eliza hamilton</td>\n",
              "      <td>1</td>\n",
              "    </tr>\n",
              "    <tr>\n",
              "      <th>999999</th>\n",
              "      <td>A3N4YAHBI0JRNF</td>\n",
              "      <td>0062217208</td>\n",
              "      <td>[9, 15]</td>\n",
              "      <td>There is nothing more frightening than being w...</td>\n",
              "      <td>5.0</td>\n",
              "      <td>Wrongly accused</td>\n",
              "      <td>1369526400</td>\n",
              "      <td>05 26, 2013</td>\n",
              "      <td>Ellen Horan \"DOMAGRACE\"</td>\n",
              "      <td>1</td>\n",
              "    </tr>\n",
              "    <tr>\n",
              "      <th>1000000</th>\n",
              "      <td>A45FN6I5FFF5V</td>\n",
              "      <td>0062217208</td>\n",
              "      <td>[4, 7]</td>\n",
              "      <td>I think the writer does a very good job of com...</td>\n",
              "      <td>4.0</td>\n",
              "      <td>A Different Set of Rules</td>\n",
              "      <td>1370044800</td>\n",
              "      <td>06 1, 2013</td>\n",
              "      <td>Emil Mantini</td>\n",
              "      <td>1</td>\n",
              "    </tr>\n",
              "  </tbody>\n",
              "</table>\n",
              "</div>"
            ],
            "text/plain": [
              "             reviewerID        asin  ...             reviewerName sentiment\n",
              "999996   A1O3P34EPGVOCY  0062217208  ...        Elizabeth Lincoln         1\n",
              "999997   A3JCRFRUF8G6XF  0062217208  ...         Elizabeth Ritter         1\n",
              "999998    A3XPIQ1OPU8M3  0062217208  ...           eliza hamilton         1\n",
              "999999   A3N4YAHBI0JRNF  0062217208  ...  Ellen Horan \"DOMAGRACE\"         1\n",
              "1000000   A45FN6I5FFF5V  0062217208  ...             Emil Mantini         1\n",
              "\n",
              "[5 rows x 10 columns]"
            ]
          },
          "metadata": {
            "tags": []
          },
          "execution_count": 21
        }
      ]
    },
    {
      "cell_type": "markdown",
      "metadata": {
        "id": "WzkB13_FfE29",
        "colab_type": "text"
      },
      "source": [
        "# Shallow Machine Learning for Text Classification\n",
        "\n",
        "### Naive Bayes"
      ]
    },
    {
      "cell_type": "code",
      "metadata": {
        "id": "fuYB5BsoEPr1",
        "colab_type": "code",
        "colab": {}
      },
      "source": [
        "#Function to clean data (remove stopwords, punctuation and numbers)\n",
        "stopwords = stop_words.ENGLISH_STOP_WORDS\n",
        "def clean(doc): #doc is a string of text\n",
        "    doc = \"\".join([char for char in doc if char not in string.punctuation and not char.isdigit()])\n",
        "    doc = \" \".join([token for token in doc.split() if token not in stopwords])\n",
        "    return doc"
      ],
      "execution_count": 22,
      "outputs": []
    },
    {
      "cell_type": "code",
      "metadata": {
        "id": "ViIRtAVWETIR",
        "colab_type": "code",
        "colab": {
          "base_uri": "https://localhost:8080/",
          "height": 122
        },
        "outputId": "78e2f864-efec-4879-8f79-eef9e6656bf6"
      },
      "source": [
        "from sklearn.model_selection import train_test_split\n",
        "\n",
        "#Saving data into x and y variables\n",
        "X = df.reviewText\n",
        "y = df.sentiment\n",
        "print('shape of X: ', X.shape)\n",
        "print('shape of y: ',y.shape)\n",
        "\n",
        "#Splitting data into train and test sets\n",
        "X_train, X_test, y_train, y_test = train_test_split(X, y, random_state=1)\n",
        "print('shape of X_train: ', X_train.shape)\n",
        "print('shape of y_train: ',y_train.shape)\n",
        "print('shape of X_test: ', X_test.shape)\n",
        "print('shape of y_test: ',y_test.shape)"
      ],
      "execution_count": 23,
      "outputs": [
        {
          "output_type": "stream",
          "text": [
            "shape of X:  (1000001,)\n",
            "shape of y:  (1000001,)\n",
            "shape of X_train:  (750000,)\n",
            "shape of y_train:  (750000,)\n",
            "shape of X_test:  (250001,)\n",
            "shape of y_test:  (250001,)\n"
          ],
          "name": "stdout"
        }
      ]
    },
    {
      "cell_type": "code",
      "metadata": {
        "id": "df2BTLfFGJk-",
        "colab_type": "code",
        "colab": {
          "base_uri": "https://localhost:8080/",
          "height": 35
        },
        "outputId": "c7f4a2a4-3905-46e6-8de9-7d14746b32f4"
      },
      "source": [
        "#Preprocess train and test data (vectorization)\n",
        "vect = CountVectorizer(preprocessor=clean) \n",
        "X_train_dtm = vect.fit_transform(X_train)\n",
        "#transform testing data (using training data's features)\n",
        "X_test_dtm = vect.transform(X_test)\n",
        "print(X_train_dtm.shape, X_test_dtm.shape)\n"
      ],
      "execution_count": 24,
      "outputs": [
        {
          "output_type": "stream",
          "text": [
            "(750000, 1095433) (250001, 1095433)\n"
          ],
          "name": "stdout"
        }
      ]
    },
    {
      "cell_type": "code",
      "metadata": {
        "id": "ZGj_Ln9WGrlv",
        "colab_type": "code",
        "colab": {
          "base_uri": "https://localhost:8080/",
          "height": 52
        },
        "outputId": "478171b5-6061-4050-b5f1-c19001503786"
      },
      "source": [
        "#Train the Naive Bayes Classifier\n",
        "nb = MultinomialNB() #instantiate a Multinomial Naive Bayes model\n",
        "%time nb.fit(X_train_dtm, y_train)\n",
        "y_pred_class = nb.predict(X_test_dtm)\n"
      ],
      "execution_count": 33,
      "outputs": [
        {
          "output_type": "stream",
          "text": [
            "CPU times: user 656 ms, sys: 2.96 ms, total: 659 ms\n",
            "Wall time: 660 ms\n"
          ],
          "name": "stdout"
        }
      ]
    },
    {
      "cell_type": "code",
      "metadata": {
        "id": "sL_4MFEGZYfS",
        "colab_type": "code",
        "colab": {
          "base_uri": "https://localhost:8080/",
          "height": 35
        },
        "outputId": "6d2e9936-d0ab-43a4-d1d8-83f2f051d9f6"
      },
      "source": [
        "set(y_train)"
      ],
      "execution_count": 34,
      "outputs": [
        {
          "output_type": "execute_result",
          "data": {
            "text/plain": [
              "{-1, 1}"
            ]
          },
          "metadata": {
            "tags": []
          },
          "execution_count": 34
        }
      ]
    },
    {
      "cell_type": "code",
      "metadata": {
        "id": "xZRLxRXVHBwo",
        "colab_type": "code",
        "colab": {
          "base_uri": "https://localhost:8080/",
          "height": 478
        },
        "outputId": "ad5c04b5-6f86-4803-e3be-ab50f61b9de7"
      },
      "source": [
        "#Evaluate the model and visualize the results in a confusion matrix\n",
        "import itertools\n",
        "\n",
        "def plot_confusion_matrix(cm, classes,\n",
        "                          normalize=False,\n",
        "                          title='Confusion matrix',\n",
        "                          cmap=plt.cm.Blues):\n",
        "    '''\n",
        "    This function prints and plots the confusion matrix.\n",
        "    \n",
        "    '''\n",
        "    if normalize:\n",
        "        cm = cm.astype('float') / cm.sum(axis=1)[:, np.newaxis]\n",
        "\n",
        "    plt.imshow(cm, interpolation='nearest', cmap=cmap)\n",
        "    plt.title(title)\n",
        "    plt.colorbar()\n",
        "    tick_marks = np.arange(len(classes))\n",
        "    plt.xticks(tick_marks, classes, rotation=45)\n",
        "    plt.yticks(tick_marks, classes)\n",
        "\n",
        "    fmt = '.2f' if normalize else 'd'\n",
        "    thresh = cm.max() / 2.\n",
        "    for i, j in itertools.product(range(cm.shape[0]), range(cm.shape[1])):\n",
        "        plt.text(j, i, format(cm[i, j], fmt),\n",
        "                 horizontalalignment=\"center\",\n",
        "                 color=\"white\" if cm[i, j] > thresh else \"black\")\n",
        "\n",
        "    plt.tight_layout()\n",
        "    plt.ylabel('True label',fontsize=15)\n",
        "    plt.xlabel('Predicted label',fontsize=15)\n",
        "    \n",
        "    \n",
        "#Print accuracy:\n",
        "print(\"Accuracy: \", metrics.accuracy_score(y_test, y_pred_class))\n",
        "\n",
        "    \n",
        "# print the confusion matrix\n",
        "cnf_matrix = confusion_matrix(y_test, y_pred_class)\n",
        "plt.figure(figsize=(8,6))\n",
        "plot_confusion_matrix(cnf_matrix, classes=['Negative','Positive'],normalize=True,\n",
        "                      title='Confusion matrix with all features')\n",
        "\n",
        "y_pred_prob = nb.predict_proba(X_test_dtm)[:, 1]\n",
        "\n"
      ],
      "execution_count": 35,
      "outputs": [
        {
          "output_type": "stream",
          "text": [
            "Accuracy:  0.9166603333586666\n"
          ],
          "name": "stdout"
        },
        {
          "output_type": "display_data",
          "data": {
            "image/png": "[encoded data removed]",
            "text/plain": [
              "<Figure size 576x432 with 2 Axes>"
            ]
          },
          "metadata": {
            "tags": [],
            "needs_background": "light"
          }
        }
      ]
    },
    {
      "cell_type": "code",
      "metadata": {
        "id": "aZP3zTtFZnh-",
        "colab_type": "code",
        "colab": {
          "base_uri": "https://localhost:8080/",
          "height": 35
        },
        "outputId": "bca165e4-7215-485c-ff89-4c03ae5ba455"
      },
      "source": [
        "print(\"ROC_AOC_Score: \", metrics.roc_auc_score(y_test, y_pred_prob))"
      ],
      "execution_count": 36,
      "outputs": [
        {
          "output_type": "stream",
          "text": [
            "ROC_AOC_Score:  0.8243181378594006\n"
          ],
          "name": "stdout"
        }
      ]
    },
    {
      "cell_type": "markdown",
      "metadata": {
        "id": "U4jZtE8NLr4_",
        "colab_type": "text"
      },
      "source": [
        "### Support Vector Machines"
      ]
    },
    {
      "cell_type": "code",
      "metadata": {
        "id": "4shh5DvOKr5y",
        "colab_type": "code",
        "colab": {
          "base_uri": "https://localhost:8080/",
          "height": 550
        },
        "outputId": "bd456eaf-35e9-435c-dc03-e11a38a5c99e"
      },
      "source": [
        "from sklearn.svm import LinearSVC\n",
        "\n",
        "vect = CountVectorizer(preprocessor=clean, max_features=1000) \n",
        "X_train_dtm = vect.fit_transform(X_train)\n",
        "X_test_dtm = vect.transform(X_test)\n",
        "\n",
        "classifier = LinearSVC(class_weight='balanced') \n",
        "classifier.fit(X_train_dtm, y_train) #fit the model with training data\n",
        "\n",
        "#Make predictions on test data\n",
        "y_pred_class = classifier.predict(X_test_dtm)\n",
        "\n",
        "#calculate evaluation measures:\n",
        "print(\"Accuracy: \", metrics.accuracy_score(y_test, y_pred_class))\n",
        "print(\"AUC: \", metrics.roc_auc_score(y_test, y_pred_prob))\n",
        "cnf_matrix = confusion_matrix(y_test, y_pred_class)\n",
        "plt.figure(figsize=(8,6))\n",
        "plot_confusion_matrix(cnf_matrix, classes=['Negative','Positive'],normalize=True,\n",
        "                      title='Confusion matrix with normalization')"
      ],
      "execution_count": 37,
      "outputs": [
        {
          "output_type": "stream",
          "text": [
            "/usr/local/lib/python3.6/dist-packages/sklearn/svm/_base.py:947: ConvergenceWarning: Liblinear failed to converge, increase the number of iterations.\n",
            "  \"the number of iterations.\", ConvergenceWarning)\n"
          ],
          "name": "stderr"
        },
        {
          "output_type": "stream",
          "text": [
            "Accuracy:  0.8318646725413098\n",
            "AUC:  0.8243181378594006\n"
          ],
          "name": "stdout"
        },
        {
          "output_type": "display_data",
          "data": {
            "image/png": "[encoded data removed]",
            "text/plain": [
              "<Figure size 576x432 with 2 Axes>"
            ]
          },
          "metadata": {
            "tags": [],
            "needs_background": "light"
          }
        }
      ]
    },
    {
      "cell_type": "markdown",
      "metadata": {
        "id": "Vxpn48p3NQP-",
        "colab_type": "text"
      },
      "source": [
        "# Deep Learning for Text Classification\n",
        "\n",
        "### Doc2Vec"
      ]
    },
    {
      "cell_type": "markdown",
      "metadata": {
        "id": "jShJEY1iNi52",
        "colab_type": "text"
      },
      "source": [
        "### Word2Vec"
      ]
    },
    {
      "cell_type": "markdown",
      "metadata": {
        "id": "jv35ZMrkNoEe",
        "colab_type": "text"
      },
      "source": [
        "### FastText"
      ]
    },
    {
      "cell_type": "markdown",
      "metadata": {
        "id": "Rm3xdeESNywp",
        "colab_type": "text"
      },
      "source": [
        "### RNN"
      ]
    },
    {
      "cell_type": "markdown",
      "metadata": {
        "id": "f2Ns84GhNtZ2",
        "colab_type": "text"
      },
      "source": [
        "### BERT"
      ]
    }
  ]
}