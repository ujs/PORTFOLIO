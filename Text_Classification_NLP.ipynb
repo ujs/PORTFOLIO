{
  "nbformat": 4,
  "nbformat_minor": 0,
  "metadata": {
    "colab": {
      "name": "Text_Classification_NLP.ipynb",
      "provenance": [],
      "collapsed_sections": [],
      "authorship_tag": "ABX9TyMCu5IE4v+PA9DdDAuOjOaz"
    },
    "kernelspec": {
      "name": "python3",
      "display_name": "Python 3"
    },
    "accelerator": "GPU"
  },
  "cells": [
    {
      "cell_type": "markdown",
      "metadata": {
        "id": "_AJkqDYTS2f-",
        "colab_type": "text"
      },
      "source": [
        "# What to Expect\n",
        "This notebook wil demo various machine learning and deep learning techniques for text classification problems. Initially, I will explore various datasets before I pick one to deep dive into. The first dataset that I will focus on is scientific paper reviews' data. If the quality of data is good enough, I will carry out sentiment analysis on it using various algorithms. Otherwise I will explore another data set."
      ]
    },
    {
      "cell_type": "markdown",
      "metadata": {
        "id": "yCRjFD5O8wY1",
        "colab_type": "text"
      },
      "source": [
        "# Initial Data Exploration\n",
        "The main goal of this step is to skim different datasets containing text, examine data quality and finally select the dataset that I will use for demonstrating various machine learning algorithms in action. The main steps will be:\n",
        "\n",
        "\n",
        "*   Load the dataset into local memory\n",
        "*   Parse the file into the desired format like a pandas dataframe (this might be a multistep process depending on the level of granularity we need)\n",
        "*   Examine the basics like the main features, missing values etc\n",
        "*   If data quality is satisfactory, proceed to machine learning, else move on to exploration of the next dataset\n",
        "\n",
        "\n",
        "\n",
        "\n"
      ]
    },
    {
      "cell_type": "code",
      "metadata": {
        "id": "5UuKgU0DTuRz",
        "colab_type": "code",
        "colab": {
          "base_uri": "https://localhost:8080/",
          "height": 228
        },
        "outputId": "18ca9679-d273-4413-c5f9-fd0ae8c61138"
      },
      "source": [
        "#Loading the first dataset\n",
        "!wget 'https://archive.ics.uci.edu/ml/machine-learning-databases/00410/reviews.json'"
      ],
      "execution_count": 1,
      "outputs": [
        {
          "output_type": "stream",
          "text": [
            "--2020-07-06 18:08:41--  https://archive.ics.uci.edu/ml/machine-learning-databases/00410/reviews.json\n",
            "Resolving archive.ics.uci.edu (archive.ics.uci.edu)... 128.195.10.252\n",
            "Connecting to archive.ics.uci.edu (archive.ics.uci.edu)|128.195.10.252|:443... connected.\n",
            "HTTP request sent, awaiting response... 200 OK\n",
            "Length: 593600 (580K) [application/x-httpd-php]\n",
            "Saving to: ‘reviews.json’\n",
            "\n",
            "reviews.json        100%[===================>] 579.69K  3.20MB/s    in 0.2s    \n",
            "\n",
            "2020-07-06 18:08:41 (3.20 MB/s) - ‘reviews.json’ saved [593600/593600]\n",
            "\n"
          ],
          "name": "stdout"
        }
      ]
    },
    {
      "cell_type": "code",
      "metadata": {
        "id": "0kHejsKfUPQC",
        "colab_type": "code",
        "colab": {}
      },
      "source": [
        "#Importing python libraries\n",
        "import numpy as np\n",
        "import pandas as pd #to work with csv files\n",
        "\n",
        "#matplotlib imports are used to plot confusion matrices for the classifiers\n",
        "import matplotlib as mpl \n",
        "import matplotlib.cm as cm \n",
        "import matplotlib.pyplot as plt \n",
        "\n",
        "#import feature extraction methods \n",
        "from sklearn.feature_extraction.text import CountVectorizer\n",
        "from sklearn.feature_extraction import stop_words\n",
        "\n",
        "#pre-processing of text\n",
        "import string\n",
        "import re\n",
        "\n",
        "#import classifiers \n",
        "from sklearn.naive_bayes import MultinomialNB\n",
        "from sklearn.linear_model import LogisticRegression\n",
        "from sklearn.svm import LinearSVC\n",
        "\n",
        "#import different evaluation metrics \n",
        "from sklearn.metrics import accuracy_score\n",
        "from sklearn.model_selection import train_test_split\n",
        "from sklearn.metrics import confusion_matrix \n",
        "from sklearn import metrics\n",
        "\n",
        "#import time function to track the training duration\n",
        "from time import time"
      ],
      "execution_count": 52,
      "outputs": []
    },
    {
      "cell_type": "markdown",
      "metadata": {
        "id": "d4IgawsF8Xt8",
        "colab_type": "text"
      },
      "source": [
        "The json file is nested. Hence, I will visualize all levels (top down approach)"
      ]
    },
    {
      "cell_type": "code",
      "metadata": {
        "id": "g-13_iZ2Un31",
        "colab_type": "code",
        "colab": {}
      },
      "source": [
        "#Explore dataset (top most level in the nested file)\n",
        "df = pd.read_json(r'reviews.json')"
      ],
      "execution_count": 167,
      "outputs": []
    },
    {
      "cell_type": "code",
      "metadata": {
        "id": "cZ7ywClnU1W8",
        "colab_type": "code",
        "colab": {
          "base_uri": "https://localhost:8080/",
          "height": 488
        },
        "outputId": "8f0f2d40-eebf-453b-f1ae-81080ff0ff03"
      },
      "source": [
        "df.loc[0,'paper'] #The json file ahs 3 main keys id, preliminary decision and review"
      ],
      "execution_count": 168,
      "outputs": [
        {
          "output_type": "execute_result",
          "data": {
            "text/plain": [
              "{'id': 1,\n",
              " 'preliminary_decision': 'accept',\n",
              " 'review': [{'confidence': '4',\n",
              "   'evaluation': '1',\n",
              "   'id': 1,\n",
              "   'lan': 'es',\n",
              "   'orientation': '0',\n",
              "   'remarks': '',\n",
              "   'text': '- El artículo aborda un problema contingente y muy relevante, e incluye tanto un diagnóstico nacional de uso de buenas prácticas como una solución (buenas prácticas concretas). - El lenguaje es adecuado.  - El artículo se siente como la concatenación de tres artículos diferentes: (1) resultados de una encuesta, (2) buenas prácticas de seguridad, (3) incorporación de buenas prácticas. - El orden de las secciones sería mejor si refleja este orden (la versión revisada es #2, #1, #3). - El artículo no tiene validación de ningún tipo, ni siquiera por evaluación de expertos.',\n",
              "   'timespan': '2010-07-05'},\n",
              "  {'confidence': '4',\n",
              "   'evaluation': '1',\n",
              "   'id': 2,\n",
              "   'lan': 'es',\n",
              "   'orientation': '1',\n",
              "   'remarks': '',\n",
              "   'text': 'El artículo presenta recomendaciones prácticas para el desarrollo de software seguro. Se describen las mejores prácticas recomendadas para desarrollar software que sea proactivo ante los ataques, y se realiza un análisis de costos de estas prácticas en desarrollo de software. Todo basado en una revisión de prácticas propuestas en la bibliografía y su contraste con datos obtenidos de una encuesta en empresas. Finalmente se recomienda una guía.  Sería ideal aplicar la guía propuesta a empresas no involucradas en la encuesta que sirvió para originarla de modo de poder evaluar su efectividad en forma independiente.',\n",
              "   'timespan': '2010-07-05'},\n",
              "  {'confidence': '5',\n",
              "   'evaluation': '1',\n",
              "   'id': 3,\n",
              "   'lan': 'es',\n",
              "   'orientation': '1',\n",
              "   'remarks': '',\n",
              "   'text': '- El tema es muy interesante y puede ser de mucha ayuda una guía para incorporar prácticas de seguridad. - La presentación (descripción, etapa y uso) de las 9 prácticas para el desarrollo de software seguro.  - El “estado real del desarrollo de software en Chile” (como lo indica en su paper) no se puede lograr con solamente 22 encuestas de un total de 50. - Presenta nueve tablas que corresponden a las prácticas para el desarrollo de software seguro, pero la guía presenta 10 prácticas. ¿explica por qué? - Sugiero mejorar la guía, el mayor aporte está en la secuencia de incorporación que propone.  Además, no debería explicar la práctica en Observaciones ni diferenciarla con otras prácticas en esa columna, sino que debería dar sugerencias de cómo aplicarla. - En el texto indica “Más adelante, se presentan además tres prácticas extras…” ¿cuáles son o no leí correctamente? - De acuerdo a formato, poner como mínimo 5 palabras clave. - Sugiero mencionar las prácticas antes de mostrar cada tabla. - Algunas referencias están incompletas, por ejemplo, falta año en referencia 17, falta año y tipo de evento en referencia 11, falta editorial en referencia 19 (¿es un libro?) - Algunos títulos llevan una coma dentro de las comillas, ejemplo, referencia 1',\n",
              "   'timespan': '2010-07-05'}]}"
            ]
          },
          "metadata": {
            "tags": []
          },
          "execution_count": 168
        }
      ]
    },
    {
      "cell_type": "code",
      "metadata": {
        "id": "mlfLJvptU2ja",
        "colab_type": "code",
        "colab": {}
      },
      "source": [
        "#Extracting the main features of each research paper\n",
        "paper_df = pd.json_normalize(df[\"paper\"])\n"
      ],
      "execution_count": 169,
      "outputs": []
    },
    {
      "cell_type": "code",
      "metadata": {
        "id": "yUYM7KDNcgh1",
        "colab_type": "code",
        "colab": {
          "base_uri": "https://localhost:8080/",
          "height": 206
        },
        "outputId": "4b01edb1-e196-4fdf-a07a-9c8f2d393361"
      },
      "source": [
        "paper_df.head()"
      ],
      "execution_count": 170,
      "outputs": [
        {
          "output_type": "execute_result",
          "data": {
            "text/html": [
              "<div>\n",
              "<style scoped>\n",
              "    .dataframe tbody tr th:only-of-type {\n",
              "        vertical-align: middle;\n",
              "    }\n",
              "\n",
              "    .dataframe tbody tr th {\n",
              "        vertical-align: top;\n",
              "    }\n",
              "\n",
              "    .dataframe thead th {\n",
              "        text-align: right;\n",
              "    }\n",
              "</style>\n",
              "<table border=\"1\" class=\"dataframe\">\n",
              "  <thead>\n",
              "    <tr style=\"text-align: right;\">\n",
              "      <th></th>\n",
              "      <th>id</th>\n",
              "      <th>preliminary_decision</th>\n",
              "      <th>review</th>\n",
              "    </tr>\n",
              "  </thead>\n",
              "  <tbody>\n",
              "    <tr>\n",
              "      <th>0</th>\n",
              "      <td>1</td>\n",
              "      <td>accept</td>\n",
              "      <td>[{'confidence': '4', 'evaluation': '1', 'id': ...</td>\n",
              "    </tr>\n",
              "    <tr>\n",
              "      <th>1</th>\n",
              "      <td>2</td>\n",
              "      <td>accept</td>\n",
              "      <td>[{'confidence': '4', 'evaluation': '2', 'id': ...</td>\n",
              "    </tr>\n",
              "    <tr>\n",
              "      <th>2</th>\n",
              "      <td>3</td>\n",
              "      <td>accept</td>\n",
              "      <td>[{'confidence': '4', 'evaluation': '2', 'id': ...</td>\n",
              "    </tr>\n",
              "    <tr>\n",
              "      <th>3</th>\n",
              "      <td>4</td>\n",
              "      <td>accept</td>\n",
              "      <td>[{'confidence': '4', 'evaluation': '2', 'id': ...</td>\n",
              "    </tr>\n",
              "    <tr>\n",
              "      <th>4</th>\n",
              "      <td>5</td>\n",
              "      <td>accept</td>\n",
              "      <td>[{'confidence': '4', 'evaluation': '2', 'id': ...</td>\n",
              "    </tr>\n",
              "  </tbody>\n",
              "</table>\n",
              "</div>"
            ],
            "text/plain": [
              "   id preliminary_decision                                             review\n",
              "0   1               accept  [{'confidence': '4', 'evaluation': '1', 'id': ...\n",
              "1   2               accept  [{'confidence': '4', 'evaluation': '2', 'id': ...\n",
              "2   3               accept  [{'confidence': '4', 'evaluation': '2', 'id': ...\n",
              "3   4               accept  [{'confidence': '4', 'evaluation': '2', 'id': ...\n",
              "4   5               accept  [{'confidence': '4', 'evaluation': '2', 'id': ..."
            ]
          },
          "metadata": {
            "tags": []
          },
          "execution_count": 170
        }
      ]
    },
    {
      "cell_type": "code",
      "metadata": {
        "id": "9v797fSuYaNK",
        "colab_type": "code",
        "colab": {}
      },
      "source": [
        "#Extracting the main features of review per research paper\n",
        "review_df = pd.json_normalize(paper_df[\"review\"][0])"
      ],
      "execution_count": 172,
      "outputs": []
    },
    {
      "cell_type": "code",
      "metadata": {
        "id": "RCTFEb6qjoZZ",
        "colab_type": "code",
        "colab": {
          "base_uri": "https://localhost:8080/",
          "height": 196
        },
        "outputId": "9156e645-4d84-4ce4-ff9b-c3a9f5e7a006"
      },
      "source": [
        "review_df.head()"
      ],
      "execution_count": 173,
      "outputs": [
        {
          "output_type": "execute_result",
          "data": {
            "text/html": [
              "<div>\n",
              "<style scoped>\n",
              "    .dataframe tbody tr th:only-of-type {\n",
              "        vertical-align: middle;\n",
              "    }\n",
              "\n",
              "    .dataframe tbody tr th {\n",
              "        vertical-align: top;\n",
              "    }\n",
              "\n",
              "    .dataframe thead th {\n",
              "        text-align: right;\n",
              "    }\n",
              "</style>\n",
              "<table border=\"1\" class=\"dataframe\">\n",
              "  <thead>\n",
              "    <tr style=\"text-align: right;\">\n",
              "      <th></th>\n",
              "      <th>confidence</th>\n",
              "      <th>evaluation</th>\n",
              "      <th>id</th>\n",
              "      <th>lan</th>\n",
              "      <th>orientation</th>\n",
              "      <th>remarks</th>\n",
              "      <th>text</th>\n",
              "      <th>timespan</th>\n",
              "    </tr>\n",
              "  </thead>\n",
              "  <tbody>\n",
              "    <tr>\n",
              "      <th>0</th>\n",
              "      <td>4</td>\n",
              "      <td>1</td>\n",
              "      <td>1</td>\n",
              "      <td>es</td>\n",
              "      <td>0</td>\n",
              "      <td></td>\n",
              "      <td>- El artículo aborda un problema contingente y...</td>\n",
              "      <td>2010-07-05</td>\n",
              "    </tr>\n",
              "    <tr>\n",
              "      <th>1</th>\n",
              "      <td>4</td>\n",
              "      <td>1</td>\n",
              "      <td>2</td>\n",
              "      <td>es</td>\n",
              "      <td>1</td>\n",
              "      <td></td>\n",
              "      <td>El artículo presenta recomendaciones prácticas...</td>\n",
              "      <td>2010-07-05</td>\n",
              "    </tr>\n",
              "    <tr>\n",
              "      <th>2</th>\n",
              "      <td>5</td>\n",
              "      <td>1</td>\n",
              "      <td>3</td>\n",
              "      <td>es</td>\n",
              "      <td>1</td>\n",
              "      <td></td>\n",
              "      <td>- El tema es muy interesante y puede ser de mu...</td>\n",
              "      <td>2010-07-05</td>\n",
              "    </tr>\n",
              "  </tbody>\n",
              "</table>\n",
              "</div>"
            ],
            "text/plain": [
              "  confidence  ...    timespan\n",
              "0          4  ...  2010-07-05\n",
              "1          4  ...  2010-07-05\n",
              "2          5  ...  2010-07-05\n",
              "\n",
              "[3 rows x 8 columns]"
            ]
          },
          "metadata": {
            "tags": []
          },
          "execution_count": 173
        }
      ]
    },
    {
      "cell_type": "code",
      "metadata": {
        "id": "1ByIObh_35x8",
        "colab_type": "code",
        "colab": {}
      },
      "source": [
        "#Extracting the main features that I am primarily interested in and combining into final df\n",
        "final_df =pd.concat([review_df.text, paper_df.preliminary_decision,review_df.confidence], axis=1)"
      ],
      "execution_count": 179,
      "outputs": []
    },
    {
      "cell_type": "code",
      "metadata": {
        "id": "jQlakJjo6ATK",
        "colab_type": "code",
        "colab": {
          "base_uri": "https://localhost:8080/",
          "height": 104
        },
        "outputId": "d3692d99-daf6-41fb-b008-0c204f5f2899"
      },
      "source": [
        "final_df.preliminary_decision.value_counts()"
      ],
      "execution_count": 188,
      "outputs": [
        {
          "output_type": "execute_result",
          "data": {
            "text/plain": [
              "accept             115\n",
              "reject              48\n",
              "probably reject      7\n",
              "no decision          2\n",
              "Name: preliminary_decision, dtype: int64"
            ]
          },
          "metadata": {
            "tags": []
          },
          "execution_count": 188
        }
      ]
    },
    {
      "cell_type": "code",
      "metadata": {
        "id": "R5Rnm02o6mkh",
        "colab_type": "code",
        "colab": {}
      },
      "source": [
        ""
      ],
      "execution_count": null,
      "outputs": []
    }
  ]
}