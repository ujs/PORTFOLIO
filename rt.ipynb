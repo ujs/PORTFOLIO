{
  "nbformat": 4,
  "nbformat_minor": 0,
  "metadata": {
    "colab": {
      "name": "rt.ipynb",
      "provenance": [],
      "collapsed_sections": [],
      "authorship_tag": "ABX9TyOJ79N6VXBbUPkiUaYRmhm8"
    },
    "kernelspec": {
      "name": "python3",
      "display_name": "Python 3"
    },
    "accelerator": "TPU"
  },
  "cells": [
    {
      "cell_type": "code",
      "metadata": {
        "id": "cZYJ8BbI8N2f",
        "outputId": "f9494d24-2d52-4f60-fe20-016c02fff88b",
        "colab": {
          "base_uri": "https://localhost:8080/",
          "height": 732
        }
      },
      "source": [
        "!pip install arviz\n",
        "!pip install pymc3"
      ],
      "execution_count": 1,
      "outputs": [
        {
          "output_type": "stream",
          "text": [
            "Collecting arviz\n",
            "\u001b[?25l  Downloading https://files.pythonhosted.org/packages/a9/05/54183e9e57b0793eceb67361dbf4a7c4ed797ae36a04a3287791a564568c/arviz-0.10.0-py3-none-any.whl (1.5MB)\n",
            "\u001b[K     |████████████████████████████████| 1.5MB 3.4MB/s \n",
            "\u001b[?25hCollecting netcdf4\n",
            "\u001b[?25l  Downloading https://files.pythonhosted.org/packages/09/39/3687b2ba762a709cd97e48dfaf3ae36a78ae603ec3d1487f767ad58a7b2e/netCDF4-1.5.4-cp36-cp36m-manylinux1_x86_64.whl (4.3MB)\n",
            "\u001b[K     |████████████████████████████████| 4.3MB 20.6MB/s \n",
            "\u001b[?25hCollecting xarray>=0.16.1\n",
            "\u001b[?25l  Downloading https://files.pythonhosted.org/packages/7a/cc/62ca520e349e63b05ce43c781757cbd3bea71d83ece96f2176763b57e8c2/xarray-0.16.1-py3-none-any.whl (720kB)\n",
            "\u001b[K     |████████████████████████████████| 727kB 35.4MB/s \n",
            "\u001b[?25hRequirement already satisfied: setuptools>=38.4 in /usr/local/lib/python3.6/dist-packages (from arviz) (50.3.0)\n",
            "Requirement already satisfied: pandas>=0.23 in /usr/local/lib/python3.6/dist-packages (from arviz) (1.1.2)\n",
            "Requirement already satisfied: scipy>=0.19 in /usr/local/lib/python3.6/dist-packages (from arviz) (1.4.1)\n",
            "Requirement already satisfied: numpy>=1.12 in /usr/local/lib/python3.6/dist-packages (from arviz) (1.18.5)\n",
            "Requirement already satisfied: matplotlib>=3.0 in /usr/local/lib/python3.6/dist-packages (from arviz) (3.2.2)\n",
            "Requirement already satisfied: packaging in /usr/local/lib/python3.6/dist-packages (from arviz) (20.4)\n",
            "Collecting cftime\n",
            "\u001b[?25l  Downloading https://files.pythonhosted.org/packages/81/f4/31cb9b65f462ea960bd334c5466313cb7b8af792f272546b68b7868fccd4/cftime-1.2.1-cp36-cp36m-manylinux1_x86_64.whl (287kB)\n",
            "\u001b[K     |████████████████████████████████| 296kB 47.2MB/s \n",
            "\u001b[?25hRequirement already satisfied: pytz>=2017.2 in /usr/local/lib/python3.6/dist-packages (from pandas>=0.23->arviz) (2018.9)\n",
            "Requirement already satisfied: python-dateutil>=2.7.3 in /usr/local/lib/python3.6/dist-packages (from pandas>=0.23->arviz) (2.8.1)\n",
            "Requirement already satisfied: kiwisolver>=1.0.1 in /usr/local/lib/python3.6/dist-packages (from matplotlib>=3.0->arviz) (1.2.0)\n",
            "Requirement already satisfied: pyparsing!=2.0.4,!=2.1.2,!=2.1.6,>=2.0.1 in /usr/local/lib/python3.6/dist-packages (from matplotlib>=3.0->arviz) (2.4.7)\n",
            "Requirement already satisfied: cycler>=0.10 in /usr/local/lib/python3.6/dist-packages (from matplotlib>=3.0->arviz) (0.10.0)\n",
            "Requirement already satisfied: six in /usr/local/lib/python3.6/dist-packages (from packaging->arviz) (1.15.0)\n",
            "Installing collected packages: cftime, netcdf4, xarray, arviz\n",
            "  Found existing installation: xarray 0.15.1\n",
            "    Uninstalling xarray-0.15.1:\n",
            "      Successfully uninstalled xarray-0.15.1\n",
            "Successfully installed arviz-0.10.0 cftime-1.2.1 netcdf4-1.5.4 xarray-0.16.1\n",
            "Requirement already satisfied: pymc3 in /usr/local/lib/python3.6/dist-packages (3.7)\n",
            "Requirement already satisfied: scipy>=0.18.1 in /usr/local/lib/python3.6/dist-packages (from pymc3) (1.4.1)\n",
            "Requirement already satisfied: theano>=1.0.4 in /usr/local/lib/python3.6/dist-packages (from pymc3) (1.0.5)\n",
            "Requirement already satisfied: pandas>=0.18.0 in /usr/local/lib/python3.6/dist-packages (from pymc3) (1.1.2)\n",
            "Requirement already satisfied: tqdm>=4.8.4 in /usr/local/lib/python3.6/dist-packages (from pymc3) (4.41.1)\n",
            "Requirement already satisfied: patsy>=0.4.0 in /usr/local/lib/python3.6/dist-packages (from pymc3) (0.5.1)\n",
            "Requirement already satisfied: h5py>=2.7.0 in /usr/local/lib/python3.6/dist-packages (from pymc3) (2.10.0)\n",
            "Requirement already satisfied: numpy>=1.13.0 in /usr/local/lib/python3.6/dist-packages (from pymc3) (1.18.5)\n",
            "Requirement already satisfied: six>=1.9.0 in /usr/local/lib/python3.6/dist-packages (from theano>=1.0.4->pymc3) (1.15.0)\n",
            "Requirement already satisfied: python-dateutil>=2.7.3 in /usr/local/lib/python3.6/dist-packages (from pandas>=0.18.0->pymc3) (2.8.1)\n",
            "Requirement already satisfied: pytz>=2017.2 in /usr/local/lib/python3.6/dist-packages (from pandas>=0.18.0->pymc3) (2018.9)\n"
          ],
          "name": "stdout"
        }
      ]
    },
    {
      "cell_type": "code",
      "metadata": {
        "id": "ZDZyWkxG7jqp"
      },
      "source": [
        "import pymc3 as pm\n",
        "import pandas as pd\n",
        "import numpy as np\n",
        "import arviz as az\n",
        "from matplotlib import pyplot as plt\n",
        "from matplotlib.dates import date2num, num2date\n",
        "from matplotlib import dates as mdates\n",
        "from matplotlib import ticker\n",
        "from matplotlib.colors import ListedColormap\n",
        "from matplotlib.patches import Patch\n",
        "import seaborn as sns\n",
        "import math\n",
        "from scipy import stats as sps\n",
        "from scipy.interpolate import interp1d\n",
        "\n",
        "from IPython.display import clear_output"
      ],
      "execution_count": 79,
      "outputs": []
    },
    {
      "cell_type": "code",
      "metadata": {
        "id": "QRNmcaNt8YUV"
      },
      "source": [
        "#Load and preprocess data\n",
        "\n",
        "def get_raw_covidtracking_data(url = 'https://covid.ourworldindata.org/data/owid-covid-data.csv'):\n",
        "  \"\"\"Loads data from source to dataframe\"\"\"\n",
        "  data = pd.read_csv(url)\n",
        "  return data\n",
        "\n",
        "def process_covidtracking_data(data: pd.DataFrame):\n",
        "  \"\"\"Process raw data before feeding into the generative model\"\"\"\n",
        "  #Set date as index\n",
        "  data = data.set_index([\"location\",\"date\"]).sort_index()\n",
        "  #Remove all columns except 'total_cases', 'total_tests'\n",
        "  data = data[['total_cases', 'total_tests']]\n",
        "  #Handle missing values\n",
        "  data.dropna(subset = ['total_cases', 'total_tests'], inplace = True)\n",
        "  return data\n",
        "\n",
        "def get_and_process_covidtracking_data(country = ['Canada']):\n",
        "    data = get_raw_covidtracking_data()\n",
        "    data = data[data.location.isin(country)]\n",
        "    data = process_covidtracking_data(data)\n",
        "    return data"
      ],
      "execution_count": 55,
      "outputs": []
    },
    {
      "cell_type": "code",
      "metadata": {
        "id": "jjUEXktRffqc"
      },
      "source": [
        "#EDA\n",
        "df = get_and_process_covidtracking_data(['India','China'])"
      ],
      "execution_count": 56,
      "outputs": []
    },
    {
      "cell_type": "code",
      "metadata": {
        "id": "Pm0JpPfTurnR",
        "outputId": "475b1273-76a5-4ecf-de57-d38d4a6ae9a7",
        "colab": {
          "base_uri": "https://localhost:8080/",
          "height": 455
        }
      },
      "source": [
        "df"
      ],
      "execution_count": 58,
      "outputs": [
        {
          "output_type": "execute_result",
          "data": {
            "text/html": [
              "<div>\n",
              "<style scoped>\n",
              "    .dataframe tbody tr th:only-of-type {\n",
              "        vertical-align: middle;\n",
              "    }\n",
              "\n",
              "    .dataframe tbody tr th {\n",
              "        vertical-align: top;\n",
              "    }\n",
              "\n",
              "    .dataframe thead th {\n",
              "        text-align: right;\n",
              "    }\n",
              "</style>\n",
              "<table border=\"1\" class=\"dataframe\">\n",
              "  <thead>\n",
              "    <tr style=\"text-align: right;\">\n",
              "      <th></th>\n",
              "      <th></th>\n",
              "      <th>total_cases</th>\n",
              "      <th>total_tests</th>\n",
              "    </tr>\n",
              "    <tr>\n",
              "      <th>location</th>\n",
              "      <th>date</th>\n",
              "      <th></th>\n",
              "      <th></th>\n",
              "    </tr>\n",
              "  </thead>\n",
              "  <tbody>\n",
              "    <tr>\n",
              "      <th rowspan=\"2\" valign=\"top\">China</th>\n",
              "      <th>2020-06-24</th>\n",
              "      <td>84653.0</td>\n",
              "      <td>90000000.0</td>\n",
              "    </tr>\n",
              "    <tr>\n",
              "      <th>2020-08-06</th>\n",
              "      <td>88328.0</td>\n",
              "      <td>160000000.0</td>\n",
              "    </tr>\n",
              "    <tr>\n",
              "      <th rowspan=\"9\" valign=\"top\">India</th>\n",
              "      <th>2020-03-13</th>\n",
              "      <td>75.0</td>\n",
              "      <td>6500.0</td>\n",
              "    </tr>\n",
              "    <tr>\n",
              "      <th>2020-03-18</th>\n",
              "      <td>137.0</td>\n",
              "      <td>13125.0</td>\n",
              "    </tr>\n",
              "    <tr>\n",
              "      <th>2020-03-19</th>\n",
              "      <td>165.0</td>\n",
              "      <td>13316.0</td>\n",
              "    </tr>\n",
              "    <tr>\n",
              "      <th>...</th>\n",
              "      <td>...</td>\n",
              "      <td>...</td>\n",
              "    </tr>\n",
              "    <tr>\n",
              "      <th>2020-10-11</th>\n",
              "      <td>7053806.0</td>\n",
              "      <td>86877242.0</td>\n",
              "    </tr>\n",
              "    <tr>\n",
              "      <th>2020-10-12</th>\n",
              "      <td>7120538.0</td>\n",
              "      <td>87872093.0</td>\n",
              "    </tr>\n",
              "    <tr>\n",
              "      <th>2020-10-13</th>\n",
              "      <td>7175880.0</td>\n",
              "      <td>88945107.0</td>\n",
              "    </tr>\n",
              "    <tr>\n",
              "      <th>2020-10-14</th>\n",
              "      <td>7239389.0</td>\n",
              "      <td>90090122.0</td>\n",
              "    </tr>\n",
              "    <tr>\n",
              "      <th>2020-10-15</th>\n",
              "      <td>7307097.0</td>\n",
              "      <td>91226305.0</td>\n",
              "    </tr>\n",
              "  </tbody>\n",
              "</table>\n",
              "<p>207 rows × 2 columns</p>\n",
              "</div>"
            ],
            "text/plain": [
              "                     total_cases  total_tests\n",
              "location date                                \n",
              "China    2020-06-24      84653.0   90000000.0\n",
              "         2020-08-06      88328.0  160000000.0\n",
              "India    2020-03-13         75.0       6500.0\n",
              "         2020-03-18        137.0      13125.0\n",
              "         2020-03-19        165.0      13316.0\n",
              "...                          ...          ...\n",
              "         2020-10-11    7053806.0   86877242.0\n",
              "         2020-10-12    7120538.0   87872093.0\n",
              "         2020-10-13    7175880.0   88945107.0\n",
              "         2020-10-14    7239389.0   90090122.0\n",
              "         2020-10-15    7307097.0   91226305.0\n",
              "\n",
              "[207 rows x 2 columns]"
            ]
          },
          "metadata": {
            "tags": []
          },
          "execution_count": 58
        }
      ]
    },
    {
      "cell_type": "code",
      "metadata": {
        "id": "Wi2Sj8Phflo0",
        "outputId": "9c3dc902-af9e-4eea-9eba-afd7bed8b203",
        "colab": {
          "base_uri": "https://localhost:8080/",
          "height": 34
        }
      },
      "source": [
        "\n",
        "df.shape\n"
      ],
      "execution_count": 54,
      "outputs": [
        {
          "output_type": "execute_result",
          "data": {
            "text/plain": [
              "(207, 2)"
            ]
          },
          "metadata": {
            "tags": []
          },
          "execution_count": 54
        }
      ]
    },
    {
      "cell_type": "code",
      "metadata": {
        "id": "om1tz98OjUIi",
        "outputId": "c180ac93-e6cd-496d-ac31-c08f07772263",
        "colab": {
          "base_uri": "https://localhost:8080/",
          "height": 746
        }
      },
      "source": [
        "df[df.location == 'Canada'].isna().mean() *100"
      ],
      "execution_count": 11,
      "outputs": [
        {
          "output_type": "execute_result",
          "data": {
            "text/plain": [
              "iso_code                             0.000000\n",
              "continent                            0.000000\n",
              "location                             0.000000\n",
              "date                                 0.000000\n",
              "total_cases                          8.934708\n",
              "new_cases                            0.000000\n",
              "new_cases_smoothed                   2.061856\n",
              "total_deaths                        24.054983\n",
              "new_deaths                           0.000000\n",
              "new_deaths_smoothed                  2.061856\n",
              "total_cases_per_million              8.934708\n",
              "new_cases_per_million                0.000000\n",
              "new_cases_smoothed_per_million       2.061856\n",
              "total_deaths_per_million            24.054983\n",
              "new_deaths_per_million               0.000000\n",
              "new_deaths_smoothed_per_million      2.061856\n",
              "new_tests                           33.676976\n",
              "total_tests                         30.240550\n",
              "total_tests_per_thousand            30.240550\n",
              "new_tests_per_thousand              33.676976\n",
              "new_tests_smoothed                  29.209622\n",
              "new_tests_smoothed_per_thousand     29.209622\n",
              "tests_per_case                      29.209622\n",
              "positive_rate                       29.209622\n",
              "tests_units                         26.804124\n",
              "stringency_index                     0.687285\n",
              "population                           0.000000\n",
              "population_density                   0.000000\n",
              "median_age                           0.000000\n",
              "aged_65_older                        0.000000\n",
              "aged_70_older                        0.000000\n",
              "gdp_per_capita                       0.000000\n",
              "extreme_poverty                      0.000000\n",
              "cardiovasc_death_rate                0.000000\n",
              "diabetes_prevalence                  0.000000\n",
              "female_smokers                       0.000000\n",
              "male_smokers                         0.000000\n",
              "handwashing_facilities             100.000000\n",
              "hospital_beds_per_thousand           0.000000\n",
              "life_expectancy                      0.000000\n",
              "human_development_index              0.000000\n",
              "dtype: float64"
            ]
          },
          "metadata": {
            "tags": []
          },
          "execution_count": 11
        }
      ]
    },
    {
      "cell_type": "code",
      "metadata": {
        "id": "HRnSAv7bu5OO"
      },
      "source": [
        "df_can = df[df.location == 'Canada']"
      ],
      "execution_count": 13,
      "outputs": []
    },
    {
      "cell_type": "code",
      "metadata": {
        "id": "rydB5qFiEnNN",
        "outputId": "a71d75f3-f882-43ce-bc8f-309060db8630",
        "colab": {
          "base_uri": "https://localhost:8080/",
          "height": 34
        }
      },
      "source": [
        "df_can.shape"
      ],
      "execution_count": 31,
      "outputs": [
        {
          "output_type": "execute_result",
          "data": {
            "text/plain": [
              "(291, 41)"
            ]
          },
          "metadata": {
            "tags": []
          },
          "execution_count": 31
        }
      ]
    },
    {
      "cell_type": "code",
      "metadata": {
        "id": "vBJeZOAVvcIy",
        "outputId": "197b3778-269a-4b78-97ec-f840ff89d8a2",
        "colab": {
          "base_uri": "https://localhost:8080/",
          "height": 457
        }
      },
      "source": [
        "fig = plt.figure(figsize=(12,7))\n",
        "ncols = 3\n",
        "nrows = math.ceil(6/ncols)\n",
        "\n",
        "for i,column in enumerate(['total_cases', 'new_cases', 'total_deaths', 'new_deaths', 'total_tests','positive_rate']):\n",
        "  ax = fig.add_subplot(nrows, ncols, i + 1)\n",
        "  ax.set_title(column)\n",
        "  df_can[column].hist(axes = ax, color = 'teal')\n",
        "plt.subplots_adjust(hspace = 0.3)"
      ],
      "execution_count": 17,
      "outputs": [
        {
          "output_type": "display_data",
          "data": {
            "image/png": "[encoded data removed]",
            "text/plain": [
              "<Figure size 864x504 with 6 Axes>"
            ]
          },
          "metadata": {
            "tags": [],
            "needs_background": "light"
          }
        }
      ]
    },
    {
      "cell_type": "code",
      "metadata": {
        "id": "byj4QYFAx2Rn",
        "outputId": "fd3d0e17-859a-4850-c396-93496d3fc663",
        "colab": {
          "base_uri": "https://localhost:8080/",
          "height": 313
        }
      },
      "source": [
        "data = get_raw_covidtracking_data(\"https://covidtracking.com/api/v1/states/daily.csv\")\n",
        "data.head()"
      ],
      "execution_count": 22,
      "outputs": [
        {
          "output_type": "execute_result",
          "data": {
            "text/html": [
              "<div>\n",
              "<style scoped>\n",
              "    .dataframe tbody tr th:only-of-type {\n",
              "        vertical-align: middle;\n",
              "    }\n",
              "\n",
              "    .dataframe tbody tr th {\n",
              "        vertical-align: top;\n",
              "    }\n",
              "\n",
              "    .dataframe thead th {\n",
              "        text-align: right;\n",
              "    }\n",
              "</style>\n",
              "<table border=\"1\" class=\"dataframe\">\n",
              "  <thead>\n",
              "    <tr style=\"text-align: right;\">\n",
              "      <th></th>\n",
              "      <th>date</th>\n",
              "      <th>state</th>\n",
              "      <th>positive</th>\n",
              "      <th>probableCases</th>\n",
              "      <th>negative</th>\n",
              "      <th>pending</th>\n",
              "      <th>totalTestResultsSource</th>\n",
              "      <th>totalTestResults</th>\n",
              "      <th>hospitalizedCurrently</th>\n",
              "      <th>hospitalizedCumulative</th>\n",
              "      <th>inIcuCurrently</th>\n",
              "      <th>inIcuCumulative</th>\n",
              "      <th>onVentilatorCurrently</th>\n",
              "      <th>onVentilatorCumulative</th>\n",
              "      <th>recovered</th>\n",
              "      <th>dataQualityGrade</th>\n",
              "      <th>lastUpdateEt</th>\n",
              "      <th>dateModified</th>\n",
              "      <th>checkTimeEt</th>\n",
              "      <th>death</th>\n",
              "      <th>hospitalized</th>\n",
              "      <th>dateChecked</th>\n",
              "      <th>totalTestsViral</th>\n",
              "      <th>positiveTestsViral</th>\n",
              "      <th>negativeTestsViral</th>\n",
              "      <th>positiveCasesViral</th>\n",
              "      <th>deathConfirmed</th>\n",
              "      <th>deathProbable</th>\n",
              "      <th>totalTestEncountersViral</th>\n",
              "      <th>totalTestsPeopleViral</th>\n",
              "      <th>totalTestsAntibody</th>\n",
              "      <th>positiveTestsAntibody</th>\n",
              "      <th>negativeTestsAntibody</th>\n",
              "      <th>totalTestsPeopleAntibody</th>\n",
              "      <th>positiveTestsPeopleAntibody</th>\n",
              "      <th>negativeTestsPeopleAntibody</th>\n",
              "      <th>totalTestsPeopleAntigen</th>\n",
              "      <th>positiveTestsPeopleAntigen</th>\n",
              "      <th>totalTestsAntigen</th>\n",
              "      <th>positiveTestsAntigen</th>\n",
              "      <th>fips</th>\n",
              "      <th>positiveIncrease</th>\n",
              "      <th>negativeIncrease</th>\n",
              "      <th>total</th>\n",
              "      <th>totalTestResultsIncrease</th>\n",
              "      <th>posNeg</th>\n",
              "      <th>deathIncrease</th>\n",
              "      <th>hospitalizedIncrease</th>\n",
              "      <th>hash</th>\n",
              "      <th>commercialScore</th>\n",
              "      <th>negativeRegularScore</th>\n",
              "      <th>negativeScore</th>\n",
              "      <th>positiveScore</th>\n",
              "      <th>score</th>\n",
              "      <th>grade</th>\n",
              "    </tr>\n",
              "  </thead>\n",
              "  <tbody>\n",
              "    <tr>\n",
              "      <th>0</th>\n",
              "      <td>20201015</td>\n",
              "      <td>AK</td>\n",
              "      <td>11348.0</td>\n",
              "      <td>NaN</td>\n",
              "      <td>508113.0</td>\n",
              "      <td>NaN</td>\n",
              "      <td>totalTestsViral</td>\n",
              "      <td>519461.0</td>\n",
              "      <td>60.0</td>\n",
              "      <td>NaN</td>\n",
              "      <td>NaN</td>\n",
              "      <td>NaN</td>\n",
              "      <td>7.0</td>\n",
              "      <td>NaN</td>\n",
              "      <td>6066.0</td>\n",
              "      <td>A</td>\n",
              "      <td>10/15/2020 03:59</td>\n",
              "      <td>2020-10-15T03:59:00Z</td>\n",
              "      <td>10/14 23:59</td>\n",
              "      <td>65.0</td>\n",
              "      <td>NaN</td>\n",
              "      <td>2020-10-15T03:59:00Z</td>\n",
              "      <td>519461.0</td>\n",
              "      <td>10178.0</td>\n",
              "      <td>508970.0</td>\n",
              "      <td>11348.0</td>\n",
              "      <td>65.0</td>\n",
              "      <td>NaN</td>\n",
              "      <td>NaN</td>\n",
              "      <td>NaN</td>\n",
              "      <td>NaN</td>\n",
              "      <td>NaN</td>\n",
              "      <td>NaN</td>\n",
              "      <td>NaN</td>\n",
              "      <td>NaN</td>\n",
              "      <td>NaN</td>\n",
              "      <td>NaN</td>\n",
              "      <td>NaN</td>\n",
              "      <td>NaN</td>\n",
              "      <td>NaN</td>\n",
              "      <td>2</td>\n",
              "      <td>165</td>\n",
              "      <td>2119</td>\n",
              "      <td>519461</td>\n",
              "      <td>2284</td>\n",
              "      <td>519461</td>\n",
              "      <td>1</td>\n",
              "      <td>0</td>\n",
              "      <td>be25105ae62bda9a8c21c7821ab39f0ecd847747</td>\n",
              "      <td>0</td>\n",
              "      <td>0</td>\n",
              "      <td>0</td>\n",
              "      <td>0</td>\n",
              "      <td>0</td>\n",
              "      <td>NaN</td>\n",
              "    </tr>\n",
              "    <tr>\n",
              "      <th>1</th>\n",
              "      <td>20201015</td>\n",
              "      <td>AL</td>\n",
              "      <td>169162.0</td>\n",
              "      <td>20503.0</td>\n",
              "      <td>1085415.0</td>\n",
              "      <td>NaN</td>\n",
              "      <td>totalTestsViral</td>\n",
              "      <td>1234074.0</td>\n",
              "      <td>844.0</td>\n",
              "      <td>18635.0</td>\n",
              "      <td>NaN</td>\n",
              "      <td>1914.0</td>\n",
              "      <td>NaN</td>\n",
              "      <td>1091.0</td>\n",
              "      <td>74238.0</td>\n",
              "      <td>A</td>\n",
              "      <td>10/15/2020 11:00</td>\n",
              "      <td>2020-10-15T11:00:00Z</td>\n",
              "      <td>10/15 07:00</td>\n",
              "      <td>2756.0</td>\n",
              "      <td>18635.0</td>\n",
              "      <td>2020-10-15T11:00:00Z</td>\n",
              "      <td>1234074.0</td>\n",
              "      <td>NaN</td>\n",
              "      <td>NaN</td>\n",
              "      <td>148659.0</td>\n",
              "      <td>2590.0</td>\n",
              "      <td>166.0</td>\n",
              "      <td>NaN</td>\n",
              "      <td>NaN</td>\n",
              "      <td>NaN</td>\n",
              "      <td>NaN</td>\n",
              "      <td>NaN</td>\n",
              "      <td>60916.0</td>\n",
              "      <td>NaN</td>\n",
              "      <td>NaN</td>\n",
              "      <td>NaN</td>\n",
              "      <td>NaN</td>\n",
              "      <td>NaN</td>\n",
              "      <td>NaN</td>\n",
              "      <td>1</td>\n",
              "      <td>1185</td>\n",
              "      <td>6939</td>\n",
              "      <td>1254577</td>\n",
              "      <td>7853</td>\n",
              "      <td>1254577</td>\n",
              "      <td>50</td>\n",
              "      <td>0</td>\n",
              "      <td>65a2155bebc9bb83509af4218b9d2b9ba7aa19de</td>\n",
              "      <td>0</td>\n",
              "      <td>0</td>\n",
              "      <td>0</td>\n",
              "      <td>0</td>\n",
              "      <td>0</td>\n",
              "      <td>NaN</td>\n",
              "    </tr>\n",
              "    <tr>\n",
              "      <th>2</th>\n",
              "      <td>20201015</td>\n",
              "      <td>AR</td>\n",
              "      <td>96524.0</td>\n",
              "      <td>5221.0</td>\n",
              "      <td>1094699.0</td>\n",
              "      <td>NaN</td>\n",
              "      <td>totalTestsViral</td>\n",
              "      <td>1186002.0</td>\n",
              "      <td>587.0</td>\n",
              "      <td>6199.0</td>\n",
              "      <td>236.0</td>\n",
              "      <td>NaN</td>\n",
              "      <td>103.0</td>\n",
              "      <td>760.0</td>\n",
              "      <td>86447.0</td>\n",
              "      <td>A+</td>\n",
              "      <td>10/15/2020 00:00</td>\n",
              "      <td>2020-10-15T00:00:00Z</td>\n",
              "      <td>10/14 20:00</td>\n",
              "      <td>1645.0</td>\n",
              "      <td>6199.0</td>\n",
              "      <td>2020-10-15T00:00:00Z</td>\n",
              "      <td>1186002.0</td>\n",
              "      <td>NaN</td>\n",
              "      <td>1094699.0</td>\n",
              "      <td>91303.0</td>\n",
              "      <td>1494.0</td>\n",
              "      <td>151.0</td>\n",
              "      <td>NaN</td>\n",
              "      <td>NaN</td>\n",
              "      <td>NaN</td>\n",
              "      <td>NaN</td>\n",
              "      <td>NaN</td>\n",
              "      <td>NaN</td>\n",
              "      <td>NaN</td>\n",
              "      <td>NaN</td>\n",
              "      <td>32741.0</td>\n",
              "      <td>5789.0</td>\n",
              "      <td>21856.0</td>\n",
              "      <td>3300.0</td>\n",
              "      <td>5</td>\n",
              "      <td>1278</td>\n",
              "      <td>11592</td>\n",
              "      <td>1191223</td>\n",
              "      <td>12660</td>\n",
              "      <td>1191223</td>\n",
              "      <td>11</td>\n",
              "      <td>51</td>\n",
              "      <td>9e5ef136e493f90d74a1d610451f2c261f5dcaac</td>\n",
              "      <td>0</td>\n",
              "      <td>0</td>\n",
              "      <td>0</td>\n",
              "      <td>0</td>\n",
              "      <td>0</td>\n",
              "      <td>NaN</td>\n",
              "    </tr>\n",
              "    <tr>\n",
              "      <th>3</th>\n",
              "      <td>20201015</td>\n",
              "      <td>AS</td>\n",
              "      <td>0.0</td>\n",
              "      <td>NaN</td>\n",
              "      <td>1616.0</td>\n",
              "      <td>NaN</td>\n",
              "      <td>totalTestsViral</td>\n",
              "      <td>1616.0</td>\n",
              "      <td>NaN</td>\n",
              "      <td>NaN</td>\n",
              "      <td>NaN</td>\n",
              "      <td>NaN</td>\n",
              "      <td>NaN</td>\n",
              "      <td>NaN</td>\n",
              "      <td>NaN</td>\n",
              "      <td>D</td>\n",
              "      <td>10/1/2020 00:00</td>\n",
              "      <td>2020-10-01T00:00:00Z</td>\n",
              "      <td>09/30 20:00</td>\n",
              "      <td>0.0</td>\n",
              "      <td>NaN</td>\n",
              "      <td>2020-10-01T00:00:00Z</td>\n",
              "      <td>1616.0</td>\n",
              "      <td>NaN</td>\n",
              "      <td>NaN</td>\n",
              "      <td>0.0</td>\n",
              "      <td>NaN</td>\n",
              "      <td>NaN</td>\n",
              "      <td>NaN</td>\n",
              "      <td>NaN</td>\n",
              "      <td>NaN</td>\n",
              "      <td>NaN</td>\n",
              "      <td>NaN</td>\n",
              "      <td>NaN</td>\n",
              "      <td>NaN</td>\n",
              "      <td>NaN</td>\n",
              "      <td>NaN</td>\n",
              "      <td>NaN</td>\n",
              "      <td>NaN</td>\n",
              "      <td>NaN</td>\n",
              "      <td>60</td>\n",
              "      <td>0</td>\n",
              "      <td>0</td>\n",
              "      <td>1616</td>\n",
              "      <td>0</td>\n",
              "      <td>1616</td>\n",
              "      <td>0</td>\n",
              "      <td>0</td>\n",
              "      <td>dd761d084c96db69d91d8b752bc74edca94e3608</td>\n",
              "      <td>0</td>\n",
              "      <td>0</td>\n",
              "      <td>0</td>\n",
              "      <td>0</td>\n",
              "      <td>0</td>\n",
              "      <td>NaN</td>\n",
              "    </tr>\n",
              "    <tr>\n",
              "      <th>4</th>\n",
              "      <td>20201015</td>\n",
              "      <td>AZ</td>\n",
              "      <td>228748.0</td>\n",
              "      <td>5056.0</td>\n",
              "      <td>1377341.0</td>\n",
              "      <td>NaN</td>\n",
              "      <td>totalTestsPeopleViral</td>\n",
              "      <td>1601033.0</td>\n",
              "      <td>726.0</td>\n",
              "      <td>20462.0</td>\n",
              "      <td>173.0</td>\n",
              "      <td>NaN</td>\n",
              "      <td>75.0</td>\n",
              "      <td>NaN</td>\n",
              "      <td>37782.0</td>\n",
              "      <td>A+</td>\n",
              "      <td>10/15/2020 00:00</td>\n",
              "      <td>2020-10-15T00:00:00Z</td>\n",
              "      <td>10/14 20:00</td>\n",
              "      <td>5789.0</td>\n",
              "      <td>20462.0</td>\n",
              "      <td>2020-10-15T00:00:00Z</td>\n",
              "      <td>NaN</td>\n",
              "      <td>NaN</td>\n",
              "      <td>NaN</td>\n",
              "      <td>223692.0</td>\n",
              "      <td>5502.0</td>\n",
              "      <td>287.0</td>\n",
              "      <td>NaN</td>\n",
              "      <td>1601033.0</td>\n",
              "      <td>304875.0</td>\n",
              "      <td>NaN</td>\n",
              "      <td>NaN</td>\n",
              "      <td>NaN</td>\n",
              "      <td>NaN</td>\n",
              "      <td>NaN</td>\n",
              "      <td>NaN</td>\n",
              "      <td>NaN</td>\n",
              "      <td>NaN</td>\n",
              "      <td>NaN</td>\n",
              "      <td>4</td>\n",
              "      <td>1113</td>\n",
              "      <td>10731</td>\n",
              "      <td>1606089</td>\n",
              "      <td>11831</td>\n",
              "      <td>1606089</td>\n",
              "      <td>17</td>\n",
              "      <td>96</td>\n",
              "      <td>bad56e43be843d7fa36f41f5ce020a95d7c4abac</td>\n",
              "      <td>0</td>\n",
              "      <td>0</td>\n",
              "      <td>0</td>\n",
              "      <td>0</td>\n",
              "      <td>0</td>\n",
              "      <td>NaN</td>\n",
              "    </tr>\n",
              "  </tbody>\n",
              "</table>\n",
              "</div>"
            ],
            "text/plain": [
              "       date state  positive  ...  positiveScore  score  grade\n",
              "0  20201015    AK   11348.0  ...              0      0    NaN\n",
              "1  20201015    AL  169162.0  ...              0      0    NaN\n",
              "2  20201015    AR   96524.0  ...              0      0    NaN\n",
              "3  20201015    AS       0.0  ...              0      0    NaN\n",
              "4  20201015    AZ  228748.0  ...              0      0    NaN\n",
              "\n",
              "[5 rows x 55 columns]"
            ]
          },
          "metadata": {
            "tags": []
          },
          "execution_count": 22
        }
      ]
    },
    {
      "cell_type": "code",
      "metadata": {
        "id": "3i68z0qgx4p1"
      },
      "source": [
        "data = data.rename(columns={\"state\": \"region\"})\n",
        "data[\"date\"] = pd.to_datetime(data[\"date\"], format=\"%Y%m%d\")\n",
        "data = data.set_index([\"region\", \"date\"]).sort_index()\n",
        "data = data[[\"positive\", \"total\"]]"
      ],
      "execution_count": 23,
      "outputs": []
    },
    {
      "cell_type": "code",
      "metadata": {
        "id": "lwpFaoyI0pf1"
      },
      "source": [
        "data = data.drop([\"MP\", \"GU\", \"AS\", \"PR\", \"VI\"])"
      ],
      "execution_count": 25,
      "outputs": []
    },
    {
      "cell_type": "code",
      "metadata": {
        "id": "b_T7EBg91LcB",
        "outputId": "b1b29c0b-161b-44fc-cea3-f3df930da1c8",
        "colab": {
          "base_uri": "https://localhost:8080/",
          "height": 243
        }
      },
      "source": [
        "idx = pd.IndexSlice\n",
        "data.loc[idx[\"MI\", pd.Timestamp(\"2020-06-05\") :], \"positive\"]"
      ],
      "execution_count": 30,
      "outputs": [
        {
          "output_type": "execute_result",
          "data": {
            "text/plain": [
              "region  date      \n",
              "MI      2020-06-05     64821.0\n",
              "        2020-06-06     64914.0\n",
              "        2020-06-07     64969.0\n",
              "        2020-06-08     65104.0\n",
              "        2020-06-09     65167.0\n",
              "                        ...   \n",
              "        2020-10-11    149464.0\n",
              "        2020-10-12    151396.0\n",
              "        2020-10-13    152862.0\n",
              "        2020-10-14    154455.0\n",
              "        2020-10-15    156913.0\n",
              "Name: positive, Length: 133, dtype: float64"
            ]
          },
          "metadata": {
            "tags": []
          },
          "execution_count": 30
        }
      ]
    },
    {
      "cell_type": "code",
      "metadata": {
        "id": "uz05aZ1x1LfV"
      },
      "source": [
        "url = 'https://covidtracking.com/api/v1/states/daily.csv'\n",
        "states = pd.read_csv(url,\n",
        "                     usecols=['date', 'state', 'positive'],\n",
        "                     parse_dates=['date'],\n",
        "                     index_col=['state', 'date'],\n",
        "                     squeeze=True).sort_index()"
      ],
      "execution_count": 9,
      "outputs": []
    },
    {
      "cell_type": "code",
      "metadata": {
        "id": "RvKaMWJx1Jmq",
        "outputId": "26accbb9-21f2-4b54-89ed-26ffc40c3c2c",
        "colab": {
          "base_uri": "https://localhost:8080/",
          "height": 139
        }
      },
      "source": [
        "states.head()"
      ],
      "execution_count": 19,
      "outputs": [
        {
          "output_type": "execute_result",
          "data": {
            "text/plain": [
              "state  date      \n",
              "AK     2020-03-06    0.0\n",
              "       2020-03-07    0.0\n",
              "       2020-03-08    0.0\n",
              "       2020-03-09    0.0\n",
              "       2020-03-10    0.0\n",
              "Name: positive, dtype: float64"
            ]
          },
          "metadata": {
            "tags": []
          },
          "execution_count": 19
        }
      ]
    },
    {
      "cell_type": "code",
      "metadata": {
        "id": "RwtUrZDq-Gc6"
      },
      "source": [
        "new_cases = states.diff()"
      ],
      "execution_count": 17,
      "outputs": []
    },
    {
      "cell_type": "code",
      "metadata": {
        "id": "XSrrMnMcCYQm",
        "outputId": "45586978-7908-462a-808b-b81e357b34a3",
        "colab": {
          "base_uri": "https://localhost:8080/",
          "height": 243
        }
      },
      "source": [
        "new_cases"
      ],
      "execution_count": 18,
      "outputs": [
        {
          "output_type": "execute_result",
          "data": {
            "text/plain": [
              "state  date      \n",
              "AK     2020-03-06      NaN\n",
              "       2020-03-07      0.0\n",
              "       2020-03-08      0.0\n",
              "       2020-03-09      0.0\n",
              "       2020-03-10      0.0\n",
              "                     ...  \n",
              "WY     2020-10-14    213.0\n",
              "       2020-10-15    198.0\n",
              "       2020-10-16    290.0\n",
              "       2020-10-17    151.0\n",
              "       2020-10-18    209.0\n",
              "Name: positive, Length: 12821, dtype: float64"
            ]
          },
          "metadata": {
            "tags": []
          },
          "execution_count": 18
        }
      ]
    },
    {
      "cell_type": "markdown",
      "metadata": {
        "id": "yEWfacdKMBNL"
      },
      "source": [
        "Main"
      ]
    },
    {
      "cell_type": "code",
      "metadata": {
        "id": "ceqT5mL2MCf3"
      },
      "source": [
        "url = 'https://covid.ourworldindata.org/data/owid-covid-data.csv'\n",
        "data = pd.read_csv(url,\n",
        "                     usecols=['date', 'location', 'total_cases'],\n",
        "                     parse_dates=['date'],\n",
        "                     index_col=['location', 'date'],\n",
        "                     squeeze=True).sort_index()\n"
      ],
      "execution_count": 54,
      "outputs": []
    },
    {
      "cell_type": "code",
      "metadata": {
        "id": "aIvzIAGKMIga",
        "outputId": "462b73f6-eb8b-48c6-f5b6-86d16d77adec",
        "colab": {
          "base_uri": "https://localhost:8080/",
          "height": 399
        }
      },
      "source": [
        "data.index"
      ],
      "execution_count": 57,
      "outputs": [
        {
          "output_type": "execute_result",
          "data": {
            "text/plain": [
              "MultiIndex([('Afghanistan', '2019-12-31'),\n",
              "            ('Afghanistan', '2020-01-01'),\n",
              "            ('Afghanistan', '2020-01-02'),\n",
              "            ('Afghanistan', '2020-01-03'),\n",
              "            ('Afghanistan', '2020-01-04'),\n",
              "            ('Afghanistan', '2020-01-05'),\n",
              "            ('Afghanistan', '2020-01-06'),\n",
              "            ('Afghanistan', '2020-01-07'),\n",
              "            ('Afghanistan', '2020-01-08'),\n",
              "            ('Afghanistan', '2020-01-09'),\n",
              "            ...\n",
              "            (   'Zimbabwe', '2020-10-10'),\n",
              "            (   'Zimbabwe', '2020-10-11'),\n",
              "            (   'Zimbabwe', '2020-10-12'),\n",
              "            (   'Zimbabwe', '2020-10-13'),\n",
              "            (   'Zimbabwe', '2020-10-14'),\n",
              "            (   'Zimbabwe', '2020-10-15'),\n",
              "            (   'Zimbabwe', '2020-10-16'),\n",
              "            (   'Zimbabwe', '2020-10-17'),\n",
              "            (   'Zimbabwe', '2020-10-18'),\n",
              "            (   'Zimbabwe', '2020-10-19')],\n",
              "           names=['location', 'date'], length=51166)"
            ]
          },
          "metadata": {
            "tags": []
          },
          "execution_count": 57
        }
      ]
    },
    {
      "cell_type": "code",
      "metadata": {
        "id": "st6DjfMKMS6e"
      },
      "source": [
        "#Prepare cases\n",
        "\n",
        "def prepare_cases(cases, cutoff = 25):\n",
        "  new_cases = cases.diff()\n",
        "\n",
        "  smoothed = new_cases.rolling(7, win_type = 'gaussian', min_periods = 1, center = True).mean(std = 2).round()\n",
        "  idx_start = np.searchsorted(smoothed, cutoff)\n",
        "  smoothed = smoothed.iloc[idx_start:]\n",
        "  original = new_cases.loc[smoothed.index]\n",
        "\n",
        "  return original, smoothed"
      ],
      "execution_count": 88,
      "outputs": []
    },
    {
      "cell_type": "code",
      "metadata": {
        "id": "3NYQeOPcOQas",
        "outputId": "933729b5-ea5c-40c6-b8af-a136986cbc9e",
        "colab": {
          "base_uri": "https://localhost:8080/",
          "height": 316
        }
      },
      "source": [
        "country_name = 'Canada'\n",
        "\n",
        "cases = data.xs(country_name).rename(f\"{country_name} cases\")\n",
        "original, smoothed = prepare_cases(cases)\n",
        "\n",
        "original.plot(title=f\"{country_name} New Cases per Day\",\n",
        "               c='k',\n",
        "               linestyle=':',\n",
        "               alpha=.5,\n",
        "               label='Actual',\n",
        "               legend=True,\n",
        "               figsize=(500/72, 300/72))\n",
        "\n",
        "ax = smoothed.plot(label='Smoothed',\n",
        "                   legend=True)\n",
        "\n",
        "ax.get_figure().set_facecolor('w')\n"
      ],
      "execution_count": 89,
      "outputs": [
        {
          "output_type": "display_data",
          "data": {
            "image/png": "[encoded data removed]",
            "text/plain": [
              "<Figure size 500x300 with 1 Axes>"
            ]
          },
          "metadata": {
            "tags": []
          }
        }
      ]
    },
    {
      "cell_type": "code",
      "metadata": {
        "id": "-Aq3159LWBO_"
      },
      "source": [
        "GAMMA = 1/7\n",
        "R_T_MAX = 12\n",
        "r_t_range = np.linspace(0, R_T_MAX, R_T_MAX*100+1)\n",
        "def get_posteriors(sr, sigma = 0.15):\n",
        "  # Calculate Lambda\n",
        "  lam = sr[:-1].values * np.exp(GAMMA * (r_t_range[:, None] - 1))\n",
        "\n",
        "  #Calculate each days likelihood\n",
        "  likelihoods = pd.DataFrame(data = sps.poisson.pmf(sr[1:], lam),\n",
        "                             index = r_t_range,\n",
        "                             columns = sr.index[1:])\n",
        "  \n",
        "  # Create Gaussian and normalize\n",
        "  process_matrix = sps.norm(loc=r_t_range,\n",
        "                              scale=sigma\n",
        "                             ).pdf(r_t_range[:, None]) \n",
        "\n",
        "  process_matrix /= process_matrix.sum(axis=0)\n",
        "\n",
        "  # (4) Calculate the initial prior\n",
        "    #prior0 = sps.gamma(a=4).pdf(r_t_range)\n",
        "  prior0 = np.ones_like(r_t_range)/len(r_t_range)\n",
        "  prior0 /= prior0.sum()\n",
        "\n",
        "  # Create a DataFrame that will hold our posteriors for each day\n",
        "    # Insert our prior as the first posterior.\n",
        "  posteriors = pd.DataFrame(\n",
        "      index=r_t_range,\n",
        "      columns=sr.index,\n",
        "      data={sr.index[0]: prior0}\n",
        "    )\n",
        "\n",
        "  # We said we'd keep track of the sum of the log of the probability\n",
        "    # of the data for maximum likelihood calculation.\n",
        "  log_likelihood = 0.0\n",
        "\n",
        "    # (5) Iteratively apply Bayes' rule\n",
        "  for previous_day, current_day in zip(sr.index[:-1], sr.index[1:]):\n",
        "\n",
        "        #(5a) Calculate the new prior\n",
        "      current_prior = process_matrix @ posteriors[previous_day]\n",
        "        \n",
        "        #(5b) Calculate the numerator of Bayes' Rule: P(k|R_t)P(R_t)\n",
        "      numerator = likelihoods[current_day] * current_prior\n",
        "        \n",
        "        #(5c) Calcluate the denominator of Bayes' Rule P(k)\n",
        "      denominator = np.sum(numerator)\n",
        "        \n",
        "        # Execute full Bayes' Rule\n",
        "      posteriors[current_day] = numerator/denominator\n",
        "        \n",
        "        # Add to the running sum of log likelihoods\n",
        "      log_likelihood += np.log(denominator)\n",
        "    \n",
        "  return posteriors, log_likelihood\n",
        "\n",
        "\n"
      ],
      "execution_count": 90,
      "outputs": []
    },
    {
      "cell_type": "code",
      "metadata": {
        "id": "Gf2F847lYiC_",
        "outputId": "c3ebff8b-3d29-4adf-c9e0-59b6799cecdd",
        "colab": {
          "base_uri": "https://localhost:8080/",
          "height": 301
        }
      },
      "source": [
        "posteriors, log_likelihood = get_posteriors(smoothed, sigma=.25)\n",
        "\n",
        "\n",
        "ax = posteriors.plot(title=f'{country_name} - Daily Posterior for $R_t$',\n",
        "           legend=False, \n",
        "           lw=1,\n",
        "           c='k',\n",
        "           alpha=.3,\n",
        "           xlim=(0.4,6))\n",
        "\n",
        "ax.set_xlabel('$R_t$');\n",
        "\n"
      ],
      "execution_count": 91,
      "outputs": [
        {
          "output_type": "display_data",
          "data": {
            "image/png": "[encoded data removed]",
            "text/plain": [
              "<Figure size 432x288 with 1 Axes>"
            ]
          },
          "metadata": {
            "tags": [],
            "needs_background": "light"
          }
        }
      ]
    },
    {
      "cell_type": "code",
      "metadata": {
        "id": "rh6ubYaEaByj",
        "outputId": "b0ccd228-3c82-4b06-e6ea-56956c3f7c95",
        "colab": {
          "base_uri": "https://localhost:8080/",
          "height": 238
        }
      },
      "source": [
        "def highest_density_interval(pmf, p=.9, debug=False):\n",
        "    # If we pass a DataFrame, just call this recursively on the columns\n",
        "    if(isinstance(pmf, pd.DataFrame)):\n",
        "        return pd.DataFrame([highest_density_interval(pmf[col], p=p) for col in pmf],\n",
        "                            index=pmf.columns)\n",
        "    \n",
        "    cumsum = np.cumsum(pmf.values)\n",
        "    \n",
        "    # N x N matrix of total probability mass for each low, high\n",
        "    total_p = cumsum - cumsum[:, None]\n",
        "    \n",
        "    # Return all indices with total_p > p\n",
        "    lows, highs = (total_p > p).nonzero()\n",
        "    \n",
        "    # Find the smallest range (highest density)\n",
        "    best = (highs - lows).argmin()\n",
        "    \n",
        "    low = pmf.index[lows[best]]\n",
        "    high = pmf.index[highs[best]]\n",
        "    \n",
        "    return pd.Series([low, high],\n",
        "                     index=[f'Low_{p*100:.0f}',\n",
        "                            f'High_{p*100:.0f}'])\n",
        "\n",
        "\n",
        "# Note that this takes a while to execute - it's not the most efficient algorithm\n",
        "hdis = highest_density_interval(posteriors, p=.9)\n",
        "\n",
        "most_likely = posteriors.idxmax().rename('ML')\n",
        "\n",
        "# Look into why you shift -1\n",
        "result = pd.concat([most_likely, hdis], axis=1)\n",
        "\n",
        "result.tail()"
      ],
      "execution_count": 92,
      "outputs": [
        {
          "output_type": "execute_result",
          "data": {
            "text/html": [
              "<div>\n",
              "<style scoped>\n",
              "    .dataframe tbody tr th:only-of-type {\n",
              "        vertical-align: middle;\n",
              "    }\n",
              "\n",
              "    .dataframe tbody tr th {\n",
              "        vertical-align: top;\n",
              "    }\n",
              "\n",
              "    .dataframe thead th {\n",
              "        text-align: right;\n",
              "    }\n",
              "</style>\n",
              "<table border=\"1\" class=\"dataframe\">\n",
              "  <thead>\n",
              "    <tr style=\"text-align: right;\">\n",
              "      <th></th>\n",
              "      <th>ML</th>\n",
              "      <th>Low_90</th>\n",
              "      <th>High_90</th>\n",
              "    </tr>\n",
              "    <tr>\n",
              "      <th>date</th>\n",
              "      <th></th>\n",
              "      <th></th>\n",
              "      <th></th>\n",
              "    </tr>\n",
              "  </thead>\n",
              "  <tbody>\n",
              "    <tr>\n",
              "      <th>2020-10-15</th>\n",
              "      <td>1.38</td>\n",
              "      <td>1.18</td>\n",
              "      <td>1.57</td>\n",
              "    </tr>\n",
              "    <tr>\n",
              "      <th>2020-10-16</th>\n",
              "      <td>0.81</td>\n",
              "      <td>0.59</td>\n",
              "      <td>0.99</td>\n",
              "    </tr>\n",
              "    <tr>\n",
              "      <th>2020-10-17</th>\n",
              "      <td>0.28</td>\n",
              "      <td>0.05</td>\n",
              "      <td>0.46</td>\n",
              "    </tr>\n",
              "    <tr>\n",
              "      <th>2020-10-18</th>\n",
              "      <td>0.37</td>\n",
              "      <td>0.13</td>\n",
              "      <td>0.57</td>\n",
              "    </tr>\n",
              "    <tr>\n",
              "      <th>2020-10-19</th>\n",
              "      <td>0.65</td>\n",
              "      <td>0.40</td>\n",
              "      <td>0.85</td>\n",
              "    </tr>\n",
              "  </tbody>\n",
              "</table>\n",
              "</div>"
            ],
            "text/plain": [
              "              ML  Low_90  High_90\n",
              "date                             \n",
              "2020-10-15  1.38    1.18     1.57\n",
              "2020-10-16  0.81    0.59     0.99\n",
              "2020-10-17  0.28    0.05     0.46\n",
              "2020-10-18  0.37    0.13     0.57\n",
              "2020-10-19  0.65    0.40     0.85"
            ]
          },
          "metadata": {
            "tags": []
          },
          "execution_count": 92
        }
      ]
    },
    {
      "cell_type": "code",
      "metadata": {
        "id": "CYtD-d9IaWeG",
        "outputId": "5bc9d8db-cdc1-46df-aab8-bd021120a9c8",
        "colab": {
          "base_uri": "https://localhost:8080/",
          "height": 368
        }
      },
      "source": [
        "def plot_rt(result, ax, country_name):\n",
        "    \n",
        "    ax.set_title(f\"{country_name}\")\n",
        "    \n",
        "    # Colors\n",
        "    ABOVE = [1,0,0]\n",
        "    MIDDLE = [1,1,1]\n",
        "    BELOW = [0,0,0]\n",
        "    cmap = ListedColormap(np.r_[\n",
        "        np.linspace(BELOW,MIDDLE,25),\n",
        "        np.linspace(MIDDLE,ABOVE,25)\n",
        "    ])\n",
        "    color_mapped = lambda y: np.clip(y, .5, 1.5)-.5\n",
        "    \n",
        "    index = result['ML'].index.get_level_values('date')\n",
        "    values = result['ML'].values\n",
        "    \n",
        "    # Plot dots and line\n",
        "    ax.plot(index, values, c='k', zorder=1, alpha=.25)\n",
        "    ax.scatter(index,\n",
        "               values,\n",
        "               s=40,\n",
        "               lw=.5,\n",
        "               c=cmap(color_mapped(values)),\n",
        "               edgecolors='k', zorder=2)\n",
        "    \n",
        "    # Aesthetically, extrapolate credible interval by 1 day either side\n",
        "    lowfn = interp1d(date2num(index),\n",
        "                     result['Low_90'].values,\n",
        "                     bounds_error=False,\n",
        "                     fill_value='extrapolate')\n",
        "    \n",
        "    highfn = interp1d(date2num(index),\n",
        "                      result['High_90'].values,\n",
        "                      bounds_error=False,\n",
        "                      fill_value='extrapolate')\n",
        "    \n",
        "    extended = pd.date_range(start=pd.Timestamp('2020-03-01'),\n",
        "                             end=index[-1]+pd.Timedelta(days=1))\n",
        "    \n",
        "    ax.fill_between(extended,\n",
        "                    lowfn(date2num(extended)),\n",
        "                    highfn(date2num(extended)),\n",
        "                    color='k',\n",
        "                    alpha=.1,\n",
        "                    lw=0,\n",
        "                    zorder=3)\n",
        "\n",
        "    ax.axhline(1.0, c='k', lw=1, label='$R_t=1.0$', alpha=.25);\n",
        "    \n",
        "    # Formatting\n",
        "    ax.xaxis.set_major_locator(mdates.MonthLocator())\n",
        "    ax.xaxis.set_major_formatter(mdates.DateFormatter('%b'))\n",
        "    ax.xaxis.set_minor_locator(mdates.DayLocator())\n",
        "    \n",
        "    ax.yaxis.set_major_locator(ticker.MultipleLocator(1))\n",
        "    ax.yaxis.set_major_formatter(ticker.StrMethodFormatter(\"{x:.1f}\"))\n",
        "    ax.yaxis.tick_right()\n",
        "    ax.spines['left'].set_visible(False)\n",
        "    ax.spines['bottom'].set_visible(False)\n",
        "    ax.spines['right'].set_visible(False)\n",
        "    ax.margins(0)\n",
        "    ax.grid(which='major', axis='y', c='k', alpha=.1, zorder=-2)\n",
        "    ax.margins(0)\n",
        "    ax.set_ylim(0.0, 5.0)\n",
        "    ax.set_xlim(pd.Timestamp('2020-03-01'), result.index.get_level_values('date')[-1]+pd.Timedelta(days=1))\n",
        "    fig.set_facecolor('w')\n",
        "\n",
        "    \n",
        "fig, ax = plt.subplots(figsize=(600/72,400/72))\n",
        "\n",
        "plot_rt(result, ax, country_name)\n",
        "ax.set_title(f'Real-time $R_t$ for {country_name}')\n",
        "ax.xaxis.set_major_locator(mdates.WeekdayLocator())\n",
        "ax.xaxis.set_major_formatter(mdates.DateFormatter('%b %d'))"
      ],
      "execution_count": 93,
      "outputs": [
        {
          "output_type": "display_data",
          "data": {
            "image/png": "[encoded data removed]",
            "text/plain": [
              "<Figure size 600x400 with 1 Axes>"
            ]
          },
          "metadata": {
            "tags": []
          }
        }
      ]
    },
    {
      "cell_type": "code",
      "metadata": {
        "id": "OCS1GQ03bby0"
      },
      "source": [
        ""
      ],
      "execution_count": null,
      "outputs": []
    }
  ]
}