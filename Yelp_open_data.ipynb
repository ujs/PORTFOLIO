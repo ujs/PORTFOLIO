{
  "nbformat": 4,
  "nbformat_minor": 0,
  "metadata": {
    "colab": {
      "name": "Yelp_open_data.ipynb",
      "provenance": [],
      "collapsed_sections": [],
      "authorship_tag": "ABX9TyMaAsQ0AJTSk6Y5/2+9I0Jy",
      "include_colab_link": true
    },
    "kernelspec": {
      "name": "python3",
      "display_name": "Python 3"
    },
    "accelerator": "GPU"
  },
  "cells": [
    {
      "cell_type": "markdown",
      "metadata": {
        "id": "view-in-github",
        "colab_type": "text"
      },
      "source": [
        "<a href=\"https://colab.research.google.com/github/ujs/open_data/blob/master/Yelp_open_data.ipynb\" target=\"_parent\"><img src=\"https://colab.research.google.com/assets/colab-badge.svg\" alt=\"Open In Colab\"/></a>"
      ]
    },
    {
      "cell_type": "markdown",
      "metadata": {
        "id": "qyGD6xtkOC48",
        "colab_type": "text"
      },
      "source": [
        ""
      ]
    },
    {
      "cell_type": "code",
      "metadata": {
        "id": "aUxvS5jOPzWM",
        "colab_type": "code",
        "colab": {}
      },
      "source": [
        "#Importing libraries\n",
        "import numpy as np\n",
        "import pandas as pd\n",
        "import os\n",
        "import json\n",
        "import matplotlib.pyplot as plt"
      ],
      "execution_count": 0,
      "outputs": []
    },
    {
      "cell_type": "markdown",
      "metadata": {
        "id": "jl_hE0Y6P1T5",
        "colab_type": "text"
      },
      "source": [
        "## Data Wrangling \n",
        "Extracting data from JSON into CSV format."
      ]
    },
    {
      "cell_type": "code",
      "metadata": {
        "id": "y8xbInnAOQQ8",
        "colab_type": "code",
        "colab": {
          "base_uri": "https://localhost:8080/",
          "height": 598
        },
        "outputId": "87fe68b6-2146-42f0-a0a5-9c735d26213e"
      },
      "source": [
        "def json_to_csv (filename, create_sample = False):\n",
        "  '''converts given json file to csv'''\n",
        "  json_data = []\n",
        "  with open(filename, encoding = \"utf8\") as file:\n",
        "    for line in file:\n",
        "      json_data.append(json.loads(line.rstrip()))\n",
        "  \n",
        "  # since, each observation in the json_data list is a nested dictionary, we need to use 'from_dict'\n",
        "  df = pd.DataFrame.from_dict(json_data)\n",
        "  \n",
        "  csvFileName = filename[:len(filename)-5] + '.csv'\n",
        "  df.to_csv(csvFileName)\n",
        "  print('{0} created'.format(csvFileName))\n",
        "\n",
        "  if create_sample == True:\n",
        "    np.random.seed(0)\n",
        "    mask = np.random.rand(len(df)) <= 0.1\n",
        "    sample = df[mask]\n",
        "    sampleFileName = filename[:len(filename)-5] + '_sample.csv'\n",
        "\n",
        "    sample.to_csv(sampleFileName)\n",
        "    print('sample file, {0} created'.format(csvFileName))\n",
        "    return df, sampleFileName\n",
        "\n",
        "  else: return df,csvFileName\n",
        "\n",
        "#testing function\n",
        "filename = \"/content/yelp_academic_dataset_business.json\"\n",
        "df_business, csvname_business = json_to_csv (filename)\n",
        "df_business.head()"
      ],
      "execution_count": 28,
      "outputs": [
        {
          "output_type": "stream",
          "text": [
            "/content/yelp_academic_dataset_business.csv created\n"
          ],
          "name": "stdout"
        },
        {
          "output_type": "execute_result",
          "data": {
            "text/html": [
              "<div>\n",
              "<style scoped>\n",
              "    .dataframe tbody tr th:only-of-type {\n",
              "        vertical-align: middle;\n",
              "    }\n",
              "\n",
              "    .dataframe tbody tr th {\n",
              "        vertical-align: top;\n",
              "    }\n",
              "\n",
              "    .dataframe thead th {\n",
              "        text-align: right;\n",
              "    }\n",
              "</style>\n",
              "<table border=\"1\" class=\"dataframe\">\n",
              "  <thead>\n",
              "    <tr style=\"text-align: right;\">\n",
              "      <th></th>\n",
              "      <th>business_id</th>\n",
              "      <th>name</th>\n",
              "      <th>address</th>\n",
              "      <th>city</th>\n",
              "      <th>state</th>\n",
              "      <th>postal_code</th>\n",
              "      <th>latitude</th>\n",
              "      <th>longitude</th>\n",
              "      <th>stars</th>\n",
              "      <th>review_count</th>\n",
              "      <th>is_open</th>\n",
              "      <th>attributes</th>\n",
              "      <th>categories</th>\n",
              "      <th>hours</th>\n",
              "    </tr>\n",
              "  </thead>\n",
              "  <tbody>\n",
              "    <tr>\n",
              "      <th>0</th>\n",
              "      <td>f9NumwFMBDn751xgFiRbNA</td>\n",
              "      <td>The Range At Lake Norman</td>\n",
              "      <td>10913 Bailey Rd</td>\n",
              "      <td>Cornelius</td>\n",
              "      <td>NC</td>\n",
              "      <td>28031</td>\n",
              "      <td>35.462724</td>\n",
              "      <td>-80.852612</td>\n",
              "      <td>3.5</td>\n",
              "      <td>36</td>\n",
              "      <td>1</td>\n",
              "      <td>{'BusinessAcceptsCreditCards': 'True', 'BikePa...</td>\n",
              "      <td>Active Life, Gun/Rifle Ranges, Guns &amp; Ammo, Sh...</td>\n",
              "      <td>{'Monday': '10:0-18:0', 'Tuesday': '11:0-20:0'...</td>\n",
              "    </tr>\n",
              "    <tr>\n",
              "      <th>1</th>\n",
              "      <td>Yzvjg0SayhoZgCljUJRF9Q</td>\n",
              "      <td>Carlos Santo, NMD</td>\n",
              "      <td>8880 E Via Linda, Ste 107</td>\n",
              "      <td>Scottsdale</td>\n",
              "      <td>AZ</td>\n",
              "      <td>85258</td>\n",
              "      <td>33.569404</td>\n",
              "      <td>-111.890264</td>\n",
              "      <td>5.0</td>\n",
              "      <td>4</td>\n",
              "      <td>1</td>\n",
              "      <td>{'GoodForKids': 'True', 'ByAppointmentOnly': '...</td>\n",
              "      <td>Health &amp; Medical, Fitness &amp; Instruction, Yoga,...</td>\n",
              "      <td>None</td>\n",
              "    </tr>\n",
              "    <tr>\n",
              "      <th>2</th>\n",
              "      <td>XNoUzKckATkOD1hP6vghZg</td>\n",
              "      <td>Felinus</td>\n",
              "      <td>3554 Rue Notre-Dame O</td>\n",
              "      <td>Montreal</td>\n",
              "      <td>QC</td>\n",
              "      <td>H4C 1P4</td>\n",
              "      <td>45.479984</td>\n",
              "      <td>-73.580070</td>\n",
              "      <td>5.0</td>\n",
              "      <td>5</td>\n",
              "      <td>1</td>\n",
              "      <td>None</td>\n",
              "      <td>Pets, Pet Services, Pet Groomers</td>\n",
              "      <td>None</td>\n",
              "    </tr>\n",
              "    <tr>\n",
              "      <th>3</th>\n",
              "      <td>6OAZjbxqM5ol29BuHsil3w</td>\n",
              "      <td>Nevada House of Hose</td>\n",
              "      <td>1015 Sharp Cir</td>\n",
              "      <td>North Las Vegas</td>\n",
              "      <td>NV</td>\n",
              "      <td>89030</td>\n",
              "      <td>36.219728</td>\n",
              "      <td>-115.127725</td>\n",
              "      <td>2.5</td>\n",
              "      <td>3</td>\n",
              "      <td>0</td>\n",
              "      <td>{'BusinessAcceptsCreditCards': 'True', 'ByAppo...</td>\n",
              "      <td>Hardware Stores, Home Services, Building Suppl...</td>\n",
              "      <td>{'Monday': '7:0-16:0', 'Tuesday': '7:0-16:0', ...</td>\n",
              "    </tr>\n",
              "    <tr>\n",
              "      <th>4</th>\n",
              "      <td>51M2Kk903DFYI6gnB5I6SQ</td>\n",
              "      <td>USE MY GUY SERVICES LLC</td>\n",
              "      <td>4827 E Downing Cir</td>\n",
              "      <td>Mesa</td>\n",
              "      <td>AZ</td>\n",
              "      <td>85205</td>\n",
              "      <td>33.428065</td>\n",
              "      <td>-111.726648</td>\n",
              "      <td>4.5</td>\n",
              "      <td>26</td>\n",
              "      <td>1</td>\n",
              "      <td>{'BusinessAcceptsCreditCards': 'True', 'ByAppo...</td>\n",
              "      <td>Home Services, Plumbing, Electricians, Handyma...</td>\n",
              "      <td>{'Monday': '0:0-0:0', 'Tuesday': '9:0-16:0', '...</td>\n",
              "    </tr>\n",
              "  </tbody>\n",
              "</table>\n",
              "</div>"
            ],
            "text/plain": [
              "              business_id  ...                                              hours\n",
              "0  f9NumwFMBDn751xgFiRbNA  ...  {'Monday': '10:0-18:0', 'Tuesday': '11:0-20:0'...\n",
              "1  Yzvjg0SayhoZgCljUJRF9Q  ...                                               None\n",
              "2  XNoUzKckATkOD1hP6vghZg  ...                                               None\n",
              "3  6OAZjbxqM5ol29BuHsil3w  ...  {'Monday': '7:0-16:0', 'Tuesday': '7:0-16:0', ...\n",
              "4  51M2Kk903DFYI6gnB5I6SQ  ...  {'Monday': '0:0-0:0', 'Tuesday': '9:0-16:0', '...\n",
              "\n",
              "[5 rows x 14 columns]"
            ]
          },
          "metadata": {
            "tags": []
          },
          "execution_count": 28
        }
      ]
    },
    {
      "cell_type": "markdown",
      "metadata": {
        "id": "R8DXpiHAfKGw",
        "colab_type": "text"
      },
      "source": [
        "## Exploratory Data Analysis"
      ]
    },
    {
      "cell_type": "code",
      "metadata": {
        "id": "nvj5FxR1SBm5",
        "colab_type": "code",
        "colab": {
          "base_uri": "https://localhost:8080/",
          "height": 139
        },
        "outputId": "e7b0ad6c-513b-494d-f5cc-8e058e888425"
      },
      "source": [
        "#Understanding the basics of data\n",
        "print('Number of features in business object: ', len(df_business.columns))\n",
        "print('Features of the business: ', df_business.columns)\n",
        "d_type_business = {i:df_business[i].dtype for i in df_business.columns}\n",
        "print(\"Data type for each feature: \", d_types_business)"
      ],
      "execution_count": 49,
      "outputs": [
        {
          "output_type": "stream",
          "text": [
            "Number of features in business object:  14\n",
            "Features of the business:  Index(['business_id', 'name', 'address', 'city', 'state', 'postal_code',\n",
            "       'latitude', 'longitude', 'stars', 'review_count', 'is_open',\n",
            "       'attributes', 'categories', 'hours'],\n",
            "      dtype='object')\n",
            "Data type for each feature:  {'business_id': dtype('O'), 'name': dtype('O'), 'address': dtype('O'), 'city': dtype('O'), 'state': dtype('O'), 'postal_code': dtype('O'), 'latitude': dtype('float64'), 'longitude': dtype('float64'), 'stars': dtype('float64'), 'review_count': dtype('int64'), 'is_open': dtype('int64'), 'attributes': dtype('O'), 'categories': dtype('O'), 'hours': dtype('O')}\n"
          ],
          "name": "stdout"
        }
      ]
    },
    {
      "cell_type": "code",
      "metadata": {
        "id": "jHQjLB5CgGJf",
        "colab_type": "code",
        "colab": {
          "base_uri": "https://localhost:8080/",
          "height": 593
        },
        "outputId": "2729549d-e47f-4bf7-e848-6601ea4a815b"
      },
      "source": [
        "#Missing Values\n",
        "def visualize_missing_values(df):\n",
        "  missing_values = df.isnull().sum() \n",
        "  print(\"total missing values in dataframe: \", df.isnull().sum().sum())\n",
        "  print(missing_values)\n",
        "  missing_values.plot.bar(color = 'teal')\n",
        "\n",
        "#testing function\n",
        "visualize_missing_values(df_business)\n"
      ],
      "execution_count": 64,
      "outputs": [
        {
          "output_type": "stream",
          "text": [
            "total missing values in dataframe:  74412\n",
            "business_id         0\n",
            "name                0\n",
            "address             0\n",
            "city                0\n",
            "state               0\n",
            "postal_code         0\n",
            "latitude            0\n",
            "longitude           0\n",
            "stars               0\n",
            "review_count        0\n",
            "is_open             0\n",
            "attributes      29045\n",
            "categories        524\n",
            "hours           44843\n",
            "dtype: int64\n"
          ],
          "name": "stdout"
        },
        {
          "output_type": "display_data",
          "data": {
            "image/png": "[encoded data removed]",
            "text/plain": [
              "<Figure size 432x288 with 1 Axes>"
            ]
          },
          "metadata": {
            "tags": [],
            "needs_background": "light"
          }
        }
      ]
    },
    {
      "cell_type": "code",
      "metadata": {
        "id": "OZiSMTfHbsLk",
        "colab_type": "code",
        "colab": {
          "base_uri": "https://localhost:8080/",
          "height": 255
        },
        "outputId": "4be4fa38-134f-4977-8f6a-cc68088394fa"
      },
      "source": [
        "df_business.describe"
      ],
      "execution_count": 50,
      "outputs": [
        {
          "output_type": "execute_result",
          "data": {
            "text/plain": [
              "<bound method NDFrame.describe of                    business_id  ...                                              hours\n",
              "0       f9NumwFMBDn751xgFiRbNA  ...  {'Monday': '10:0-18:0', 'Tuesday': '11:0-20:0'...\n",
              "1       Yzvjg0SayhoZgCljUJRF9Q  ...                                               None\n",
              "2       XNoUzKckATkOD1hP6vghZg  ...                                               None\n",
              "3       6OAZjbxqM5ol29BuHsil3w  ...  {'Monday': '7:0-16:0', 'Tuesday': '7:0-16:0', ...\n",
              "4       51M2Kk903DFYI6gnB5I6SQ  ...  {'Monday': '0:0-0:0', 'Tuesday': '9:0-16:0', '...\n",
              "...                        ...  ...                                                ...\n",
              "209388  9Q0fPWAjUweoFDk0kafuzQ  ...  {'Monday': '11:0-22:0', 'Tuesday': '11:0-22:0'...\n",
              "209389  PotiAhtDMYMNsJCzV0oLAw  ...                                               None\n",
              "209390  SYa2j1boLF8DcGVOYfHPcA  ...  {'Monday': '11:0-22:0', 'Tuesday': '11:0-22:0'...\n",
              "209391  RSSIsgO00OuWQTRoITacpA  ...  {'Monday': '0:0-0:0', 'Tuesday': '7:0-19:0', '...\n",
              "209392  tOcYmewXFhQeZh3V42ymwg  ...  {'Monday': '9:0-18:0', 'Tuesday': '9:0-18:0', ...\n",
              "\n",
              "[209393 rows x 14 columns]>"
            ]
          },
          "metadata": {
            "tags": []
          },
          "execution_count": 50
        }
      ]
    },
    {
      "cell_type": "code",
      "metadata": {
        "id": "02T3vCA3dEJq",
        "colab_type": "code",
        "colab": {}
      },
      "source": [
        "#Seeing Missing Values\n",
        "\n",
        "for column in df_"
      ],
      "execution_count": 0,
      "outputs": []
    }
  ]
}