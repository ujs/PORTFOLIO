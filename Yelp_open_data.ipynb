{
  "nbformat": 4,
  "nbformat_minor": 0,
  "metadata": {
    "colab": {
      "name": "Yelp_open_data.ipynb",
      "provenance": [],
      "collapsed_sections": [],
      "machine_shape": "hm",
      "authorship_tag": "ABX9TyPeSqF8cx9vuXvVUJWaC6zJ",
      "include_colab_link": true
    },
    "kernelspec": {
      "name": "python3",
      "display_name": "Python 3"
    },
    "accelerator": "TPU"
  },
  "cells": [
    {
      "cell_type": "markdown",
      "metadata": {
        "id": "view-in-github",
        "colab_type": "text"
      },
      "source": [
        "<a href=\"https://colab.research.google.com/github/ujs/open_data/blob/master/Yelp_open_data.ipynb\" target=\"_parent\"><img src=\"https://colab.research.google.com/assets/colab-badge.svg\" alt=\"Open In Colab\"/></a>"
      ]
    },
    {
      "cell_type": "code",
      "metadata": {
        "id": "aUxvS5jOPzWM",
        "colab_type": "code",
        "colab": {
          "base_uri": "https://localhost:8080/",
          "height": 71
        },
        "outputId": "76af727b-172a-40bd-c801-0978bd3bfb0d"
      },
      "source": [
        "#Importing libraries\n",
        "import numpy as np\n",
        "import pandas as pd\n",
        "import seaborn as sns\n",
        "import math\n",
        "import os\n",
        "import json\n",
        "import matplotlib.pyplot as plt"
      ],
      "execution_count": 13,
      "outputs": [
        {
          "output_type": "stream",
          "text": [
            "/usr/local/lib/python3.6/dist-packages/statsmodels/tools/_testing.py:19: FutureWarning: pandas.util.testing is deprecated. Use the functions in the public API at pandas.testing instead.\n",
            "  import pandas.util.testing as tm\n"
          ],
          "name": "stderr"
        }
      ]
    },
    {
      "cell_type": "markdown",
      "metadata": {
        "id": "jl_hE0Y6P1T5",
        "colab_type": "text"
      },
      "source": [
        "## Data Wrangling \n",
        "Extracting data from JSON into CSV format."
      ]
    },
    {
      "cell_type": "code",
      "metadata": {
        "id": "y8xbInnAOQQ8",
        "colab_type": "code",
        "outputId": "4b04692d-6bd6-42a5-c428-4306c8b2b88e",
        "colab": {
          "base_uri": "https://localhost:8080/",
          "height": 598
        }
      },
      "source": [
        "def json_to_csv (filename, create_sample = False):\n",
        "  '''converts given json file to csv'''\n",
        "  json_data = []\n",
        "  with open(filename, encoding = \"utf8\") as file:\n",
        "    for line in file:\n",
        "      json_data.append(json.loads(line.rstrip()))\n",
        "  \n",
        "  # since, each observation in the json_data list is a nested dictionary, we need to use 'from_dict'\n",
        "  df = pd.DataFrame.from_dict(json_data)\n",
        "  \n",
        "  csvFileName = filename[:len(filename)-5] + '.csv'\n",
        "  df.to_csv(csvFileName)\n",
        "  print('{0} created'.format(csvFileName))\n",
        "\n",
        "  if create_sample == True:\n",
        "    np.random.seed(0)\n",
        "    mask = np.random.rand(len(df)) <= 0.1\n",
        "    sample = df[mask]\n",
        "    sampleFileName = filename[:len(filename)-5] + '_sample.csv'\n",
        "\n",
        "    sample.to_csv(sampleFileName)\n",
        "    print('sample file, {0} created'.format(csvFileName))\n",
        "    return df, sampleFileName\n",
        "\n",
        "  else: return df,csvFileName\n",
        "\n",
        "#testing function\n",
        "filename = \"/content/yelp_academic_dataset_business.json\"\n",
        "df_business, csvname_business = json_to_csv (filename)\n",
        "df_business.head()"
      ],
      "execution_count": 5,
      "outputs": [
        {
          "output_type": "stream",
          "text": [
            "/content/yelp_academic_dataset_business.csv created\n"
          ],
          "name": "stdout"
        },
        {
          "output_type": "execute_result",
          "data": {
            "text/html": [
              "<div>\n",
              "<style scoped>\n",
              "    .dataframe tbody tr th:only-of-type {\n",
              "        vertical-align: middle;\n",
              "    }\n",
              "\n",
              "    .dataframe tbody tr th {\n",
              "        vertical-align: top;\n",
              "    }\n",
              "\n",
              "    .dataframe thead th {\n",
              "        text-align: right;\n",
              "    }\n",
              "</style>\n",
              "<table border=\"1\" class=\"dataframe\">\n",
              "  <thead>\n",
              "    <tr style=\"text-align: right;\">\n",
              "      <th></th>\n",
              "      <th>business_id</th>\n",
              "      <th>name</th>\n",
              "      <th>address</th>\n",
              "      <th>city</th>\n",
              "      <th>state</th>\n",
              "      <th>postal_code</th>\n",
              "      <th>latitude</th>\n",
              "      <th>longitude</th>\n",
              "      <th>stars</th>\n",
              "      <th>review_count</th>\n",
              "      <th>is_open</th>\n",
              "      <th>attributes</th>\n",
              "      <th>categories</th>\n",
              "      <th>hours</th>\n",
              "    </tr>\n",
              "  </thead>\n",
              "  <tbody>\n",
              "    <tr>\n",
              "      <th>0</th>\n",
              "      <td>f9NumwFMBDn751xgFiRbNA</td>\n",
              "      <td>The Range At Lake Norman</td>\n",
              "      <td>10913 Bailey Rd</td>\n",
              "      <td>Cornelius</td>\n",
              "      <td>NC</td>\n",
              "      <td>28031</td>\n",
              "      <td>35.462724</td>\n",
              "      <td>-80.852612</td>\n",
              "      <td>3.5</td>\n",
              "      <td>36</td>\n",
              "      <td>1</td>\n",
              "      <td>{'BusinessAcceptsCreditCards': 'True', 'BikePa...</td>\n",
              "      <td>Active Life, Gun/Rifle Ranges, Guns &amp; Ammo, Sh...</td>\n",
              "      <td>{'Monday': '10:0-18:0', 'Tuesday': '11:0-20:0'...</td>\n",
              "    </tr>\n",
              "    <tr>\n",
              "      <th>1</th>\n",
              "      <td>Yzvjg0SayhoZgCljUJRF9Q</td>\n",
              "      <td>Carlos Santo, NMD</td>\n",
              "      <td>8880 E Via Linda, Ste 107</td>\n",
              "      <td>Scottsdale</td>\n",
              "      <td>AZ</td>\n",
              "      <td>85258</td>\n",
              "      <td>33.569404</td>\n",
              "      <td>-111.890264</td>\n",
              "      <td>5.0</td>\n",
              "      <td>4</td>\n",
              "      <td>1</td>\n",
              "      <td>{'GoodForKids': 'True', 'ByAppointmentOnly': '...</td>\n",
              "      <td>Health &amp; Medical, Fitness &amp; Instruction, Yoga,...</td>\n",
              "      <td>None</td>\n",
              "    </tr>\n",
              "    <tr>\n",
              "      <th>2</th>\n",
              "      <td>XNoUzKckATkOD1hP6vghZg</td>\n",
              "      <td>Felinus</td>\n",
              "      <td>3554 Rue Notre-Dame O</td>\n",
              "      <td>Montreal</td>\n",
              "      <td>QC</td>\n",
              "      <td>H4C 1P4</td>\n",
              "      <td>45.479984</td>\n",
              "      <td>-73.580070</td>\n",
              "      <td>5.0</td>\n",
              "      <td>5</td>\n",
              "      <td>1</td>\n",
              "      <td>None</td>\n",
              "      <td>Pets, Pet Services, Pet Groomers</td>\n",
              "      <td>None</td>\n",
              "    </tr>\n",
              "    <tr>\n",
              "      <th>3</th>\n",
              "      <td>6OAZjbxqM5ol29BuHsil3w</td>\n",
              "      <td>Nevada House of Hose</td>\n",
              "      <td>1015 Sharp Cir</td>\n",
              "      <td>North Las Vegas</td>\n",
              "      <td>NV</td>\n",
              "      <td>89030</td>\n",
              "      <td>36.219728</td>\n",
              "      <td>-115.127725</td>\n",
              "      <td>2.5</td>\n",
              "      <td>3</td>\n",
              "      <td>0</td>\n",
              "      <td>{'BusinessAcceptsCreditCards': 'True', 'ByAppo...</td>\n",
              "      <td>Hardware Stores, Home Services, Building Suppl...</td>\n",
              "      <td>{'Monday': '7:0-16:0', 'Tuesday': '7:0-16:0', ...</td>\n",
              "    </tr>\n",
              "    <tr>\n",
              "      <th>4</th>\n",
              "      <td>51M2Kk903DFYI6gnB5I6SQ</td>\n",
              "      <td>USE MY GUY SERVICES LLC</td>\n",
              "      <td>4827 E Downing Cir</td>\n",
              "      <td>Mesa</td>\n",
              "      <td>AZ</td>\n",
              "      <td>85205</td>\n",
              "      <td>33.428065</td>\n",
              "      <td>-111.726648</td>\n",
              "      <td>4.5</td>\n",
              "      <td>26</td>\n",
              "      <td>1</td>\n",
              "      <td>{'BusinessAcceptsCreditCards': 'True', 'ByAppo...</td>\n",
              "      <td>Home Services, Plumbing, Electricians, Handyma...</td>\n",
              "      <td>{'Monday': '0:0-0:0', 'Tuesday': '9:0-16:0', '...</td>\n",
              "    </tr>\n",
              "  </tbody>\n",
              "</table>\n",
              "</div>"
            ],
            "text/plain": [
              "              business_id  ...                                              hours\n",
              "0  f9NumwFMBDn751xgFiRbNA  ...  {'Monday': '10:0-18:0', 'Tuesday': '11:0-20:0'...\n",
              "1  Yzvjg0SayhoZgCljUJRF9Q  ...                                               None\n",
              "2  XNoUzKckATkOD1hP6vghZg  ...                                               None\n",
              "3  6OAZjbxqM5ol29BuHsil3w  ...  {'Monday': '7:0-16:0', 'Tuesday': '7:0-16:0', ...\n",
              "4  51M2Kk903DFYI6gnB5I6SQ  ...  {'Monday': '0:0-0:0', 'Tuesday': '9:0-16:0', '...\n",
              "\n",
              "[5 rows x 14 columns]"
            ]
          },
          "metadata": {
            "tags": []
          },
          "execution_count": 5
        }
      ]
    },
    {
      "cell_type": "markdown",
      "metadata": {
        "id": "R8DXpiHAfKGw",
        "colab_type": "text"
      },
      "source": [
        "## Exploratory Data Analysis"
      ]
    },
    {
      "cell_type": "code",
      "metadata": {
        "id": "nvj5FxR1SBm5",
        "colab_type": "code",
        "colab": {}
      },
      "source": [
        "#Understanding the basics of data\n",
        "def data_basics(df):\n",
        "  print('Number of features in data frame: ', len(df.columns))\n",
        "  print('Features of the date frame: ', df.columns)\n",
        "  d_type = {i:df[i].dtype for i in df.columns}\n",
        "  print(\"Data type for each feature: \", d_type)\n",
        "  print(\"Data Descriptive Stats: \", df.describe)"
      ],
      "execution_count": 0,
      "outputs": []
    },
    {
      "cell_type": "code",
      "metadata": {
        "id": "qRLMe_lAjPP3",
        "colab_type": "code",
        "outputId": "a4ea3f58-fe3a-4db8-b9ec-36614ea86077",
        "colab": {
          "base_uri": "https://localhost:8080/",
          "height": 377
        }
      },
      "source": [
        "data_basics(df_business)"
      ],
      "execution_count": 7,
      "outputs": [
        {
          "output_type": "stream",
          "text": [
            "Number of features in data frame:  14\n",
            "Features of the date frame:  Index(['business_id', 'name', 'address', 'city', 'state', 'postal_code',\n",
            "       'latitude', 'longitude', 'stars', 'review_count', 'is_open',\n",
            "       'attributes', 'categories', 'hours'],\n",
            "      dtype='object')\n",
            "Data type for each feature:  {'business_id': dtype('O'), 'name': dtype('O'), 'address': dtype('O'), 'city': dtype('O'), 'state': dtype('O'), 'postal_code': dtype('O'), 'latitude': dtype('float64'), 'longitude': dtype('float64'), 'stars': dtype('float64'), 'review_count': dtype('int64'), 'is_open': dtype('int64'), 'attributes': dtype('O'), 'categories': dtype('O'), 'hours': dtype('O')}\n",
            "Data Descriptive Stats:  <bound method NDFrame.describe of                    business_id  ...                                              hours\n",
            "0       f9NumwFMBDn751xgFiRbNA  ...  {'Monday': '10:0-18:0', 'Tuesday': '11:0-20:0'...\n",
            "1       Yzvjg0SayhoZgCljUJRF9Q  ...                                               None\n",
            "2       XNoUzKckATkOD1hP6vghZg  ...                                               None\n",
            "3       6OAZjbxqM5ol29BuHsil3w  ...  {'Monday': '7:0-16:0', 'Tuesday': '7:0-16:0', ...\n",
            "4       51M2Kk903DFYI6gnB5I6SQ  ...  {'Monday': '0:0-0:0', 'Tuesday': '9:0-16:0', '...\n",
            "...                        ...  ...                                                ...\n",
            "209388  9Q0fPWAjUweoFDk0kafuzQ  ...  {'Monday': '11:0-22:0', 'Tuesday': '11:0-22:0'...\n",
            "209389  PotiAhtDMYMNsJCzV0oLAw  ...                                               None\n",
            "209390  SYa2j1boLF8DcGVOYfHPcA  ...  {'Monday': '11:0-22:0', 'Tuesday': '11:0-22:0'...\n",
            "209391  RSSIsgO00OuWQTRoITacpA  ...  {'Monday': '0:0-0:0', 'Tuesday': '7:0-19:0', '...\n",
            "209392  tOcYmewXFhQeZh3V42ymwg  ...  {'Monday': '9:0-18:0', 'Tuesday': '9:0-18:0', ...\n",
            "\n",
            "[209393 rows x 14 columns]>\n"
          ],
          "name": "stdout"
        }
      ]
    },
    {
      "cell_type": "code",
      "metadata": {
        "id": "jHQjLB5CgGJf",
        "colab_type": "code",
        "outputId": "ceac337e-40fe-4653-82e9-98b37f59f4b9",
        "colab": {
          "base_uri": "https://localhost:8080/",
          "height": 593
        }
      },
      "source": [
        "#Missing Values\n",
        "def visualize_missing_values(df):\n",
        "  missing_values = df.isnull().sum() \n",
        "  print(\"total missing values in dataframe: \", df.isnull().sum().sum())\n",
        "  print(missing_values)\n",
        "  missing_values.plot.bar(color = 'teal')\n",
        "\n",
        "#testing function\n",
        "visualize_missing_values(df_business)\n"
      ],
      "execution_count": 0,
      "outputs": [
        {
          "output_type": "stream",
          "text": [
            "total missing values in dataframe:  74412\n",
            "business_id         0\n",
            "name                0\n",
            "address             0\n",
            "city                0\n",
            "state               0\n",
            "postal_code         0\n",
            "latitude            0\n",
            "longitude           0\n",
            "stars               0\n",
            "review_count        0\n",
            "is_open             0\n",
            "attributes      29045\n",
            "categories        524\n",
            "hours           44843\n",
            "dtype: int64\n"
          ],
          "name": "stdout"
        },
        {
          "output_type": "display_data",
          "data": {
            "image/png": "[encoded data removed]",
            "text/plain": [
              "<Figure size 432x288 with 1 Axes>"
            ]
          },
          "metadata": {
            "tags": [],
            "needs_background": "light"
          }
        }
      ]
    },
    {
      "cell_type": "code",
      "metadata": {
        "id": "wN9O8Bu-0-3U",
        "colab_type": "code",
        "outputId": "e7f7e932-ef69-4bc6-e698-0607cae1a577",
        "colab": {
          "base_uri": "https://localhost:8080/",
          "height": 374
        }
      },
      "source": [
        "pivot_by_city = df_business.pivot_table(index='city', values='business_id', aggfunc='count')\n",
        "\n",
        "#plotting top 20 cities with highest number of restaurants\n",
        "top_20_cities = pivot_by_city.sort_values(\"business_id\", ascending = [False])[:20]\n",
        "top_20_cities.plot(kind = 'bar', figsize = [16,6], colormap = 'viridis')"
      ],
      "execution_count": 0,
      "outputs": [
        {
          "output_type": "execute_result",
          "data": {
            "text/plain": [
              "<matplotlib.axes._subplots.AxesSubplot at 0x7ff269419cf8>"
            ]
          },
          "metadata": {
            "tags": []
          },
          "execution_count": 34
        },
        {
          "output_type": "display_data",
          "data": {
            "image/png": "[encoded data removed]",
            "text/plain": [
              "<Figure size 1152x432 with 1 Axes>"
            ]
          },
          "metadata": {
            "tags": [],
            "needs_background": "light"
          }
        }
      ]
    },
    {
      "cell_type": "code",
      "metadata": {
        "id": "i8FbMNJnfsdG",
        "colab_type": "code",
        "colab": {}
      },
      "source": [
        "#Create a new dataframe only containing American businesses\n",
        "states = [\"AL\", \"AK\", \"AZ\", \"AR\", \"CA\", \"CO\", \"CT\", \"DC\", \"DE\", \"FL\", \"GA\", \n",
        "          \"HI\", \"ID\", \"IL\", \"IN\", \"IA\", \"KS\", \"KY\", \"LA\", \"ME\", \"MD\", \n",
        "          \"MA\", \"MI\", \"MN\", \"MS\", \"MO\", \"MT\", \"NE\", \"NV\", \"NH\", \"NJ\", \n",
        "          \"NM\", \"NY\", \"NC\", \"ND\", \"OH\", \"OK\", \"OR\", \"PA\", \"RI\", \"SC\", \n",
        "          \"SD\", \"TN\", \"TX\", \"UT\", \"VT\", \"VA\", \"WA\", \"WV\", \"WI\", \"WY\"]\n",
        "\n",
        "\n",
        "us = df_business.loc[df_business['state'].isin(states)]"
      ],
      "execution_count": 0,
      "outputs": []
    },
    {
      "cell_type": "code",
      "metadata": {
        "id": "HOmF8TZ2f1Ev",
        "colab_type": "code",
        "colab": {
          "base_uri": "https://localhost:8080/",
          "height": 513
        },
        "outputId": "f28498aa-3ed1-4a00-9ea1-c18f5f3d061c"
      },
      "source": [
        "#Analysing only restaurants in the US\n",
        "mask_restos = us['categories'].str.contains('Restaurants', na=False)\n",
        "us_restos = us[mask_restos]\n",
        "us_restos.head()"
      ],
      "execution_count": 9,
      "outputs": [
        {
          "output_type": "execute_result",
          "data": {
            "text/html": [
              "<div>\n",
              "<style scoped>\n",
              "    .dataframe tbody tr th:only-of-type {\n",
              "        vertical-align: middle;\n",
              "    }\n",
              "\n",
              "    .dataframe tbody tr th {\n",
              "        vertical-align: top;\n",
              "    }\n",
              "\n",
              "    .dataframe thead th {\n",
              "        text-align: right;\n",
              "    }\n",
              "</style>\n",
              "<table border=\"1\" class=\"dataframe\">\n",
              "  <thead>\n",
              "    <tr style=\"text-align: right;\">\n",
              "      <th></th>\n",
              "      <th>business_id</th>\n",
              "      <th>name</th>\n",
              "      <th>address</th>\n",
              "      <th>city</th>\n",
              "      <th>state</th>\n",
              "      <th>postal_code</th>\n",
              "      <th>latitude</th>\n",
              "      <th>longitude</th>\n",
              "      <th>stars</th>\n",
              "      <th>review_count</th>\n",
              "      <th>is_open</th>\n",
              "      <th>attributes</th>\n",
              "      <th>categories</th>\n",
              "      <th>hours</th>\n",
              "    </tr>\n",
              "  </thead>\n",
              "  <tbody>\n",
              "    <tr>\n",
              "      <th>8</th>\n",
              "      <td>pQeaRpvuhoEqudo3uymHIQ</td>\n",
              "      <td>The Empanadas House</td>\n",
              "      <td>404 E Green St</td>\n",
              "      <td>Champaign</td>\n",
              "      <td>IL</td>\n",
              "      <td>61820</td>\n",
              "      <td>40.110446</td>\n",
              "      <td>-88.233073</td>\n",
              "      <td>4.5</td>\n",
              "      <td>5</td>\n",
              "      <td>1</td>\n",
              "      <td>{'RestaurantsAttire': 'u'casual'', 'Restaurant...</td>\n",
              "      <td>Ethnic Food, Food Trucks, Specialty Food, Impo...</td>\n",
              "      <td>{'Monday': '11:30-14:30', 'Tuesday': '11:30-14...</td>\n",
              "    </tr>\n",
              "    <tr>\n",
              "      <th>20</th>\n",
              "      <td>CsLQLiRoafpJPJSkNX2h5Q</td>\n",
              "      <td>Middle East Deli</td>\n",
              "      <td>4508 E Independence Blvd</td>\n",
              "      <td>Charlotte</td>\n",
              "      <td>NC</td>\n",
              "      <td>28205</td>\n",
              "      <td>35.194894</td>\n",
              "      <td>-80.767442</td>\n",
              "      <td>3.0</td>\n",
              "      <td>5</td>\n",
              "      <td>0</td>\n",
              "      <td>{'RestaurantsGoodForGroups': 'True', 'OutdoorS...</td>\n",
              "      <td>Food, Restaurants, Grocery, Middle Eastern</td>\n",
              "      <td>None</td>\n",
              "    </tr>\n",
              "    <tr>\n",
              "      <th>33</th>\n",
              "      <td>vjTVxnsQEZ34XjYNS-XUpA</td>\n",
              "      <td>Wetzel's Pretzels</td>\n",
              "      <td>4550 East Cactus Rd, #KSFC-4</td>\n",
              "      <td>Phoenix</td>\n",
              "      <td>AZ</td>\n",
              "      <td>85032</td>\n",
              "      <td>33.602822</td>\n",
              "      <td>-111.983533</td>\n",
              "      <td>4.0</td>\n",
              "      <td>10</td>\n",
              "      <td>1</td>\n",
              "      <td>{'GoodForKids': 'True', 'RestaurantsTakeOut': ...</td>\n",
              "      <td>Food, Pretzels, Bakeries, Fast Food, Restaurants</td>\n",
              "      <td>{'Monday': '10:0-21:0', 'Tuesday': '10:0-21:0'...</td>\n",
              "    </tr>\n",
              "    <tr>\n",
              "      <th>36</th>\n",
              "      <td>fnZrZlqW1Z8iWgTVDfv_MA</td>\n",
              "      <td>Carl's Jr</td>\n",
              "      <td>9595 W Tropicana Ave</td>\n",
              "      <td>Las Vegas</td>\n",
              "      <td>NV</td>\n",
              "      <td>89147</td>\n",
              "      <td>36.099738</td>\n",
              "      <td>-115.301568</td>\n",
              "      <td>2.5</td>\n",
              "      <td>15</td>\n",
              "      <td>0</td>\n",
              "      <td>{'Alcohol': 'u'none'', 'WiFi': 'u'no'', 'GoodF...</td>\n",
              "      <td>Mexican, Restaurants, Fast Food</td>\n",
              "      <td>None</td>\n",
              "    </tr>\n",
              "    <tr>\n",
              "      <th>41</th>\n",
              "      <td>98hyK2QEUeI8v2y0AghfZA</td>\n",
              "      <td>Pho Lee's Vietnamese Restaurant</td>\n",
              "      <td>1541 E 38th St, Ste 101</td>\n",
              "      <td>Cleveland</td>\n",
              "      <td>OH</td>\n",
              "      <td>44114</td>\n",
              "      <td>41.512155</td>\n",
              "      <td>-81.663332</td>\n",
              "      <td>4.5</td>\n",
              "      <td>23</td>\n",
              "      <td>1</td>\n",
              "      <td>{'BusinessParking': 'None', 'Ambience': '{'tou...</td>\n",
              "      <td>Restaurants, Vietnamese, Soup</td>\n",
              "      <td>{'Monday': '11:0-20:0', 'Wednesday': '11:0-20:...</td>\n",
              "    </tr>\n",
              "  </tbody>\n",
              "</table>\n",
              "</div>"
            ],
            "text/plain": [
              "               business_id  ...                                              hours\n",
              "8   pQeaRpvuhoEqudo3uymHIQ  ...  {'Monday': '11:30-14:30', 'Tuesday': '11:30-14...\n",
              "20  CsLQLiRoafpJPJSkNX2h5Q  ...                                               None\n",
              "33  vjTVxnsQEZ34XjYNS-XUpA  ...  {'Monday': '10:0-21:0', 'Tuesday': '10:0-21:0'...\n",
              "36  fnZrZlqW1Z8iWgTVDfv_MA  ...                                               None\n",
              "41  98hyK2QEUeI8v2y0AghfZA  ...  {'Monday': '11:0-20:0', 'Wednesday': '11:0-20:...\n",
              "\n",
              "[5 rows x 14 columns]"
            ]
          },
          "metadata": {
            "tags": []
          },
          "execution_count": 9
        }
      ]
    },
    {
      "cell_type": "code",
      "metadata": {
        "id": "IbtOFYE1f3xy",
        "colab_type": "code",
        "colab": {
          "base_uri": "https://localhost:8080/",
          "height": 275
        },
        "outputId": "32ce2ca3-a07f-45c5-d8ff-a3e085a3c3b6"
      },
      "source": [
        "#Add a new column called 'Cuisine' - focus on 13 main cuisines\n",
        "us_restos['cuisine'] = pd.Series()\n",
        "\n",
        "us_restos.loc[us_restos.categories.str.contains('American'),'cuisine'] = 'American'\n",
        "us_restos.loc[us_restos.categories.str.contains('Mexican'),'cuisine'] = 'Mexican'\n",
        "us_restos.loc[us_restos.categories.str.contains('Italian'),'cuisine'] = 'Italian'\n",
        "us_restos.loc[us_restos.categories.str.contains('Japanese'),'cuisine'] = 'Japanese'\n",
        "us_restos.loc[us_restos.categories.str.contains('Chinese'),'cuisine'] = 'Chinese'\n",
        "us_restos.loc[us_restos.categories.str.contains('Thai'),'cuisine'] = 'Thai'\n",
        "us_restos.loc[us_restos.categories.str.contains('Mediterranean'),'cuisine'] = 'Mediterranean'\n",
        "us_restos.loc[us_restos.categories.str.contains('French'),'cuisine'] = 'French'\n",
        "us_restos.loc[us_restos.categories.str.contains('Vietnamese'),'cuisine'] = 'Vietnamese'\n",
        "us_restos.loc[us_restos.categories.str.contains('Indian'),'cuisine'] = 'Indian'\n",
        "us_restos.loc[us_restos.categories.str.contains('Korean'),'cuisine'] = 'Korean'\n",
        "us_restos.loc[us_restos.categories.str.contains('African'),'cuisine'] = 'African'\n",
        "us_restos.loc[us_restos.categories.str.contains('Spanish'),'cuisine'] = 'Spanish'\n",
        "\n"
      ],
      "execution_count": 10,
      "outputs": [
        {
          "output_type": "stream",
          "text": [
            "/usr/local/lib/python3.6/dist-packages/ipykernel_launcher.py:1: DeprecationWarning: The default dtype for empty Series will be 'object' instead of 'float64' in a future version. Specify a dtype explicitly to silence this warning.\n",
            "  \"\"\"Entry point for launching an IPython kernel.\n",
            "/usr/local/lib/python3.6/dist-packages/ipykernel_launcher.py:1: SettingWithCopyWarning: \n",
            "A value is trying to be set on a copy of a slice from a DataFrame.\n",
            "Try using .loc[row_indexer,col_indexer] = value instead\n",
            "\n",
            "See the caveats in the documentation: https://pandas.pydata.org/pandas-docs/stable/user_guide/indexing.html#returning-a-view-versus-a-copy\n",
            "  \"\"\"Entry point for launching an IPython kernel.\n",
            "/usr/local/lib/python3.6/dist-packages/pandas/core/indexing.py:966: SettingWithCopyWarning: \n",
            "A value is trying to be set on a copy of a slice from a DataFrame.\n",
            "Try using .loc[row_indexer,col_indexer] = value instead\n",
            "\n",
            "See the caveats in the documentation: https://pandas.pydata.org/pandas-docs/stable/user_guide/indexing.html#returning-a-view-versus-a-copy\n",
            "  self.obj[item] = s\n"
          ],
          "name": "stderr"
        }
      ]
    },
    {
      "cell_type": "code",
      "metadata": {
        "id": "RLDkZgVaf-5J",
        "colab_type": "code",
        "colab": {
          "base_uri": "https://localhost:8080/",
          "height": 34
        },
        "outputId": "7747ceea-6afa-471c-a233-5ccf3d0cdf9e"
      },
      "source": [
        "us_restos.cuisine[:30]\n",
        "# Dropping null values in cuisine, deleting original column categories and resetting the index\n",
        "us_restos = us_restos.dropna(axis=0, subset=['cuisine'])\n",
        "del us_restos['categories']\n",
        "us_restos = us_restos.reset_index(drop=True)\n",
        "us_restos.head(10)\n",
        "print(us_restos.shape)"
      ],
      "execution_count": 11,
      "outputs": [
        {
          "output_type": "stream",
          "text": [
            "(22402, 14)\n"
          ],
          "name": "stdout"
        }
      ]
    },
    {
      "cell_type": "code",
      "metadata": {
        "id": "9DbrI2Uwg-BU",
        "colab_type": "code",
        "colab": {
          "base_uri": "https://localhost:8080/",
          "height": 471
        },
        "outputId": "7118c1e2-beb7-4959-dc10-eb2e0a069479"
      },
      "source": [
        "#Distribution of restaurants by cuisine\n",
        "\n",
        "plt.figure(figsize=(16,9))\n",
        "sns.countplot(y = 'cuisine', order = us_restos.cuisine.value_counts().index , data = us_restos, palette = 'viridis' )\n",
        "plt.xlabel(\"Number of restaurants\", fontsize = 14)\n",
        "plt.ylabel(\"Cuisine\", fontsize = 14)"
      ],
      "execution_count": 14,
      "outputs": [
        {
          "output_type": "execute_result",
          "data": {
            "text/plain": [
              "Text(0, 0.5, 'Cuisine')"
            ]
          },
          "metadata": {
            "tags": []
          },
          "execution_count": 14
        },
        {
          "output_type": "display_data",
          "data": {
            "image/png": "[encoded data removed]",
            "text/plain": [
              "<Figure size 1152x648 with 1 Axes>"
            ]
          },
          "metadata": {
            "tags": [],
            "needs_background": "light"
          }
        }
      ]
    },
    {
      "cell_type": "code",
      "metadata": {
        "id": "FIpO0ztIhE-8",
        "colab_type": "code",
        "colab": {
          "base_uri": "https://localhost:8080/",
          "height": 373
        },
        "outputId": "d3afdcef-33be-46cd-c22c-12c084a6c29c"
      },
      "source": [
        "#Top 5 cities with most restaurants\n",
        "plt.figure(figsize=(11,5))\n",
        "group = us_restos.city.value_counts()[:5]\n",
        "sns.barplot(x = group.index, y = group.values, palette = \"RdBu_r\" )\n",
        "plt.xlabel(\"Top five cities\",fontsize = 14 )\n",
        "plt.ylabel(\"Number of restaurants\", fontsize = 14)\n",
        "plt.title(\"Count of restaurants by City (top 5)\", fontsize = 16)"
      ],
      "execution_count": 15,
      "outputs": [
        {
          "output_type": "execute_result",
          "data": {
            "text/plain": [
              "Text(0.5, 1.0, 'Count of restaurants by City (top 5)')"
            ]
          },
          "metadata": {
            "tags": []
          },
          "execution_count": 15
        },
        {
          "output_type": "display_data",
          "data": {
            "image/png": "[encoded data removed]",
            "text/plain": [
              "<Figure size 792x360 with 1 Axes>"
            ]
          },
          "metadata": {
            "tags": [],
            "needs_background": "light"
          }
        }
      ]
    },
    {
      "cell_type": "code",
      "metadata": {
        "id": "deLN_oFRhMFI",
        "colab_type": "code",
        "colab": {
          "base_uri": "https://localhost:8080/",
          "height": 467
        },
        "outputId": "66857603-cecd-4d20-d284-c5350bf4ca28"
      },
      "source": [
        "#Top 10 big cities in terms of restaurant quality (average star ratings)\n",
        "mask = us_restos.city.value_counts()>=20\n",
        "\n",
        "# A city with more than 20 restaurants considered big\n",
        "big_cities = us_restos.city.value_counts()[mask]\n",
        "average_star_rating = us_restos.groupby(['city']).agg({'stars':'mean'})\n",
        "avg_rating_top10 = average_star_rating.loc[big_cities.index].sort_values(by = ['stars'], ascending = False)[:10]\n",
        "plt.figure(figsize = (11,6))\n",
        "sns.barplot(x = avg_rating_top10.index, y = avg_rating_top10.stars, palette = 'viridis')\n",
        "plt.ylabel(\"Average star rating\" , fontsize = 14)\n",
        "plt.xlabel(\"City\", fontsize = 14)\n",
        "plt.title(\"Top 10 cities in terms of Restaurant Average Star Ratings\", fontsize = 15)\n",
        "plt.tick_params(labelsize=10)\n",
        "plt.xticks(rotation=15)\n",
        "\n"
      ],
      "execution_count": 16,
      "outputs": [
        {
          "output_type": "execute_result",
          "data": {
            "text/plain": [
              "(array([0, 1, 2, 3, 4, 5, 6, 7, 8, 9]),\n",
              " <a list of 10 Text major ticklabel objects>)"
            ]
          },
          "metadata": {
            "tags": []
          },
          "execution_count": 16
        },
        {
          "output_type": "display_data",
          "data": {
            "image/png": "[encoded data removed]",
            "text/plain": [
              "<Figure size 792x432 with 1 Axes>"
            ]
          },
          "metadata": {
            "tags": [],
            "needs_background": "light"
          }
        }
      ]
    },
    {
      "cell_type": "code",
      "metadata": {
        "id": "JYpFjS_bhOUO",
        "colab_type": "code",
        "colab": {}
      },
      "source": [
        ""
      ],
      "execution_count": 0,
      "outputs": []
    }
  ]
}