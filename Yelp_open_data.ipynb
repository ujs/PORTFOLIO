{
  "nbformat": 4,
  "nbformat_minor": 0,
  "metadata": {
    "colab": {
      "name": "Yelp_open_data.ipynb",
      "provenance": [],
      "collapsed_sections": [],
      "machine_shape": "hm",
      "authorship_tag": "ABX9TyNLyg9wiBaPRjDxMBv5xxKR",
      "include_colab_link": true
    },
    "kernelspec": {
      "name": "python3",
      "display_name": "Python 3"
    },
    "accelerator": "TPU"
  },
  "cells": [
    {
      "cell_type": "markdown",
      "metadata": {
        "id": "view-in-github",
        "colab_type": "text"
      },
      "source": [
        "<a href=\"https://colab.research.google.com/github/ujs/open_data/blob/master/Yelp_open_data.ipynb\" target=\"_parent\"><img src=\"https://colab.research.google.com/assets/colab-badge.svg\" alt=\"Open In Colab\"/></a>"
      ]
    },
    {
      "cell_type": "code",
      "metadata": {
        "id": "aUxvS5jOPzWM",
        "colab_type": "code",
        "colab": {}
      },
      "source": [
        "#Importing libraries\n",
        "import numpy as np\n",
        "import pandas as pd\n",
        "import math\n",
        "import os\n",
        "import json\n",
        "import matplotlib.pyplot as plt"
      ],
      "execution_count": 0,
      "outputs": []
    },
    {
      "cell_type": "markdown",
      "metadata": {
        "id": "jl_hE0Y6P1T5",
        "colab_type": "text"
      },
      "source": [
        "## Data Wrangling \n",
        "Extracting data from JSON into CSV format."
      ]
    },
    {
      "cell_type": "code",
      "metadata": {
        "id": "y8xbInnAOQQ8",
        "colab_type": "code",
        "outputId": "457007fb-e6d2-43bc-806a-d6e67054660b",
        "colab": {
          "base_uri": "https://localhost:8080/",
          "height": 354
        }
      },
      "source": [
        "def json_to_csv (filename, create_sample = False):\n",
        "  '''converts given json file to csv'''\n",
        "  json_data = []\n",
        "  with open(filename, encoding = \"utf8\") as file:\n",
        "    for line in file:\n",
        "      json_data.append(json.loads(line.rstrip()))\n",
        "  \n",
        "  # since, each observation in the json_data list is a nested dictionary, we need to use 'from_dict'\n",
        "  df = pd.DataFrame.from_dict(json_data)\n",
        "  \n",
        "  csvFileName = filename[:len(filename)-5] + '.csv'\n",
        "  df.to_csv(csvFileName)\n",
        "  print('{0} created'.format(csvFileName))\n",
        "\n",
        "  if create_sample == True:\n",
        "    np.random.seed(0)\n",
        "    mask = np.random.rand(len(df)) <= 0.1\n",
        "    sample = df[mask]\n",
        "    sampleFileName = filename[:len(filename)-5] + '_sample.csv'\n",
        "\n",
        "    sample.to_csv(sampleFileName)\n",
        "    print('sample file, {0} created'.format(csvFileName))\n",
        "    return df, sampleFileName\n",
        "\n",
        "  else: return df,csvFileName\n",
        "\n",
        "#testing function\n",
        "filename = \"content/yelp_academic_dataset_business.json\"\n",
        "df_business, csvname_business = json_to_csv (filename)\n",
        "df_business.head()"
      ],
      "execution_count": 0,
      "outputs": [
        {
          "output_type": "error",
          "ename": "FileNotFoundError",
          "evalue": "ignored",
          "traceback": [
            "\u001b[0;31m---------------------------------------------------------------------------\u001b[0m",
            "\u001b[0;31mFileNotFoundError\u001b[0m                         Traceback (most recent call last)",
            "\u001b[0;32m<ipython-input-7-8e052ae1e393>\u001b[0m in \u001b[0;36m<module>\u001b[0;34m()\u001b[0m\n\u001b[1;32m     27\u001b[0m \u001b[0;31m#testing function\u001b[0m\u001b[0;34m\u001b[0m\u001b[0;34m\u001b[0m\u001b[0;34m\u001b[0m\u001b[0m\n\u001b[1;32m     28\u001b[0m \u001b[0mfilename\u001b[0m \u001b[0;34m=\u001b[0m \u001b[0;34m\"content/yelp_academic_dataset_business.json\"\u001b[0m\u001b[0;34m\u001b[0m\u001b[0;34m\u001b[0m\u001b[0m\n\u001b[0;32m---> 29\u001b[0;31m \u001b[0mdf_business\u001b[0m\u001b[0;34m,\u001b[0m \u001b[0mcsvname_business\u001b[0m \u001b[0;34m=\u001b[0m \u001b[0mjson_to_csv\u001b[0m \u001b[0;34m(\u001b[0m\u001b[0mfilename\u001b[0m\u001b[0;34m)\u001b[0m\u001b[0;34m\u001b[0m\u001b[0;34m\u001b[0m\u001b[0m\n\u001b[0m\u001b[1;32m     30\u001b[0m \u001b[0mdf_business\u001b[0m\u001b[0;34m.\u001b[0m\u001b[0mhead\u001b[0m\u001b[0;34m(\u001b[0m\u001b[0;34m)\u001b[0m\u001b[0;34m\u001b[0m\u001b[0;34m\u001b[0m\u001b[0m\n",
            "\u001b[0;32m<ipython-input-7-8e052ae1e393>\u001b[0m in \u001b[0;36mjson_to_csv\u001b[0;34m(filename, create_sample)\u001b[0m\n\u001b[1;32m      2\u001b[0m   \u001b[0;34m'''converts given json file to csv'''\u001b[0m\u001b[0;34m\u001b[0m\u001b[0;34m\u001b[0m\u001b[0m\n\u001b[1;32m      3\u001b[0m   \u001b[0mjson_data\u001b[0m \u001b[0;34m=\u001b[0m \u001b[0;34m[\u001b[0m\u001b[0;34m]\u001b[0m\u001b[0;34m\u001b[0m\u001b[0;34m\u001b[0m\u001b[0m\n\u001b[0;32m----> 4\u001b[0;31m   \u001b[0;32mwith\u001b[0m \u001b[0mopen\u001b[0m\u001b[0;34m(\u001b[0m\u001b[0mfilename\u001b[0m\u001b[0;34m,\u001b[0m \u001b[0mencoding\u001b[0m \u001b[0;34m=\u001b[0m \u001b[0;34m\"utf8\"\u001b[0m\u001b[0;34m)\u001b[0m \u001b[0;32mas\u001b[0m \u001b[0mfile\u001b[0m\u001b[0;34m:\u001b[0m\u001b[0;34m\u001b[0m\u001b[0;34m\u001b[0m\u001b[0m\n\u001b[0m\u001b[1;32m      5\u001b[0m     \u001b[0;32mfor\u001b[0m \u001b[0mline\u001b[0m \u001b[0;32min\u001b[0m \u001b[0mfile\u001b[0m\u001b[0;34m:\u001b[0m\u001b[0;34m\u001b[0m\u001b[0;34m\u001b[0m\u001b[0m\n\u001b[1;32m      6\u001b[0m       \u001b[0mjson_data\u001b[0m\u001b[0;34m.\u001b[0m\u001b[0mappend\u001b[0m\u001b[0;34m(\u001b[0m\u001b[0mjson\u001b[0m\u001b[0;34m.\u001b[0m\u001b[0mloads\u001b[0m\u001b[0;34m(\u001b[0m\u001b[0mline\u001b[0m\u001b[0;34m.\u001b[0m\u001b[0mrstrip\u001b[0m\u001b[0;34m(\u001b[0m\u001b[0;34m)\u001b[0m\u001b[0;34m)\u001b[0m\u001b[0;34m)\u001b[0m\u001b[0;34m\u001b[0m\u001b[0;34m\u001b[0m\u001b[0m\n",
            "\u001b[0;31mFileNotFoundError\u001b[0m: [Errno 2] No such file or directory: 'content/yelp_academic_dataset_business.json'"
          ]
        }
      ]
    },
    {
      "cell_type": "markdown",
      "metadata": {
        "id": "R8DXpiHAfKGw",
        "colab_type": "text"
      },
      "source": [
        "## Exploratory Data Analysis"
      ]
    },
    {
      "cell_type": "code",
      "metadata": {
        "id": "nvj5FxR1SBm5",
        "colab_type": "code",
        "colab": {}
      },
      "source": [
        "#Understanding the basics of data\n",
        "def data_basics(df):\n",
        "  print('Number of features in data frame: ', len(df.columns))\n",
        "  print('Features of the date frame: ', df.columns)\n",
        "  d_type = {i:df[i].dtype for i in df.columns}\n",
        "  print(\"Data type for each feature: \", d_type)\n",
        "  print(\"Data Descriptive Stats: \", df.describe)"
      ],
      "execution_count": 0,
      "outputs": []
    },
    {
      "cell_type": "code",
      "metadata": {
        "id": "qRLMe_lAjPP3",
        "colab_type": "code",
        "outputId": "470f09cf-3454-48cb-9b10-bb30ea244f28",
        "colab": {
          "base_uri": "https://localhost:8080/",
          "height": 377
        }
      },
      "source": [
        "data_basics(df_business)"
      ],
      "execution_count": 0,
      "outputs": [
        {
          "output_type": "stream",
          "text": [
            "Number of features in data frame:  14\n",
            "Features of the date frame:  Index(['business_id', 'name', 'address', 'city', 'state', 'postal_code',\n",
            "       'latitude', 'longitude', 'stars', 'review_count', 'is_open',\n",
            "       'attributes', 'categories', 'hours'],\n",
            "      dtype='object')\n",
            "Data type for each feature:  {'business_id': dtype('O'), 'name': dtype('O'), 'address': dtype('O'), 'city': dtype('O'), 'state': dtype('O'), 'postal_code': dtype('O'), 'latitude': dtype('float64'), 'longitude': dtype('float64'), 'stars': dtype('float64'), 'review_count': dtype('int64'), 'is_open': dtype('int64'), 'attributes': dtype('O'), 'categories': dtype('O'), 'hours': dtype('O')}\n",
            "Data Descriptive Stats:  <bound method NDFrame.describe of                    business_id  ...                                              hours\n",
            "0       f9NumwFMBDn751xgFiRbNA  ...  {'Monday': '10:0-18:0', 'Tuesday': '11:0-20:0'...\n",
            "1       Yzvjg0SayhoZgCljUJRF9Q  ...                                               None\n",
            "2       XNoUzKckATkOD1hP6vghZg  ...                                               None\n",
            "3       6OAZjbxqM5ol29BuHsil3w  ...  {'Monday': '7:0-16:0', 'Tuesday': '7:0-16:0', ...\n",
            "4       51M2Kk903DFYI6gnB5I6SQ  ...  {'Monday': '0:0-0:0', 'Tuesday': '9:0-16:0', '...\n",
            "...                        ...  ...                                                ...\n",
            "209388  9Q0fPWAjUweoFDk0kafuzQ  ...  {'Monday': '11:0-22:0', 'Tuesday': '11:0-22:0'...\n",
            "209389  PotiAhtDMYMNsJCzV0oLAw  ...                                               None\n",
            "209390  SYa2j1boLF8DcGVOYfHPcA  ...  {'Monday': '11:0-22:0', 'Tuesday': '11:0-22:0'...\n",
            "209391  RSSIsgO00OuWQTRoITacpA  ...  {'Monday': '0:0-0:0', 'Tuesday': '7:0-19:0', '...\n",
            "209392  tOcYmewXFhQeZh3V42ymwg  ...  {'Monday': '9:0-18:0', 'Tuesday': '9:0-18:0', ...\n",
            "\n",
            "[209393 rows x 14 columns]>\n"
          ],
          "name": "stdout"
        }
      ]
    },
    {
      "cell_type": "code",
      "metadata": {
        "id": "jHQjLB5CgGJf",
        "colab_type": "code",
        "outputId": "ceac337e-40fe-4653-82e9-98b37f59f4b9",
        "colab": {
          "base_uri": "https://localhost:8080/",
          "height": 593
        }
      },
      "source": [
        "#Missing Values\n",
        "def visualize_missing_values(df):\n",
        "  missing_values = df.isnull().sum() \n",
        "  print(\"total missing values in dataframe: \", df.isnull().sum().sum())\n",
        "  print(missing_values)\n",
        "  missing_values.plot.bar(color = 'teal')\n",
        "\n",
        "#testing function\n",
        "visualize_missing_values(df_business)\n"
      ],
      "execution_count": 0,
      "outputs": [
        {
          "output_type": "stream",
          "text": [
            "total missing values in dataframe:  74412\n",
            "business_id         0\n",
            "name                0\n",
            "address             0\n",
            "city                0\n",
            "state               0\n",
            "postal_code         0\n",
            "latitude            0\n",
            "longitude           0\n",
            "stars               0\n",
            "review_count        0\n",
            "is_open             0\n",
            "attributes      29045\n",
            "categories        524\n",
            "hours           44843\n",
            "dtype: int64\n"
          ],
          "name": "stdout"
        },
        {
          "output_type": "display_data",
          "data": {
            "image/png": "[encoded data removed]",
            "text/plain": [
              "<Figure size 432x288 with 1 Axes>"
            ]
          },
          "metadata": {
            "tags": [],
            "needs_background": "light"
          }
        }
      ]
    },
    {
      "cell_type": "code",
      "metadata": {
        "id": "Mr3ukN9xn-cu",
        "colab_type": "code",
        "outputId": "9f0d524e-9ff4-43a4-b0c9-e3c188704b68",
        "colab": {
          "base_uri": "https://localhost:8080/",
          "height": 282
        }
      },
      "source": [
        "#\n",
        "\n",
        "\n",
        "  \n",
        "\n"
      ],
      "execution_count": 0,
      "outputs": [
        {
          "output_type": "execute_result",
          "data": {
            "text/plain": [
              "<matplotlib.axes._subplots.AxesSubplot at 0x7ff27d482198>"
            ]
          },
          "metadata": {
            "tags": []
          },
          "execution_count": 33
        },
        {
          "output_type": "display_data",
          "data": {
            "image/png": "[encoded data removed]",
            "text/plain": [
              "<Figure size 1872x1224 with 1 Axes>"
            ]
          },
          "metadata": {
            "tags": [],
            "needs_background": "light"
          }
        }
      ]
    },
    {
      "cell_type": "code",
      "metadata": {
        "id": "wN9O8Bu-0-3U",
        "colab_type": "code",
        "outputId": "e7f7e932-ef69-4bc6-e698-0607cae1a577",
        "colab": {
          "base_uri": "https://localhost:8080/",
          "height": 374
        }
      },
      "source": [
        "pivot_by_city = df_business.pivot_table(index='city', values='business_id', aggfunc='count')\n",
        "\n",
        "#plotting top 20 cities with highest number of restaurants\n",
        "top_20_cities = pivot_by_city.sort_values(\"business_id\", ascending = [False])[:20]\n",
        "top_20_cities.plot(kind = 'bar', figsize = [16,6], colormap = 'viridis')"
      ],
      "execution_count": 0,
      "outputs": [
        {
          "output_type": "execute_result",
          "data": {
            "text/plain": [
              "<matplotlib.axes._subplots.AxesSubplot at 0x7ff269419cf8>"
            ]
          },
          "metadata": {
            "tags": []
          },
          "execution_count": 34
        },
        {
          "output_type": "display_data",
          "data": {
            "image/png": "[encoded data removed]",
            "text/plain": [
              "<Figure size 1152x432 with 1 Axes>"
            ]
          },
          "metadata": {
            "tags": [],
            "needs_background": "light"
          }
        }
      ]
    },
    {
      "cell_type": "code",
      "metadata": {
        "id": "i8FbMNJnfsdG",
        "colab_type": "code",
        "colab": {}
      },
      "source": [
        "#Create a new dataframe only containing American businesses\n",
        "states = [\"AL\", \"AK\", \"AZ\", \"AR\", \"CA\", \"CO\", \"CT\", \"DC\", \"DE\", \"FL\", \"GA\", \n",
        "          \"HI\", \"ID\", \"IL\", \"IN\", \"IA\", \"KS\", \"KY\", \"LA\", \"ME\", \"MD\", \n",
        "          \"MA\", \"MI\", \"MN\", \"MS\", \"MO\", \"MT\", \"NE\", \"NV\", \"NH\", \"NJ\", \n",
        "          \"NM\", \"NY\", \"NC\", \"ND\", \"OH\", \"OK\", \"OR\", \"PA\", \"RI\", \"SC\", \n",
        "          \"SD\", \"TN\", \"TX\", \"UT\", \"VT\", \"VA\", \"WA\", \"WV\", \"WI\", \"WY\"]\n",
        "\n",
        "\n",
        "us = df_business.loc[df_business['state'].isin(states)]"
      ],
      "execution_count": 0,
      "outputs": []
    },
    {
      "cell_type": "code",
      "metadata": {
        "id": "HOmF8TZ2f1Ev",
        "colab_type": "code",
        "colab": {}
      },
      "source": [
        "#Analysing only restaurants in the US\n",
        "mask_restos = us['categories'].str.contains('Restaurants', na=False)\n",
        "us_restos = us[mask_restos]\n",
        "us_restos.head()"
      ],
      "execution_count": 0,
      "outputs": []
    },
    {
      "cell_type": "code",
      "metadata": {
        "id": "IbtOFYE1f3xy",
        "colab_type": "code",
        "colab": {}
      },
      "source": [
        "#Add a new column called 'Cuisine' - focus on 13 main cuisines\n",
        "us_restos['cuisine'] = pd.Series()\n",
        "\n",
        "us_restos.loc[us_restos.categories.str.contains('American'),'cuisine'] = 'American'\n",
        "us_restos.loc[us_restos.categories.str.contains('Mexican'),'cuisine'] = 'Mexican'\n",
        "us_restos.loc[us_restos.categories.str.contains('Italian'),'cuisine'] = 'Italian'\n",
        "us_restos.loc[us_restos.categories.str.contains('Japanese'),'cuisine'] = 'Japanese'\n",
        "us_restos.loc[us_restos.categories.str.contains('Chinese'),'cuisine'] = 'Chinese'\n",
        "us_restos.loc[us_restos.categories.str.contains('Thai'),'cuisine'] = 'Thai'\n",
        "us_restos.loc[us_restos.categories.str.contains('Mediterranean'),'cuisine'] = 'Mediterranean'\n",
        "us_restos.loc[us_restos.categories.str.contains('French'),'cuisine'] = 'French'\n",
        "us_restos.loc[us_restos.categories.str.contains('Vietnamese'),'cuisine'] = 'Vietnamese'\n",
        "us_restos.loc[us_restos.categories.str.contains('Indian'),'cuisine'] = 'Indian'\n",
        "us_restos.loc[us_restos.categories.str.contains('Korean'),'cuisine'] = 'Korean'\n",
        "us_restos.loc[us_restos.categories.str.contains('African'),'cuisine'] = 'African'\n",
        "us_restos.loc[us_restos.categories.str.contains('Spanish'),'cuisine'] = 'Spanish'\n",
        "\n"
      ],
      "execution_count": 0,
      "outputs": []
    }
  ]
}