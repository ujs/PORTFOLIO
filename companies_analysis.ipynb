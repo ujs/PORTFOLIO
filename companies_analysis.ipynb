{
  "nbformat": 4,
  "nbformat_minor": 0,
  "metadata": {
    "colab": {
      "name": "companies_analysis.ipynb",
      "provenance": [],
      "collapsed_sections": [],
      "authorship_tag": "ABX9TyNNRIH+zd0b8lOUwDaLm4bB"
    },
    "kernelspec": {
      "name": "python3",
      "display_name": "Python 3"
    },
    "accelerator": "GPU"
  },
  "cells": [
    {
      "cell_type": "code",
      "metadata": {
        "id": "q422z3sjRelZ",
        "colab_type": "code",
        "colab": {}
      },
      "source": [
        "#importing libraries\n",
        "import pandas as pd\n",
        "import numpy as np\n",
        "import matplotlib.pyplot as plt\n",
        "import seaborn as sns\n",
        "import missingno as mn"
      ],
      "execution_count": null,
      "outputs": []
    },
    {
      "cell_type": "code",
      "metadata": {
        "id": "CWJb-pD8SRXm",
        "colab_type": "code",
        "colab": {}
      },
      "source": [
        "#Loading data in dataframe\n",
        "\n",
        "df = pd.read_csv('companies.csv')\n",
        "df.head()"
      ],
      "execution_count": null,
      "outputs": []
    },
    {
      "cell_type": "code",
      "metadata": {
        "id": "-7tokL9XTc-Q",
        "colab_type": "code",
        "colab": {}
      },
      "source": [
        "#General info about data\n",
        "print(df.info())\n",
        "print('\\n')\n",
        "\n",
        "#Missing values\n",
        "print(df.isna().mean() * 100)\n",
        "mn.matrix(df)\n",
        "\n"
      ],
      "execution_count": null,
      "outputs": []
    },
    {
      "cell_type": "code",
      "metadata": {
        "id": "2vqtOJ-Rgqs2",
        "colab_type": "code",
        "colab": {}
      },
      "source": [
        "#Understanding missing values data\n",
        "df.loc[df.name.isna(),['homepage_url','status','country_code']]"
      ],
      "execution_count": null,
      "outputs": []
    },
    {
      "cell_type": "code",
      "metadata": {
        "id": "S6ufvveB885i",
        "colab_type": "code",
        "colab": {}
      },
      "source": [
        "#Assess dtype of funding column\n",
        "print(df.funding_total_usd.str.isnumeric().value_counts())\n",
        "print('\\n')\n",
        "print(df.funding_total_usd[df.funding_total_usd.str.isalnum() == False].value_counts())"
      ],
      "execution_count": null,
      "outputs": []
    },
    {
      "cell_type": "code",
      "metadata": {
        "id": "PYBpxapD_A2x",
        "colab_type": "code",
        "colab": {}
      },
      "source": [
        "#Function to clean data (handle missing values, categorical variables, ambiguity in data representation like date format etc\n",
        "\n",
        "def clean_data(df):\n",
        "  #missing values \n",
        "  #(the main features of interest are 'name','category_list','funding_total_usd','country_code','region')\n",
        "  df.dropna(subset = ['name','category_list','funding_total_usd','country_code','region'])\n",
        "\n",
        "  #Categorical Variables\n",
        "  #Clean '-' values from 'funding_total_usd' column\n",
        "  df = df[df.funding_total_usd != '-']\n",
        "  #Updating dtype\n",
        "  df.funding_total_usd = df.funding_total_usd.apply(lambda x: float(x))\n",
        "\n",
        "  #Extracting subset of mid size companies based on valuation (eliminating very small & very big companies)\n",
        "  df = df[(df.funding_total_usd > 10000000) & (df.funding_total_usd < 200000000)]\n",
        "\n",
        "  return df"
      ],
      "execution_count": null,
      "outputs": []
    },
    {
      "cell_type": "code",
      "metadata": {
        "id": "aMIIFuFZmywY",
        "colab_type": "code",
        "colab": {
          "base_uri": "https://localhost:8080/",
          "height": 384
        },
        "outputId": "bae1500b-e4af-45cc-aeca-6a0bca75fc25"
      },
      "source": [
        "clean_df = clean_data(df)\n",
        "print(clean_df.shape, clean_df.info)"
      ],
      "execution_count": null,
      "outputs": [
        {
          "output_type": "stream",
          "text": [
            "(12648, 14) <bound method DataFrame.info of                                    permalink  ... last_funding_at\n",
            "7                       /organization/0xdata  ...      2015-11-09\n",
            "21                     /organization/1000chi  ...      2010-04-01\n",
            "25                  /organization/1001-menus  ...      2015-11-04\n",
            "32                    /organization/1010data  ...      2010-03-08\n",
            "40                /organization/10x-genomics  ...      2015-01-12\n",
            "...                                      ...  ...             ...\n",
            "66350  /organization/zynerba-pharmaceuticals  ...      2014-10-14\n",
            "66353                 /organization/zyngenia  ...      2010-09-09\n",
            "66354                  /organization/zynstra  ...      2014-07-09\n",
            "66355               /organization/zyomyx-inc  ...      2014-03-26\n",
            "66358         /organization/zyraz-technology  ...      2013-02-15\n",
            "\n",
            "[12648 rows x 14 columns]>\n"
          ],
          "name": "stdout"
        },
        {
          "output_type": "stream",
          "text": [
            "/usr/local/lib/python3.6/dist-packages/pandas/core/generic.py:5303: SettingWithCopyWarning: \n",
            "A value is trying to be set on a copy of a slice from a DataFrame.\n",
            "Try using .loc[row_indexer,col_indexer] = value instead\n",
            "\n",
            "See the caveats in the documentation: https://pandas.pydata.org/pandas-docs/stable/user_guide/indexing.html#returning-a-view-versus-a-copy\n",
            "  self[name] = value\n"
          ],
          "name": "stderr"
        }
      ]
    },
    {
      "cell_type": "code",
      "metadata": {
        "id": "ZAI22qaznuzN",
        "colab_type": "code",
        "colab": {
          "base_uri": "https://localhost:8080/",
          "height": 455
        },
        "outputId": "7305a3c9-9704-4f8e-8128-805d6c93435b"
      },
      "source": [
        "clean_df.pivot_table(values = 'funding_total_usd', index = 'category_list', aggfunc= 'mean')"
      ],
      "execution_count": null,
      "outputs": [
        {
          "output_type": "execute_result",
          "data": {
            "text/html": [
              "<div>\n",
              "<style scoped>\n",
              "    .dataframe tbody tr th:only-of-type {\n",
              "        vertical-align: middle;\n",
              "    }\n",
              "\n",
              "    .dataframe tbody tr th {\n",
              "        vertical-align: top;\n",
              "    }\n",
              "\n",
              "    .dataframe thead th {\n",
              "        text-align: right;\n",
              "    }\n",
              "</style>\n",
              "<table border=\"1\" class=\"dataframe\">\n",
              "  <thead>\n",
              "    <tr style=\"text-align: right;\">\n",
              "      <th></th>\n",
              "      <th>funding_total_usd</th>\n",
              "    </tr>\n",
              "    <tr>\n",
              "      <th>category_list</th>\n",
              "      <th></th>\n",
              "    </tr>\n",
              "  </thead>\n",
              "  <tbody>\n",
              "    <tr>\n",
              "      <th>3D Printing</th>\n",
              "      <td>6500000.0</td>\n",
              "    </tr>\n",
              "    <tr>\n",
              "      <th>3D Printing|3D Technology|Manufacturing|Photography</th>\n",
              "      <td>31299000.0</td>\n",
              "    </tr>\n",
              "    <tr>\n",
              "      <th>3D Printing|3D Technology|Startups</th>\n",
              "      <td>14000000.0</td>\n",
              "    </tr>\n",
              "    <tr>\n",
              "      <th>3D Printing|Cloud Computing|Consulting|E-Commerce</th>\n",
              "      <td>11400000.0</td>\n",
              "    </tr>\n",
              "    <tr>\n",
              "      <th>3D Printing|Digital Signage|Printing</th>\n",
              "      <td>38000000.0</td>\n",
              "    </tr>\n",
              "    <tr>\n",
              "      <th>...</th>\n",
              "      <td>...</td>\n",
              "    </tr>\n",
              "    <tr>\n",
              "      <th>iPhone|Local|Location Based Services|Mobile|Social Media</th>\n",
              "      <td>12750000.0</td>\n",
              "    </tr>\n",
              "    <tr>\n",
              "      <th>iPhone|Mobile</th>\n",
              "      <td>6000000.0</td>\n",
              "    </tr>\n",
              "    <tr>\n",
              "      <th>iPhone|Mobile|Mobile Devices|Mobile Security|Wireless</th>\n",
              "      <td>38500000.0</td>\n",
              "    </tr>\n",
              "    <tr>\n",
              "      <th>iPhone|News</th>\n",
              "      <td>9800000.0</td>\n",
              "    </tr>\n",
              "    <tr>\n",
              "      <th>mHealth</th>\n",
              "      <td>7300000.0</td>\n",
              "    </tr>\n",
              "  </tbody>\n",
              "</table>\n",
              "<p>6480 rows × 1 columns</p>\n",
              "</div>"
            ],
            "text/plain": [
              "                                                    funding_total_usd\n",
              "category_list                                                        \n",
              "3D Printing                                                 6500000.0\n",
              "3D Printing|3D Technology|Manufacturing|Photogr...         31299000.0\n",
              "3D Printing|3D Technology|Startups                         14000000.0\n",
              "3D Printing|Cloud Computing|Consulting|E-Commerce          11400000.0\n",
              "3D Printing|Digital Signage|Printing                       38000000.0\n",
              "...                                                               ...\n",
              "iPhone|Local|Location Based Services|Mobile|Soc...         12750000.0\n",
              "iPhone|Mobile                                               6000000.0\n",
              "iPhone|Mobile|Mobile Devices|Mobile Security|Wi...         38500000.0\n",
              "iPhone|News                                                 9800000.0\n",
              "mHealth                                                     7300000.0\n",
              "\n",
              "[6480 rows x 1 columns]"
            ]
          },
          "metadata": {
            "tags": []
          },
          "execution_count": 78
        }
      ]
    },
    {
      "cell_type": "code",
      "metadata": {
        "id": "OE9Pw1-XpASd",
        "colab_type": "code",
        "colab": {
          "base_uri": "https://localhost:8080/",
          "height": 359
        },
        "outputId": "67a30582-d177-4958-8ce1-f86540872db5"
      },
      "source": [
        "df.region.value_counts()[:10].plot.bar(color ='orange')"
      ],
      "execution_count": null,
      "outputs": [
        {
          "output_type": "execute_result",
          "data": {
            "text/plain": [
              "<matplotlib.axes._subplots.AxesSubplot at 0x7fc7cc59b630>"
            ]
          },
          "metadata": {
            "tags": []
          },
          "execution_count": 36
        },
        {
          "output_type": "display_data",
          "data": {
            "image/png": "[encoded data removed]",
            "text/plain": [
              "<Figure size 432x288 with 1 Axes>"
            ]
          },
          "metadata": {
            "tags": [],
            "needs_background": "light"
          }
        }
      ]
    },
    {
      "cell_type": "code",
      "metadata": {
        "id": "99JQ8yRGJ7Om",
        "colab_type": "code",
        "colab": {
          "base_uri": "https://localhost:8080/",
          "height": 294
        },
        "outputId": "6ab1256c-eebd-4cd3-a015-63e4d3e6c662"
      },
      "source": [
        "df.country_code.value_counts()[:10].plot.bar(color ='red')"
      ],
      "execution_count": null,
      "outputs": [
        {
          "output_type": "execute_result",
          "data": {
            "text/plain": [
              "<matplotlib.axes._subplots.AxesSubplot at 0x7fc7c2a7c780>"
            ]
          },
          "metadata": {
            "tags": []
          },
          "execution_count": 40
        },
        {
          "output_type": "display_data",
          "data": {
            "image/png": "[encoded data removed]",
            "text/plain": [
              "<Figure size 432x288 with 1 Axes>"
            ]
          },
          "metadata": {
            "tags": [],
            "needs_background": "light"
          }
        }
      ]
    },
    {
      "cell_type": "code",
      "metadata": {
        "id": "TymiQl0pqoY1",
        "colab_type": "code",
        "colab": {}
      },
      "source": [
        "df.nlargest(15, 'funding_total_usd')"
      ],
      "execution_count": null,
      "outputs": []
    },
    {
      "cell_type": "code",
      "metadata": {
        "id": "Ub_qvhrsrH0F",
        "colab_type": "code",
        "colab": {
          "base_uri": "https://localhost:8080/",
          "height": 282
        },
        "outputId": "03f813b1-e9af-4131-b786-d523d54f7481"
      },
      "source": [
        "df.funding_rounds.hist()"
      ],
      "execution_count": null,
      "outputs": [
        {
          "output_type": "execute_result",
          "data": {
            "text/plain": [
              "<matplotlib.axes._subplots.AxesSubplot at 0x7fc7c2314048>"
            ]
          },
          "metadata": {
            "tags": []
          },
          "execution_count": 43
        },
        {
          "output_type": "display_data",
          "data": {
            "image/png": "[encoded data removed]",
            "text/plain": [
              "<Figure size 432x288 with 1 Axes>"
            ]
          },
          "metadata": {
            "tags": [],
            "needs_background": "light"
          }
        }
      ]
    },
    {
      "cell_type": "code",
      "metadata": {
        "id": "UiZPiEldLg4O",
        "colab_type": "code",
        "colab": {}
      },
      "source": [
        ""
      ],
      "execution_count": null,
      "outputs": []
    }
  ]
}