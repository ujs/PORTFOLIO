{
  "nbformat": 4,
  "nbformat_minor": 0,
  "metadata": {
    "colab": {
      "name": "companies_analysis.ipynb",
      "provenance": [],
      "collapsed_sections": [],
      "authorship_tag": "ABX9TyOPds5znbHuhwQCf+lPK1lD"
    },
    "kernelspec": {
      "name": "python3",
      "display_name": "Python 3"
    },
    "accelerator": "TPU"
  },
  "cells": [
    {
      "cell_type": "code",
      "metadata": {
        "id": "q422z3sjRelZ",
        "colab_type": "code",
        "colab": {}
      },
      "source": [
        "#importing libraries\n",
        "import pandas as pd\n",
        "import numpy as np\n",
        "import matplotlib.pyplot as plt\n",
        "import seaborn as sns\n",
        "import missingno as mn"
      ],
      "execution_count": 3,
      "outputs": []
    },
    {
      "cell_type": "code",
      "metadata": {
        "id": "CWJb-pD8SRXm",
        "colab_type": "code",
        "colab": {
          "base_uri": "https://localhost:8080/",
          "height": 313
        },
        "outputId": "532a9c21-778c-4e70-9785-50063e6041a2"
      },
      "source": [
        "#Loading data in dataframe\n",
        "df = pd.read_csv('companies.csv', encoding= 'latin1', header = 0)\n",
        "df = df.drop([df.columns[0]], axis = 1)\n",
        "df.head()           "
      ],
      "execution_count": 4,
      "outputs": [
        {
          "output_type": "execute_result",
          "data": {
            "text/html": [
              "<div>\n",
              "<style scoped>\n",
              "    .dataframe tbody tr th:only-of-type {\n",
              "        vertical-align: middle;\n",
              "    }\n",
              "\n",
              "    .dataframe tbody tr th {\n",
              "        vertical-align: top;\n",
              "    }\n",
              "\n",
              "    .dataframe thead th {\n",
              "        text-align: right;\n",
              "    }\n",
              "</style>\n",
              "<table border=\"1\" class=\"dataframe\">\n",
              "  <thead>\n",
              "    <tr style=\"text-align: right;\">\n",
              "      <th></th>\n",
              "      <th>name</th>\n",
              "      <th>homepage_url</th>\n",
              "      <th>category_list</th>\n",
              "      <th>funding_total_usd</th>\n",
              "      <th>status</th>\n",
              "      <th>country_code</th>\n",
              "      <th>state_code</th>\n",
              "      <th>region</th>\n",
              "      <th>city</th>\n",
              "      <th>funding_rounds</th>\n",
              "      <th>founded_at</th>\n",
              "      <th>first_funding_at</th>\n",
              "      <th>last_funding_at</th>\n",
              "    </tr>\n",
              "  </thead>\n",
              "  <tbody>\n",
              "    <tr>\n",
              "      <th>0</th>\n",
              "      <td>#fame</td>\n",
              "      <td>http://livfame.com</td>\n",
              "      <td>Media</td>\n",
              "      <td>10000000</td>\n",
              "      <td>operating</td>\n",
              "      <td>IND</td>\n",
              "      <td>16</td>\n",
              "      <td>Mumbai</td>\n",
              "      <td>Mumbai</td>\n",
              "      <td>1</td>\n",
              "      <td>NaN</td>\n",
              "      <td>2015-01-05</td>\n",
              "      <td>2015-01-05</td>\n",
              "    </tr>\n",
              "    <tr>\n",
              "      <th>1</th>\n",
              "      <td>:Qounter</td>\n",
              "      <td>http://www.qounter.com</td>\n",
              "      <td>Application Platforms|Real Time|Social Network...</td>\n",
              "      <td>700000</td>\n",
              "      <td>operating</td>\n",
              "      <td>USA</td>\n",
              "      <td>DE</td>\n",
              "      <td>DE - Other</td>\n",
              "      <td>Delaware City</td>\n",
              "      <td>2</td>\n",
              "      <td>2014-09-04</td>\n",
              "      <td>2014-03-01</td>\n",
              "      <td>2014-10-14</td>\n",
              "    </tr>\n",
              "    <tr>\n",
              "      <th>2</th>\n",
              "      <td>(THE) ONE of THEM,Inc.</td>\n",
              "      <td>http://oneofthem.jp</td>\n",
              "      <td>Apps|Games|Mobile</td>\n",
              "      <td>3406878</td>\n",
              "      <td>operating</td>\n",
              "      <td>NaN</td>\n",
              "      <td>NaN</td>\n",
              "      <td>NaN</td>\n",
              "      <td>NaN</td>\n",
              "      <td>1</td>\n",
              "      <td>NaN</td>\n",
              "      <td>2014-01-30</td>\n",
              "      <td>2014-01-30</td>\n",
              "    </tr>\n",
              "    <tr>\n",
              "      <th>3</th>\n",
              "      <td>0-6.com</td>\n",
              "      <td>http://www.0-6.com</td>\n",
              "      <td>Curated Web</td>\n",
              "      <td>2000000</td>\n",
              "      <td>operating</td>\n",
              "      <td>CHN</td>\n",
              "      <td>22</td>\n",
              "      <td>Beijing</td>\n",
              "      <td>Beijing</td>\n",
              "      <td>1</td>\n",
              "      <td>2007-01-01</td>\n",
              "      <td>2008-03-19</td>\n",
              "      <td>2008-03-19</td>\n",
              "    </tr>\n",
              "    <tr>\n",
              "      <th>4</th>\n",
              "      <td>004 Technologies</td>\n",
              "      <td>http://004gmbh.de/en/004-interact</td>\n",
              "      <td>Software</td>\n",
              "      <td>-</td>\n",
              "      <td>operating</td>\n",
              "      <td>USA</td>\n",
              "      <td>IL</td>\n",
              "      <td>Springfield, Illinois</td>\n",
              "      <td>Champaign</td>\n",
              "      <td>1</td>\n",
              "      <td>2010-01-01</td>\n",
              "      <td>2014-07-24</td>\n",
              "      <td>2014-07-24</td>\n",
              "    </tr>\n",
              "  </tbody>\n",
              "</table>\n",
              "</div>"
            ],
            "text/plain": [
              "                     name  ... last_funding_at\n",
              "0                   #fame  ...      2015-01-05\n",
              "1                :Qounter  ...      2014-10-14\n",
              "2  (THE) ONE of THEM,Inc.  ...      2014-01-30\n",
              "3                 0-6.com  ...      2008-03-19\n",
              "4        004 Technologies  ...      2014-07-24\n",
              "\n",
              "[5 rows x 13 columns]"
            ]
          },
          "metadata": {
            "tags": []
          },
          "execution_count": 4
        }
      ]
    },
    {
      "cell_type": "code",
      "metadata": {
        "id": "-7tokL9XTc-Q",
        "colab_type": "code",
        "colab": {
          "base_uri": "https://localhost:8080/",
          "height": 1000
        },
        "outputId": "d3504e8d-d999-4781-fc30-54c45f281a10"
      },
      "source": [
        "#General info about data\n",
        "print(df.info())\n",
        "print('\\n')\n",
        "\n",
        "#Missing values\n",
        "print('Percentage of missing values in each column')\n",
        "print(df.isna().mean() * 100)\n",
        "mn.matrix(df)\n",
        "\n"
      ],
      "execution_count": 6,
      "outputs": [
        {
          "output_type": "stream",
          "text": [
            "<class 'pandas.core.frame.DataFrame'>\n",
            "RangeIndex: 66368 entries, 0 to 66367\n",
            "Data columns (total 13 columns):\n",
            " #   Column             Non-Null Count  Dtype \n",
            "---  ------             --------------  ----- \n",
            " 0   name               66367 non-null  object\n",
            " 1   homepage_url       61310 non-null  object\n",
            " 2   category_list      63220 non-null  object\n",
            " 3   funding_total_usd  66368 non-null  object\n",
            " 4   status             66368 non-null  object\n",
            " 5   country_code       59410 non-null  object\n",
            " 6   state_code         57821 non-null  object\n",
            " 7   region             58338 non-null  object\n",
            " 8   city               58340 non-null  object\n",
            " 9   funding_rounds     66368 non-null  int64 \n",
            " 10  founded_at         51147 non-null  object\n",
            " 11  first_funding_at   66344 non-null  object\n",
            " 12  last_funding_at    66368 non-null  object\n",
            "dtypes: int64(1), object(12)\n",
            "memory usage: 6.6+ MB\n",
            "None\n",
            "\n",
            "\n",
            "Percentage of missing values in each column\n",
            "name                  0.001507\n",
            "homepage_url          7.621143\n",
            "category_list         4.743250\n",
            "funding_total_usd     0.000000\n",
            "status                0.000000\n",
            "country_code         10.483968\n",
            "state_code           12.878194\n",
            "region               12.099204\n",
            "city                 12.096191\n",
            "funding_rounds        0.000000\n",
            "founded_at           22.934245\n",
            "first_funding_at      0.036162\n",
            "last_funding_at       0.000000\n",
            "dtype: float64\n"
          ],
          "name": "stdout"
        },
        {
          "output_type": "execute_result",
          "data": {
            "text/plain": [
              "<matplotlib.axes._subplots.AxesSubplot at 0x7f230982c748>"
            ]
          },
          "metadata": {
            "tags": []
          },
          "execution_count": 6
        },
        {
          "output_type": "display_data",
          "data": {
            "image/png": "[encoded data removed]",
            "text/plain": [
              "<Figure size 1800x720 with 2 Axes>"
            ]
          },
          "metadata": {
            "tags": [],
            "needs_background": "light"
          }
        }
      ]
    },
    {
      "cell_type": "code",
      "metadata": {
        "id": "2vqtOJ-Rgqs2",
        "colab_type": "code",
        "colab": {
          "base_uri": "https://localhost:8080/",
          "height": 81
        },
        "outputId": "5baa92ea-7bfc-4da5-c030-bde21da063e2"
      },
      "source": [
        "#Understanding missing values data\n",
        "df.loc[df.name.isna(),['homepage_url','status','country_code']]"
      ],
      "execution_count": null,
      "outputs": [
        {
          "output_type": "execute_result",
          "data": {
            "text/html": [
              "<div>\n",
              "<style scoped>\n",
              "    .dataframe tbody tr th:only-of-type {\n",
              "        vertical-align: middle;\n",
              "    }\n",
              "\n",
              "    .dataframe tbody tr th {\n",
              "        vertical-align: top;\n",
              "    }\n",
              "\n",
              "    .dataframe thead th {\n",
              "        text-align: right;\n",
              "    }\n",
              "</style>\n",
              "<table border=\"1\" class=\"dataframe\">\n",
              "  <thead>\n",
              "    <tr style=\"text-align: right;\">\n",
              "      <th></th>\n",
              "      <th>homepage_url</th>\n",
              "      <th>status</th>\n",
              "      <th>country_code</th>\n",
              "    </tr>\n",
              "  </thead>\n",
              "  <tbody>\n",
              "    <tr>\n",
              "      <th>56916</th>\n",
              "      <td>http://tellitin10.com</td>\n",
              "      <td>closed</td>\n",
              "      <td>USA</td>\n",
              "    </tr>\n",
              "  </tbody>\n",
              "</table>\n",
              "</div>"
            ],
            "text/plain": [
              "                homepage_url  status country_code\n",
              "56916  http://tellitin10.com  closed          USA"
            ]
          },
          "metadata": {
            "tags": []
          },
          "execution_count": 31
        }
      ]
    },
    {
      "cell_type": "code",
      "metadata": {
        "id": "S6ufvveB885i",
        "colab_type": "code",
        "colab": {
          "base_uri": "https://localhost:8080/",
          "height": 312
        },
        "outputId": "e62c421d-8ff5-485f-f008-2da507804588"
      },
      "source": [
        "#Assess dtype of funding_total_usd column\n",
        "print(df.funding_total_usd.str.isnumeric().value_counts())\n",
        "print('\\n')\n",
        "print(df.funding_total_usd[df.funding_total_usd.str.isalnum() == False].value_counts())"
      ],
      "execution_count": null,
      "outputs": [
        {
          "output_type": "stream",
          "text": [
            "True     52650\n",
            "False    13718\n",
            "Name: funding_total_usd, dtype: int64\n",
            "\n",
            "\n",
            "-              12785\n",
            "27391.45679        4\n",
            "42446.96656        2\n",
            "94244.78512        2\n",
            "54782.91357        2\n",
            "               ...  \n",
            "374157.9578        1\n",
            "1566772.486        1\n",
            "1430645.486        1\n",
            "608507.5811        1\n",
            "4324801.953        1\n",
            "Name: funding_total_usd, Length: 920, dtype: int64\n"
          ],
          "name": "stdout"
        }
      ]
    },
    {
      "cell_type": "code",
      "metadata": {
        "id": "PYBpxapD_A2x",
        "colab_type": "code",
        "colab": {}
      },
      "source": [
        "#Function to clean data (handle missing values, categorical variables, ambiguity in data representation like date format etc\n",
        "\n",
        "def clean_data(df):\n",
        "  #missing values \n",
        "  #(the main features of interest are 'name','category_list','funding_total_usd','country_code','region')\n",
        "  df.dropna(subset = ['name','category_list','funding_total_usd','country_code','region'])\n",
        "\n",
        "  #Categorical Variables\n",
        "  #Clean '-' values from 'funding_total_usd' column\n",
        "  df = df[df.funding_total_usd != '-']\n",
        "  #Updating dtype\n",
        "  df.funding_total_usd = df.funding_total_usd.apply(lambda x: float(x))\n",
        "\n",
        "  #Extracting subset of mid size companies based on valuation (eliminating very small & very big companies)\n",
        "  df = df[(df.funding_total_usd > 10000000) & (df.funding_total_usd < 200000000)]  #comapnies that raides between $10mn and $200mn\n",
        "\n",
        "  return df"
      ],
      "execution_count": 8,
      "outputs": []
    },
    {
      "cell_type": "code",
      "metadata": {
        "id": "aMIIFuFZmywY",
        "colab_type": "code",
        "colab": {
          "base_uri": "https://localhost:8080/",
          "height": 364
        },
        "outputId": "21593e6a-3328-440c-a854-295722244745"
      },
      "source": [
        "df = clean_data(df)\n",
        "print(df.shape, df.info)"
      ],
      "execution_count": 9,
      "outputs": [
        {
          "output_type": "stream",
          "text": [
            "(12648, 13) <bound method DataFrame.info of                                       name  ... last_funding_at\n",
            "7                                   H2O.ai  ...      2015-11-09\n",
            "21     Beijing 1000CHI Software Technology  ...      2010-04-01\n",
            "25                                 ZenChef  ...      2015-11-04\n",
            "32                                1010data  ...      2010-03-08\n",
            "40                            10X Genomics  ...      2015-01-12\n",
            "...                                    ...  ...             ...\n",
            "66350              Zynerba Pharmaceuticals  ...      2014-10-14\n",
            "66353                             Zyngenia  ...      2010-09-09\n",
            "66354                              Zynstra  ...      2014-07-09\n",
            "66355                               ZYOMYX  ...      2014-03-26\n",
            "66358                     Zyraz Technology  ...      2013-02-15\n",
            "\n",
            "[12648 rows x 13 columns]>\n"
          ],
          "name": "stdout"
        },
        {
          "output_type": "stream",
          "text": [
            "/usr/local/lib/python3.6/dist-packages/pandas/core/generic.py:5303: SettingWithCopyWarning: \n",
            "A value is trying to be set on a copy of a slice from a DataFrame.\n",
            "Try using .loc[row_indexer,col_indexer] = value instead\n",
            "\n",
            "See the caveats in the documentation: https://pandas.pydata.org/pandas-docs/stable/user_guide/indexing.html#returning-a-view-versus-a-copy\n",
            "  self[name] = value\n"
          ],
          "name": "stderr"
        }
      ]
    },
    {
      "cell_type": "code",
      "metadata": {
        "id": "ZAI22qaznuzN",
        "colab_type": "code",
        "colab": {
          "base_uri": "https://localhost:8080/",
          "height": 455
        },
        "outputId": "566576e2-e8fb-476f-9f4e-53221002d0cb"
      },
      "source": [
        "df.pivot_table(values = 'funding_total_usd', index = 'category_list', aggfunc= 'mean')"
      ],
      "execution_count": null,
      "outputs": [
        {
          "output_type": "execute_result",
          "data": {
            "text/html": [
              "<div>\n",
              "<style scoped>\n",
              "    .dataframe tbody tr th:only-of-type {\n",
              "        vertical-align: middle;\n",
              "    }\n",
              "\n",
              "    .dataframe tbody tr th {\n",
              "        vertical-align: top;\n",
              "    }\n",
              "\n",
              "    .dataframe thead th {\n",
              "        text-align: right;\n",
              "    }\n",
              "</style>\n",
              "<table border=\"1\" class=\"dataframe\">\n",
              "  <thead>\n",
              "    <tr style=\"text-align: right;\">\n",
              "      <th></th>\n",
              "      <th>funding_total_usd</th>\n",
              "    </tr>\n",
              "    <tr>\n",
              "      <th>category_list</th>\n",
              "      <th></th>\n",
              "    </tr>\n",
              "  </thead>\n",
              "  <tbody>\n",
              "    <tr>\n",
              "      <th>3D</th>\n",
              "      <td>1.448168e+07</td>\n",
              "    </tr>\n",
              "    <tr>\n",
              "      <th>3D Printing|3D Technology|Manufacturing|Photography</th>\n",
              "      <td>3.129900e+07</td>\n",
              "    </tr>\n",
              "    <tr>\n",
              "      <th>3D Printing|3D Technology|Startups</th>\n",
              "      <td>1.400000e+07</td>\n",
              "    </tr>\n",
              "    <tr>\n",
              "      <th>3D Printing|Cloud Computing|Consulting|E-Commerce</th>\n",
              "      <td>1.140000e+07</td>\n",
              "    </tr>\n",
              "    <tr>\n",
              "      <th>3D Printing|Digital Signage|Printing</th>\n",
              "      <td>3.800000e+07</td>\n",
              "    </tr>\n",
              "    <tr>\n",
              "      <th>...</th>\n",
              "      <td>...</td>\n",
              "    </tr>\n",
              "    <tr>\n",
              "      <th>Young Adults</th>\n",
              "      <td>1.000000e+08</td>\n",
              "    </tr>\n",
              "    <tr>\n",
              "      <th>iPad|News</th>\n",
              "      <td>1.230000e+07</td>\n",
              "    </tr>\n",
              "    <tr>\n",
              "      <th>iPhone|Lifestyle|Online Shopping|Retail</th>\n",
              "      <td>4.000000e+07</td>\n",
              "    </tr>\n",
              "    <tr>\n",
              "      <th>iPhone|Local|Location Based Services|Mobile|Social Media</th>\n",
              "      <td>1.275000e+07</td>\n",
              "    </tr>\n",
              "    <tr>\n",
              "      <th>iPhone|Mobile|Mobile Devices|Mobile Security|Wireless</th>\n",
              "      <td>3.850000e+07</td>\n",
              "    </tr>\n",
              "  </tbody>\n",
              "</table>\n",
              "<p>4916 rows × 1 columns</p>\n",
              "</div>"
            ],
            "text/plain": [
              "                                                    funding_total_usd\n",
              "category_list                                                        \n",
              "3D                                                       1.448168e+07\n",
              "3D Printing|3D Technology|Manufacturing|Photogr...       3.129900e+07\n",
              "3D Printing|3D Technology|Startups                       1.400000e+07\n",
              "3D Printing|Cloud Computing|Consulting|E-Commerce        1.140000e+07\n",
              "3D Printing|Digital Signage|Printing                     3.800000e+07\n",
              "...                                                               ...\n",
              "Young Adults                                             1.000000e+08\n",
              "iPad|News                                                1.230000e+07\n",
              "iPhone|Lifestyle|Online Shopping|Retail                  4.000000e+07\n",
              "iPhone|Local|Location Based Services|Mobile|Soc...       1.275000e+07\n",
              "iPhone|Mobile|Mobile Devices|Mobile Security|Wi...       3.850000e+07\n",
              "\n",
              "[4916 rows x 1 columns]"
            ]
          },
          "metadata": {
            "tags": []
          },
          "execution_count": 37
        }
      ]
    },
    {
      "cell_type": "code",
      "metadata": {
        "id": "OE9Pw1-XpASd",
        "colab_type": "code",
        "colab": {
          "base_uri": "https://localhost:8080/",
          "height": 359
        },
        "outputId": "3afae6bb-49f2-498d-fac6-6e4d4bbbb8ed"
      },
      "source": [
        "#Top 25 regions in terms of number of companies\n",
        "df.region.value_counts()[:25].plot.bar(color ='orange')"
      ],
      "execution_count": 12,
      "outputs": [
        {
          "output_type": "execute_result",
          "data": {
            "text/plain": [
              "<matplotlib.axes._subplots.AxesSubplot at 0x7f23047241d0>"
            ]
          },
          "metadata": {
            "tags": []
          },
          "execution_count": 12
        },
        {
          "output_type": "display_data",
          "data": {
            "image/png": "[encoded data removed]",
            "text/plain": [
              "<Figure size 432x288 with 1 Axes>"
            ]
          },
          "metadata": {
            "tags": [],
            "needs_background": "light"
          }
        }
      ]
    },
    {
      "cell_type": "code",
      "metadata": {
        "id": "99JQ8yRGJ7Om",
        "colab_type": "code",
        "colab": {
          "base_uri": "https://localhost:8080/",
          "height": 295
        },
        "outputId": "4da90365-ff13-4e7b-9a0b-ca49fb8a2c16"
      },
      "source": [
        "#Top 10 countries in terms of number of companies\n",
        "df.country_code.value_counts()[:10].plot.bar(color ='red')"
      ],
      "execution_count": null,
      "outputs": [
        {
          "output_type": "execute_result",
          "data": {
            "text/plain": [
              "<matplotlib.axes._subplots.AxesSubplot at 0x7fc2b0feb2b0>"
            ]
          },
          "metadata": {
            "tags": []
          },
          "execution_count": 41
        },
        {
          "output_type": "display_data",
          "data": {
            "image/png": "[encoded data removed]",
            "text/plain": [
              "<Figure size 432x288 with 1 Axes>"
            ]
          },
          "metadata": {
            "tags": [],
            "needs_background": "light"
          }
        }
      ]
    },
    {
      "cell_type": "code",
      "metadata": {
        "id": "TymiQl0pqoY1",
        "colab_type": "code",
        "colab": {
          "base_uri": "https://localhost:8080/",
          "height": 748
        },
        "outputId": "be2f70d4-535e-45db-8351-9376cdc719c7"
      },
      "source": [
        "df.nlargest(15, 'funding_total_usd')"
      ],
      "execution_count": null,
      "outputs": [
        {
          "output_type": "execute_result",
          "data": {
            "text/html": [
              "<div>\n",
              "<style scoped>\n",
              "    .dataframe tbody tr th:only-of-type {\n",
              "        vertical-align: middle;\n",
              "    }\n",
              "\n",
              "    .dataframe tbody tr th {\n",
              "        vertical-align: top;\n",
              "    }\n",
              "\n",
              "    .dataframe thead th {\n",
              "        text-align: right;\n",
              "    }\n",
              "</style>\n",
              "<table border=\"1\" class=\"dataframe\">\n",
              "  <thead>\n",
              "    <tr style=\"text-align: right;\">\n",
              "      <th></th>\n",
              "      <th>name</th>\n",
              "      <th>homepage_url</th>\n",
              "      <th>category_list</th>\n",
              "      <th>funding_total_usd</th>\n",
              "      <th>status</th>\n",
              "      <th>country_code</th>\n",
              "      <th>state_code</th>\n",
              "      <th>region</th>\n",
              "      <th>city</th>\n",
              "      <th>funding_rounds</th>\n",
              "      <th>founded_at</th>\n",
              "      <th>first_funding_at</th>\n",
              "      <th>last_funding_at</th>\n",
              "    </tr>\n",
              "  </thead>\n",
              "  <tbody>\n",
              "    <tr>\n",
              "      <th>26150</th>\n",
              "      <td>Humacyte</td>\n",
              "      <td>http://humacyte.com</td>\n",
              "      <td>Biotechnology</td>\n",
              "      <td>199762373.0</td>\n",
              "      <td>operating</td>\n",
              "      <td>USA</td>\n",
              "      <td>NC</td>\n",
              "      <td>Raleigh</td>\n",
              "      <td>Morrisville</td>\n",
              "      <td>2</td>\n",
              "      <td>2004-01-01</td>\n",
              "      <td>2015-01-16</td>\n",
              "      <td>2015-10-20</td>\n",
              "    </tr>\n",
              "    <tr>\n",
              "      <th>15164</th>\n",
              "      <td>Deliveroo</td>\n",
              "      <td>https://deliveroo.co.uk/</td>\n",
              "      <td>Food Processing</td>\n",
              "      <td>199585753.0</td>\n",
              "      <td>operating</td>\n",
              "      <td>GBR</td>\n",
              "      <td>H9</td>\n",
              "      <td>London</td>\n",
              "      <td>London</td>\n",
              "      <td>4</td>\n",
              "      <td>2012-01-01</td>\n",
              "      <td>2014-06-26</td>\n",
              "      <td>2015-11-23</td>\n",
              "    </tr>\n",
              "    <tr>\n",
              "      <th>19044</th>\n",
              "      <td>Eventbrite</td>\n",
              "      <td>http://www.eventbrite.com</td>\n",
              "      <td>Event Management|Events|Online Reservations|Ti...</td>\n",
              "      <td>199575000.0</td>\n",
              "      <td>operating</td>\n",
              "      <td>USA</td>\n",
              "      <td>CA</td>\n",
              "      <td>SF Bay Area</td>\n",
              "      <td>San Francisco</td>\n",
              "      <td>10</td>\n",
              "      <td>2006-01-01</td>\n",
              "      <td>2006-11-01</td>\n",
              "      <td>2014-03-13</td>\n",
              "    </tr>\n",
              "    <tr>\n",
              "      <th>51681</th>\n",
              "      <td>SilkRoad Technology</td>\n",
              "      <td>http://www.silkroad.com</td>\n",
              "      <td>Career Management|Human Resources|Recruiting|S...</td>\n",
              "      <td>199500000.0</td>\n",
              "      <td>operating</td>\n",
              "      <td>USA</td>\n",
              "      <td>IL</td>\n",
              "      <td>Chicago</td>\n",
              "      <td>Chicago</td>\n",
              "      <td>8</td>\n",
              "      <td>2003-01-01</td>\n",
              "      <td>2003-01-01</td>\n",
              "      <td>2015-05-19</td>\n",
              "    </tr>\n",
              "    <tr>\n",
              "      <th>47782</th>\n",
              "      <td>Renewable Energy Group</td>\n",
              "      <td>http://www.regfuel.com</td>\n",
              "      <td>Chemicals|Clean Technology</td>\n",
              "      <td>198730677.0</td>\n",
              "      <td>ipo</td>\n",
              "      <td>USA</td>\n",
              "      <td>IA</td>\n",
              "      <td>Des Moines</td>\n",
              "      <td>Ames</td>\n",
              "      <td>1</td>\n",
              "      <td>1996-01-01</td>\n",
              "      <td>2008-06-27</td>\n",
              "      <td>2008-06-27</td>\n",
              "    </tr>\n",
              "    <tr>\n",
              "      <th>3147</th>\n",
              "      <td>Anacor Pharmaceutical</td>\n",
              "      <td>http://www.anacor.com</td>\n",
              "      <td>Biotechnology|Health Care</td>\n",
              "      <td>198500000.0</td>\n",
              "      <td>ipo</td>\n",
              "      <td>USA</td>\n",
              "      <td>CA</td>\n",
              "      <td>SF Bay Area</td>\n",
              "      <td>Palo Alto</td>\n",
              "      <td>8</td>\n",
              "      <td>2000-01-01</td>\n",
              "      <td>2002-11-01</td>\n",
              "      <td>2013-06-12</td>\n",
              "    </tr>\n",
              "    <tr>\n",
              "      <th>5173</th>\n",
              "      <td>Auxmoney</td>\n",
              "      <td>http://www.auxmoney.com</td>\n",
              "      <td>Finance</td>\n",
              "      <td>198177362.6</td>\n",
              "      <td>operating</td>\n",
              "      <td>DEU</td>\n",
              "      <td>7</td>\n",
              "      <td>Dusseldrof</td>\n",
              "      <td>DÃ¼sseldorf</td>\n",
              "      <td>3</td>\n",
              "      <td>2007-01-01</td>\n",
              "      <td>2013-03-12</td>\n",
              "      <td>2015-10-21</td>\n",
              "    </tr>\n",
              "    <tr>\n",
              "      <th>8544</th>\n",
              "      <td>Brightcove</td>\n",
              "      <td>http://www.brightcove.com</td>\n",
              "      <td>Analytics|Enterprise Software|Technology|Video</td>\n",
              "      <td>198007658.0</td>\n",
              "      <td>ipo</td>\n",
              "      <td>JPN</td>\n",
              "      <td>19</td>\n",
              "      <td>Tokyo</td>\n",
              "      <td>Shibuya</td>\n",
              "      <td>8</td>\n",
              "      <td>2004-01-01</td>\n",
              "      <td>2005-03-01</td>\n",
              "      <td>2014-02-10</td>\n",
              "    </tr>\n",
              "    <tr>\n",
              "      <th>7574</th>\n",
              "      <td>Blu Homes</td>\n",
              "      <td>http://www.bluhomes.com</td>\n",
              "      <td>Real Estate</td>\n",
              "      <td>197500000.0</td>\n",
              "      <td>operating</td>\n",
              "      <td>USA</td>\n",
              "      <td>CA</td>\n",
              "      <td>SF Bay Area</td>\n",
              "      <td>Vallejo</td>\n",
              "      <td>5</td>\n",
              "      <td>2008-01-01</td>\n",
              "      <td>2011-05-05</td>\n",
              "      <td>2015-01-14</td>\n",
              "    </tr>\n",
              "    <tr>\n",
              "      <th>42622</th>\n",
              "      <td>PayPal</td>\n",
              "      <td>https://www.paypal.com/home</td>\n",
              "      <td>E-Commerce|Finance|FinTech|Mobile Payments|P2P...</td>\n",
              "      <td>197000000.0</td>\n",
              "      <td>acquired</td>\n",
              "      <td>USA</td>\n",
              "      <td>CA</td>\n",
              "      <td>SF Bay Area</td>\n",
              "      <td>San Jose</td>\n",
              "      <td>5</td>\n",
              "      <td>1998-12-01</td>\n",
              "      <td>1999-01-01</td>\n",
              "      <td>2001-02-16</td>\n",
              "    </tr>\n",
              "    <tr>\n",
              "      <th>6944</th>\n",
              "      <td>Biolex Therapeutics</td>\n",
              "      <td>http://www.biolex.com</td>\n",
              "      <td>Biotechnology</td>\n",
              "      <td>196664126.0</td>\n",
              "      <td>closed</td>\n",
              "      <td>USA</td>\n",
              "      <td>NC</td>\n",
              "      <td>Raleigh</td>\n",
              "      <td>Pittsboro</td>\n",
              "      <td>9</td>\n",
              "      <td>1997-01-01</td>\n",
              "      <td>2003-08-21</td>\n",
              "      <td>2011-12-19</td>\n",
              "    </tr>\n",
              "    <tr>\n",
              "      <th>40726</th>\n",
              "      <td>OncoMed Pharmaceuticals</td>\n",
              "      <td>http://www.oncomed.com</td>\n",
              "      <td>Biotechnology|Health Care</td>\n",
              "      <td>196249996.0</td>\n",
              "      <td>ipo</td>\n",
              "      <td>USA</td>\n",
              "      <td>CA</td>\n",
              "      <td>SF Bay Area</td>\n",
              "      <td>Redwood City</td>\n",
              "      <td>3</td>\n",
              "      <td>2004-08-01</td>\n",
              "      <td>2008-11-04</td>\n",
              "      <td>2013-12-06</td>\n",
              "    </tr>\n",
              "    <tr>\n",
              "      <th>35912</th>\n",
              "      <td>Millennium Laboratories</td>\n",
              "      <td>http://millenniumlabs.com</td>\n",
              "      <td>Biotechnology</td>\n",
              "      <td>196000000.0</td>\n",
              "      <td>operating</td>\n",
              "      <td>USA</td>\n",
              "      <td>CA</td>\n",
              "      <td>San Diego</td>\n",
              "      <td>San Diego</td>\n",
              "      <td>1</td>\n",
              "      <td>NaN</td>\n",
              "      <td>2010-08-13</td>\n",
              "      <td>2010-08-13</td>\n",
              "    </tr>\n",
              "    <tr>\n",
              "      <th>43985</th>\n",
              "      <td>Plastic Logic Germany</td>\n",
              "      <td>http://www.plasticlogic.com</td>\n",
              "      <td>Displays|Manufacturing</td>\n",
              "      <td>195700000.0</td>\n",
              "      <td>operating</td>\n",
              "      <td>DEU</td>\n",
              "      <td>13</td>\n",
              "      <td>Dresden</td>\n",
              "      <td>Dresden</td>\n",
              "      <td>5</td>\n",
              "      <td>2000-01-01</td>\n",
              "      <td>2002-04-20</td>\n",
              "      <td>2008-08-04</td>\n",
              "    </tr>\n",
              "    <tr>\n",
              "      <th>28713</th>\n",
              "      <td>Invitae</td>\n",
              "      <td>http://invitae.com</td>\n",
              "      <td>Biotechnology</td>\n",
              "      <td>195502111.0</td>\n",
              "      <td>ipo</td>\n",
              "      <td>USA</td>\n",
              "      <td>CA</td>\n",
              "      <td>SF Bay Area</td>\n",
              "      <td>San Francisco</td>\n",
              "      <td>5</td>\n",
              "      <td>2012-01-01</td>\n",
              "      <td>2010-09-15</td>\n",
              "      <td>2014-10-13</td>\n",
              "    </tr>\n",
              "  </tbody>\n",
              "</table>\n",
              "</div>"
            ],
            "text/plain": [
              "                          name  ... last_funding_at\n",
              "26150                 Humacyte  ...      2015-10-20\n",
              "15164                Deliveroo  ...      2015-11-23\n",
              "19044               Eventbrite  ...      2014-03-13\n",
              "51681      SilkRoad Technology  ...      2015-05-19\n",
              "47782   Renewable Energy Group  ...      2008-06-27\n",
              "3147     Anacor Pharmaceutical  ...      2013-06-12\n",
              "5173                  Auxmoney  ...      2015-10-21\n",
              "8544                Brightcove  ...      2014-02-10\n",
              "7574                 Blu Homes  ...      2015-01-14\n",
              "42622                   PayPal  ...      2001-02-16\n",
              "6944       Biolex Therapeutics  ...      2011-12-19\n",
              "40726  OncoMed Pharmaceuticals  ...      2013-12-06\n",
              "35912  Millennium Laboratories  ...      2010-08-13\n",
              "43985    Plastic Logic Germany  ...      2008-08-04\n",
              "28713                  Invitae  ...      2014-10-13\n",
              "\n",
              "[15 rows x 13 columns]"
            ]
          },
          "metadata": {
            "tags": []
          },
          "execution_count": 42
        }
      ]
    },
    {
      "cell_type": "code",
      "metadata": {
        "id": "Ub_qvhrsrH0F",
        "colab_type": "code",
        "colab": {
          "base_uri": "https://localhost:8080/",
          "height": 282
        },
        "outputId": "78c92df4-9a3d-4aa4-c9bc-c09475522871"
      },
      "source": [
        "df.funding_rounds.hist()"
      ],
      "execution_count": null,
      "outputs": [
        {
          "output_type": "execute_result",
          "data": {
            "text/plain": [
              "<matplotlib.axes._subplots.AxesSubplot at 0x7fc2b0f71ef0>"
            ]
          },
          "metadata": {
            "tags": []
          },
          "execution_count": 43
        },
        {
          "output_type": "display_data",
          "data": {
            "image/png": "[encoded data removed]",
            "text/plain": [
              "<Figure size 432x288 with 1 Axes>"
            ]
          },
          "metadata": {
            "tags": [],
            "needs_background": "light"
          }
        }
      ]
    },
    {
      "cell_type": "code",
      "metadata": {
        "id": "UiZPiEldLg4O",
        "colab_type": "code",
        "colab": {
          "base_uri": "https://localhost:8080/",
          "height": 296
        },
        "outputId": "15154b36-5398-481d-b20b-2e3b6bf2e1e7"
      },
      "source": [
        "sns.countplot(df.status)"
      ],
      "execution_count": null,
      "outputs": [
        {
          "output_type": "execute_result",
          "data": {
            "text/plain": [
              "<matplotlib.axes._subplots.AxesSubplot at 0x7fc2b0ef9518>"
            ]
          },
          "metadata": {
            "tags": []
          },
          "execution_count": 44
        },
        {
          "output_type": "display_data",
          "data": {
            "image/png": "[encoded data removed]",
            "text/plain": [
              "<Figure size 432x288 with 1 Axes>"
            ]
          },
          "metadata": {
            "tags": [],
            "needs_background": "light"
          }
        }
      ]
    },
    {
      "cell_type": "code",
      "metadata": {
        "id": "PkpDl8HA0lLE",
        "colab_type": "code",
        "colab": {
          "base_uri": "https://localhost:8080/",
          "height": 295
        },
        "outputId": "3f9f495e-b6a9-406a-9286-39f3268182b8"
      },
      "source": [
        "df.funding_total_usd.hist()"
      ],
      "execution_count": null,
      "outputs": [
        {
          "output_type": "execute_result",
          "data": {
            "text/plain": [
              "<matplotlib.axes._subplots.AxesSubplot at 0x7fc2b0ed2588>"
            ]
          },
          "metadata": {
            "tags": []
          },
          "execution_count": 47
        },
        {
          "output_type": "display_data",
          "data": {
            "image/png": "[encoded data removed]",
            "text/plain": [
              "<Figure size 432x288 with 1 Axes>"
            ]
          },
          "metadata": {
            "tags": [],
            "needs_background": "light"
          }
        }
      ]
    },
    {
      "cell_type": "code",
      "metadata": {
        "id": "ZCyJUJEV1u76",
        "colab_type": "code",
        "colab": {
          "base_uri": "https://localhost:8080/",
          "height": 173
        },
        "outputId": "de387a01-b2ca-46f7-a17e-c8561f0db5d9"
      },
      "source": [
        "df.funding_total_usd.describe()"
      ],
      "execution_count": null,
      "outputs": [
        {
          "output_type": "execute_result",
          "data": {
            "text/plain": [
              "count    1.264800e+04\n",
              "mean     3.952278e+07\n",
              "std      3.488139e+07\n",
              "min      1.000000e+07\n",
              "25%      1.558873e+07\n",
              "50%      2.598428e+07\n",
              "75%      4.970846e+07\n",
              "max      1.997624e+08\n",
              "Name: funding_total_usd, dtype: float64"
            ]
          },
          "metadata": {
            "tags": []
          },
          "execution_count": 51
        }
      ]
    },
    {
      "cell_type": "code",
      "metadata": {
        "id": "vJ6TZLsT2P0U",
        "colab_type": "code",
        "colab": {
          "base_uri": "https://localhost:8080/",
          "height": 763
        },
        "outputId": "90fdc5d5-2476-4d6b-90ef-957b9f098491"
      },
      "source": [
        "plt.figure(figsize=(10,5))\n",
        "sns.countplot(df.nlargest(50, 'funding_total_usd').category_list)\n",
        "plt.xticks(rotation=90)"
      ],
      "execution_count": 67,
      "outputs": [
        {
          "output_type": "execute_result",
          "data": {
            "text/plain": [
              "(array([ 0,  1,  2,  3,  4,  5,  6,  7,  8,  9, 10, 11, 12, 13, 14, 15, 16,\n",
              "        17, 18, 19, 20, 21, 22, 23, 24, 25, 26, 27, 28, 29, 30, 31, 32]),\n",
              " <a list of 33 Text major ticklabel objects>)"
            ]
          },
          "metadata": {
            "tags": []
          },
          "execution_count": 67
        },
        {
          "output_type": "display_data",
          "data": {
            "image/png": "[encoded data removed]",
            "text/plain": [
              "<Figure size 720x360 with 1 Axes>"
            ]
          },
          "metadata": {
            "tags": [],
            "needs_background": "light"
          }
        }
      ]
    }
  ]
}