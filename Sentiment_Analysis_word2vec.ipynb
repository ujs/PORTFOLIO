{
  "nbformat": 4,
  "nbformat_minor": 0,
  "metadata": {
    "colab": {
      "name": "Sentiment_Analysis_word2vec.ipynb",
      "provenance": [],
      "authorship_tag": "ABX9TyP2vZ36WKqccOpSlRRcHNR+"
    },
    "kernelspec": {
      "name": "python3",
      "display_name": "Python 3"
    },
    "accelerator": "TPU"
  },
  "cells": [
    {
      "cell_type": "markdown",
      "metadata": {
        "id": "KxrEWktGaJSn",
        "colab_type": "text"
      },
      "source": [
        "Word2vec is a pretrained word embedding provided by Google. The embeddings are trained on the Google News corpus. I will use word2vec to perform sentiment analysis of Amazon product reviews. These reviews were optained from [UCSD](https://colab.research.google.com/drive/1FUTSjPMY5s1u5JXJOPVrPWb8GUfDVQR5#scrollTo=KxrEWktGaJSn&line=1&uniqifier=1)- since the original file was >15 GB, I extracted the first million reviews into a csv and use that directly in this analysis."
      ]
    },
    {
      "cell_type": "code",
      "metadata": {
        "id": "UhUEY7a7Ei9N",
        "colab_type": "code",
        "colab": {
          "base_uri": "https://localhost:8080/",
          "height": 69
        },
        "outputId": "f720747a-5968-4b14-fb26-28b20b7598fc"
      },
      "source": [
        "#Unzipping data\n",
        "!unzip amazon_review_mil.csv.zip\n",
        "reviews_data = 'amazon_review_mil.csv'"
      ],
      "execution_count": 1,
      "outputs": [
        {
          "output_type": "stream",
          "text": [
            "Archive:  amazon_review_mil.csv.zip\n",
            "  inflating: amazon_review_mil.csv   \n",
            "  inflating: __MACOSX/._amazon_review_mil.csv  \n"
          ],
          "name": "stdout"
        }
      ]
    },
    {
      "cell_type": "code",
      "metadata": {
        "id": "rsPjyS5sWg7b",
        "colab_type": "code",
        "colab": {
          "base_uri": "https://localhost:8080/",
          "height": 52
        },
        "outputId": "8f7be9b3-b9a2-4d3f-a752-1ea1e2ed7c6b"
      },
      "source": [
        "#Importing Libraries\n",
        "\n",
        "#Machine learning and deep learning\n",
        "import pandas as pd\n",
        "import numpy as np\n",
        "import matplotlib.pyplot as plt\n",
        "import nltk\n",
        "from nltk.corpus import stopwords\n",
        "from sklearn.model_selection import train_test_split\n",
        "from gensim.models.doc2vec import Doc2Vec, TaggedDocument\n",
        "from nltk.tokenize import word_tokenize\n",
        "from string import punctuation\n",
        "from gensim.models import Word2Vec, KeyedVectors\n",
        "from sklearn.linear_model import LogisticRegression\n",
        "from sklearn.metrics import classification_report\n",
        "\n",
        "#pre-processing of text\n",
        "import string\n",
        "import re\n",
        "import json\n",
        "import gzip\n",
        "from urllib.request import urlopen\n",
        "import missingno as mn\n",
        "\n",
        "#Download stopwords\n",
        "nltk.download('stopwords')\n",
        "\n",
        "#basic imports\n",
        "import os\n",
        "from time import time\n"
      ],
      "execution_count": 25,
      "outputs": [
        {
          "output_type": "stream",
          "text": [
            "[nltk_data] Downloading package stopwords to /root/nltk_data...\n",
            "[nltk_data]   Package stopwords is already up-to-date!\n"
          ],
          "name": "stdout"
        }
      ]
    },
    {
      "cell_type": "code",
      "metadata": {
        "id": "FipVlJcNWb7t",
        "colab_type": "code",
        "colab": {
          "base_uri": "https://localhost:8080/",
          "height": 258
        },
        "outputId": "8d6a0fc3-0ea1-4286-f0ca-09220f28a211"
      },
      "source": [
        "#Loading data into pandas dataframe\n",
        "COLUMNS = ['reviewerID','asin','helpful','reviewText','overall','summary','unixReviewTime','reviewTime','reviewerName','sentiment']\n",
        "df = pd.read_csv(reviews_data, names = COLUMNS)\n",
        "df.head()"
      ],
      "execution_count": 22,
      "outputs": [
        {
          "output_type": "execute_result",
          "data": {
            "text/html": [
              "<div>\n",
              "<style scoped>\n",
              "    .dataframe tbody tr th:only-of-type {\n",
              "        vertical-align: middle;\n",
              "    }\n",
              "\n",
              "    .dataframe tbody tr th {\n",
              "        vertical-align: top;\n",
              "    }\n",
              "\n",
              "    .dataframe thead th {\n",
              "        text-align: right;\n",
              "    }\n",
              "</style>\n",
              "<table border=\"1\" class=\"dataframe\">\n",
              "  <thead>\n",
              "    <tr style=\"text-align: right;\">\n",
              "      <th></th>\n",
              "      <th>reviewerID</th>\n",
              "      <th>asin</th>\n",
              "      <th>helpful</th>\n",
              "      <th>reviewText</th>\n",
              "      <th>overall</th>\n",
              "      <th>summary</th>\n",
              "      <th>unixReviewTime</th>\n",
              "      <th>reviewTime</th>\n",
              "      <th>reviewerName</th>\n",
              "      <th>sentiment</th>\n",
              "    </tr>\n",
              "  </thead>\n",
              "  <tbody>\n",
              "    <tr>\n",
              "      <th>0</th>\n",
              "      <td>A3AF8FFZAZYNE5</td>\n",
              "      <td>0000000078</td>\n",
              "      <td>[1, 1]</td>\n",
              "      <td>Conversations with God Book 1 is the single mo...</td>\n",
              "      <td>5.0</td>\n",
              "      <td>Impactful!</td>\n",
              "      <td>1092182400</td>\n",
              "      <td>08 11, 2004</td>\n",
              "      <td>NaN</td>\n",
              "      <td>1</td>\n",
              "    </tr>\n",
              "    <tr>\n",
              "      <th>1</th>\n",
              "      <td>AH2L9G3DQHHAJ</td>\n",
              "      <td>0000000116</td>\n",
              "      <td>[5, 5]</td>\n",
              "      <td>Interesting Grisham tale of a lawyer that take...</td>\n",
              "      <td>4.0</td>\n",
              "      <td>Show me the money!</td>\n",
              "      <td>1019865600</td>\n",
              "      <td>04 27, 2002</td>\n",
              "      <td>chris</td>\n",
              "      <td>1</td>\n",
              "    </tr>\n",
              "    <tr>\n",
              "      <th>2</th>\n",
              "      <td>A2IIIDRK3PRRZY</td>\n",
              "      <td>0000000116</td>\n",
              "      <td>[0, 0]</td>\n",
              "      <td>The thumbnail is a shirt.  The product shown i...</td>\n",
              "      <td>1.0</td>\n",
              "      <td>Listing is all screwed up</td>\n",
              "      <td>1395619200</td>\n",
              "      <td>03 24, 2014</td>\n",
              "      <td>Helene</td>\n",
              "      <td>-1</td>\n",
              "    </tr>\n",
              "    <tr>\n",
              "      <th>3</th>\n",
              "      <td>A1TADCM7YWPQ8M</td>\n",
              "      <td>0000000868</td>\n",
              "      <td>[10, 10]</td>\n",
              "      <td>I'll be honest. I work for a large online reta...</td>\n",
              "      <td>4.0</td>\n",
              "      <td>Not a Bad Translation</td>\n",
              "      <td>1031702400</td>\n",
              "      <td>09 11, 2002</td>\n",
              "      <td>Joel@AWS</td>\n",
              "      <td>1</td>\n",
              "    </tr>\n",
              "    <tr>\n",
              "      <th>4</th>\n",
              "      <td>AWGH7V0BDOJKB</td>\n",
              "      <td>0000013714</td>\n",
              "      <td>[0, 0]</td>\n",
              "      <td>It had all the songs I wanted but I had ordere...</td>\n",
              "      <td>4.0</td>\n",
              "      <td>Not the large print</td>\n",
              "      <td>1383177600</td>\n",
              "      <td>10 31, 2013</td>\n",
              "      <td>Barbara Marshall</td>\n",
              "      <td>1</td>\n",
              "    </tr>\n",
              "  </tbody>\n",
              "</table>\n",
              "</div>"
            ],
            "text/plain": [
              "       reviewerID        asin  ...      reviewerName sentiment\n",
              "0  A3AF8FFZAZYNE5  0000000078  ...               NaN         1\n",
              "1   AH2L9G3DQHHAJ  0000000116  ...             chris         1\n",
              "2  A2IIIDRK3PRRZY  0000000116  ...            Helene        -1\n",
              "3  A1TADCM7YWPQ8M  0000000868  ...          Joel@AWS         1\n",
              "4   AWGH7V0BDOJKB  0000013714  ...  Barbara Marshall         1\n",
              "\n",
              "[5 rows x 10 columns]"
            ]
          },
          "metadata": {
            "tags": []
          },
          "execution_count": 22
        }
      ]
    },
    {
      "cell_type": "code",
      "metadata": {
        "id": "VjdDUH0dWgKp",
        "colab_type": "code",
        "colab": {
          "base_uri": "https://localhost:8080/",
          "height": 208
        },
        "outputId": "b3577176-6842-4246-d00a-5290c361571e"
      },
      "source": [
        "#Inspecting missing/null values \n",
        "print('Number of missing values in each column: ', df.isna().sum())\n",
        "\n",
        "#Clean missing values\n",
        "df.dropna(subset = ['reviewText'], inplace = True)\n"
      ],
      "execution_count": 23,
      "outputs": [
        {
          "output_type": "stream",
          "text": [
            "Number of missing values in each column:  reviewerID            0\n",
            "asin                  0\n",
            "helpful               0\n",
            "reviewText          157\n",
            "overall               0\n",
            "summary              16\n",
            "unixReviewTime        0\n",
            "reviewTime            0\n",
            "reviewerName      59960\n",
            "sentiment             0\n",
            "dtype: int64\n"
          ],
          "name": "stdout"
        }
      ]
    },
    {
      "cell_type": "code",
      "metadata": {
        "id": "9nh9YqD9Z4dh",
        "colab_type": "code",
        "colab": {}
      },
      "source": [
        "#Cleaning the reviews' text\n",
        "stopwords = set(stopwords.words(\"english\"))\n",
        "def clean(reviews):\n",
        "    def remove_stops_digits(doc):\n",
        "        doc = \"\".join([char for char in doc if char not in string.punctuation and not char.isdigit()])\n",
        "        doc = \" \".join([token for token in doc.split() if token not in stopwords])\n",
        "        return doc\n",
        "    return [remove_stops_digits(review) for review in reviews]\n"
      ],
      "execution_count": 26,
      "outputs": []
    },
    {
      "cell_type": "markdown",
      "metadata": {
        "id": "w6Zt2-n-aHHu",
        "colab_type": "text"
      },
      "source": [
        "Before training the sentiment analysis classifier, I need to  load and process the word2vec embeddings. So let's do that."
      ]
    },
    {
      "cell_type": "code",
      "metadata": {
        "id": "ez-cZeFKcf6U",
        "colab_type": "code",
        "colab": {
          "base_uri": "https://localhost:8080/",
          "height": 347
        },
        "outputId": "37874ec4-b328-44b7-d91d-3f8511581946"
      },
      "source": [
        "!wget https://drive.google.com/file/d/0B7XkCwpI5KDYNlNUTTlSS21pQmM"
      ],
      "execution_count": 14,
      "outputs": [
        {
          "output_type": "stream",
          "text": [
            "--2020-08-02 18:36:24--  https://drive.google.com/file/d/0B7XkCwpI5KDYNlNUTTlSS21pQmM\n",
            "Resolving drive.google.com (drive.google.com)... 172.217.212.100, 172.217.212.101, 172.217.212.113, ...\n",
            "Connecting to drive.google.com (drive.google.com)|172.217.212.100|:443... connected.\n",
            "HTTP request sent, awaiting response... 302 Moved Temporarily\n",
            "Location: https://drive.google.com/file/d/0B7XkCwpI5KDYNlNUTTlSS21pQmM/ [following]\n",
            "--2020-08-02 18:36:24--  https://drive.google.com/file/d/0B7XkCwpI5KDYNlNUTTlSS21pQmM/\n",
            "Reusing existing connection to drive.google.com:443.\n",
            "HTTP request sent, awaiting response... 302 Moved Temporarily\n",
            "Location: https://drive.google.com/file/d/0B7XkCwpI5KDYNlNUTTlSS21pQmM/edit [following]\n",
            "--2020-08-02 18:36:24--  https://drive.google.com/file/d/0B7XkCwpI5KDYNlNUTTlSS21pQmM/edit\n",
            "Reusing existing connection to drive.google.com:443.\n",
            "HTTP request sent, awaiting response... 200 OK\n",
            "Length: unspecified [text/html]\n",
            "Saving to: ‘0B7XkCwpI5KDYNlNUTTlSS21pQmM’\n",
            "\n",
            "0B7XkCwpI5KDYNlNUTT     [ <=>                ]  69.02K  --.-KB/s    in 0.002s  \n",
            "\n",
            "2020-08-02 18:36:24 (33.1 MB/s) - ‘0B7XkCwpI5KDYNlNUTTlSS21pQmM’ saved [70673]\n",
            "\n"
          ],
          "name": "stdout"
        }
      ]
    },
    {
      "cell_type": "code",
      "metadata": {
        "id": "3GmUqHx_dv38",
        "colab_type": "code",
        "colab": {
          "base_uri": "https://localhost:8080/",
          "height": 400
        },
        "outputId": "3c4bdb85-5292-4ff7-a77c-9152a3c45255"
      },
      "source": [
        "#Load W2V model.\n",
        "w2v_model = KeyedVectors.load_word2vec_format('/content/word2vec_model', binary=True)\n",
        "print('done loading Word2Vec')"
      ],
      "execution_count": 27,
      "outputs": [
        {
          "output_type": "stream",
          "text": [
            "/usr/local/lib/python3.6/dist-packages/smart_open/smart_open_lib.py:254: UserWarning: This function is deprecated, use smart_open.open instead. See the migration notes for details: https://github.com/RaRe-Technologies/smart_open/blob/master/README.rst#migrating-to-the-new-open-function\n",
            "  'See the migration notes for details: %s' % _MIGRATION_NOTES_URL\n"
          ],
          "name": "stderr"
        },
        {
          "output_type": "error",
          "ename": "ValueError",
          "evalue": "ignored",
          "traceback": [
            "\u001b[0;31m---------------------------------------------------------------------------\u001b[0m",
            "\u001b[0;31mValueError\u001b[0m                                Traceback (most recent call last)",
            "\u001b[0;32m<ipython-input-27-6ff14ce9be93>\u001b[0m in \u001b[0;36m<module>\u001b[0;34m()\u001b[0m\n\u001b[1;32m      1\u001b[0m \u001b[0;31m#Load W2V model.\u001b[0m\u001b[0;34m\u001b[0m\u001b[0;34m\u001b[0m\u001b[0;34m\u001b[0m\u001b[0m\n\u001b[0;32m----> 2\u001b[0;31m \u001b[0mw2v_model\u001b[0m \u001b[0;34m=\u001b[0m \u001b[0mKeyedVectors\u001b[0m\u001b[0;34m.\u001b[0m\u001b[0mload_word2vec_format\u001b[0m\u001b[0;34m(\u001b[0m\u001b[0;34m'/content/word2vec_model'\u001b[0m\u001b[0;34m,\u001b[0m \u001b[0mbinary\u001b[0m\u001b[0;34m=\u001b[0m\u001b[0;32mTrue\u001b[0m\u001b[0;34m)\u001b[0m\u001b[0;34m\u001b[0m\u001b[0;34m\u001b[0m\u001b[0m\n\u001b[0m\u001b[1;32m      3\u001b[0m \u001b[0mprint\u001b[0m\u001b[0;34m(\u001b[0m\u001b[0;34m'done loading Word2Vec'\u001b[0m\u001b[0;34m)\u001b[0m\u001b[0;34m\u001b[0m\u001b[0;34m\u001b[0m\u001b[0m\n",
            "\u001b[0;32m/usr/local/lib/python3.6/dist-packages/gensim/models/keyedvectors.py\u001b[0m in \u001b[0;36mload_word2vec_format\u001b[0;34m(cls, fname, fvocab, binary, encoding, unicode_errors, limit, datatype)\u001b[0m\n\u001b[1;32m   1436\u001b[0m         return _load_word2vec_format(\n\u001b[1;32m   1437\u001b[0m             \u001b[0mcls\u001b[0m\u001b[0;34m,\u001b[0m \u001b[0mfname\u001b[0m\u001b[0;34m,\u001b[0m \u001b[0mfvocab\u001b[0m\u001b[0;34m=\u001b[0m\u001b[0mfvocab\u001b[0m\u001b[0;34m,\u001b[0m \u001b[0mbinary\u001b[0m\u001b[0;34m=\u001b[0m\u001b[0mbinary\u001b[0m\u001b[0;34m,\u001b[0m \u001b[0mencoding\u001b[0m\u001b[0;34m=\u001b[0m\u001b[0mencoding\u001b[0m\u001b[0;34m,\u001b[0m \u001b[0municode_errors\u001b[0m\u001b[0;34m=\u001b[0m\u001b[0municode_errors\u001b[0m\u001b[0;34m,\u001b[0m\u001b[0;34m\u001b[0m\u001b[0;34m\u001b[0m\u001b[0m\n\u001b[0;32m-> 1438\u001b[0;31m             limit=limit, datatype=datatype)\n\u001b[0m\u001b[1;32m   1439\u001b[0m \u001b[0;34m\u001b[0m\u001b[0m\n\u001b[1;32m   1440\u001b[0m     \u001b[0;32mdef\u001b[0m \u001b[0mget_keras_embedding\u001b[0m\u001b[0;34m(\u001b[0m\u001b[0mself\u001b[0m\u001b[0;34m,\u001b[0m \u001b[0mtrain_embeddings\u001b[0m\u001b[0;34m=\u001b[0m\u001b[0;32mFalse\u001b[0m\u001b[0;34m)\u001b[0m\u001b[0;34m:\u001b[0m\u001b[0;34m\u001b[0m\u001b[0;34m\u001b[0m\u001b[0m\n",
            "\u001b[0;32m/usr/local/lib/python3.6/dist-packages/gensim/models/utils_any2vec.py\u001b[0m in \u001b[0;36m_load_word2vec_format\u001b[0;34m(cls, fname, fvocab, binary, encoding, unicode_errors, limit, datatype)\u001b[0m\n\u001b[1;32m    171\u001b[0m     \u001b[0;32mwith\u001b[0m \u001b[0mutils\u001b[0m\u001b[0;34m.\u001b[0m\u001b[0msmart_open\u001b[0m\u001b[0;34m(\u001b[0m\u001b[0mfname\u001b[0m\u001b[0;34m)\u001b[0m \u001b[0;32mas\u001b[0m \u001b[0mfin\u001b[0m\u001b[0;34m:\u001b[0m\u001b[0;34m\u001b[0m\u001b[0;34m\u001b[0m\u001b[0m\n\u001b[1;32m    172\u001b[0m         \u001b[0mheader\u001b[0m \u001b[0;34m=\u001b[0m \u001b[0mutils\u001b[0m\u001b[0;34m.\u001b[0m\u001b[0mto_unicode\u001b[0m\u001b[0;34m(\u001b[0m\u001b[0mfin\u001b[0m\u001b[0;34m.\u001b[0m\u001b[0mreadline\u001b[0m\u001b[0;34m(\u001b[0m\u001b[0;34m)\u001b[0m\u001b[0;34m,\u001b[0m \u001b[0mencoding\u001b[0m\u001b[0;34m=\u001b[0m\u001b[0mencoding\u001b[0m\u001b[0;34m)\u001b[0m\u001b[0;34m\u001b[0m\u001b[0;34m\u001b[0m\u001b[0m\n\u001b[0;32m--> 173\u001b[0;31m         \u001b[0mvocab_size\u001b[0m\u001b[0;34m,\u001b[0m \u001b[0mvector_size\u001b[0m \u001b[0;34m=\u001b[0m \u001b[0;34m(\u001b[0m\u001b[0mint\u001b[0m\u001b[0;34m(\u001b[0m\u001b[0mx\u001b[0m\u001b[0;34m)\u001b[0m \u001b[0;32mfor\u001b[0m \u001b[0mx\u001b[0m \u001b[0;32min\u001b[0m \u001b[0mheader\u001b[0m\u001b[0;34m.\u001b[0m\u001b[0msplit\u001b[0m\u001b[0;34m(\u001b[0m\u001b[0;34m)\u001b[0m\u001b[0;34m)\u001b[0m  \u001b[0;31m# throws for invalid file format\u001b[0m\u001b[0;34m\u001b[0m\u001b[0;34m\u001b[0m\u001b[0m\n\u001b[0m\u001b[1;32m    174\u001b[0m         \u001b[0;32mif\u001b[0m \u001b[0mlimit\u001b[0m\u001b[0;34m:\u001b[0m\u001b[0;34m\u001b[0m\u001b[0;34m\u001b[0m\u001b[0m\n\u001b[1;32m    175\u001b[0m             \u001b[0mvocab_size\u001b[0m \u001b[0;34m=\u001b[0m \u001b[0mmin\u001b[0m\u001b[0;34m(\u001b[0m\u001b[0mvocab_size\u001b[0m\u001b[0;34m,\u001b[0m \u001b[0mlimit\u001b[0m\u001b[0;34m)\u001b[0m\u001b[0;34m\u001b[0m\u001b[0;34m\u001b[0m\u001b[0m\n",
            "\u001b[0;32m/usr/local/lib/python3.6/dist-packages/gensim/models/utils_any2vec.py\u001b[0m in \u001b[0;36m<genexpr>\u001b[0;34m(.0)\u001b[0m\n\u001b[1;32m    171\u001b[0m     \u001b[0;32mwith\u001b[0m \u001b[0mutils\u001b[0m\u001b[0;34m.\u001b[0m\u001b[0msmart_open\u001b[0m\u001b[0;34m(\u001b[0m\u001b[0mfname\u001b[0m\u001b[0;34m)\u001b[0m \u001b[0;32mas\u001b[0m \u001b[0mfin\u001b[0m\u001b[0;34m:\u001b[0m\u001b[0;34m\u001b[0m\u001b[0;34m\u001b[0m\u001b[0m\n\u001b[1;32m    172\u001b[0m         \u001b[0mheader\u001b[0m \u001b[0;34m=\u001b[0m \u001b[0mutils\u001b[0m\u001b[0;34m.\u001b[0m\u001b[0mto_unicode\u001b[0m\u001b[0;34m(\u001b[0m\u001b[0mfin\u001b[0m\u001b[0;34m.\u001b[0m\u001b[0mreadline\u001b[0m\u001b[0;34m(\u001b[0m\u001b[0;34m)\u001b[0m\u001b[0;34m,\u001b[0m \u001b[0mencoding\u001b[0m\u001b[0;34m=\u001b[0m\u001b[0mencoding\u001b[0m\u001b[0;34m)\u001b[0m\u001b[0;34m\u001b[0m\u001b[0;34m\u001b[0m\u001b[0m\n\u001b[0;32m--> 173\u001b[0;31m         \u001b[0mvocab_size\u001b[0m\u001b[0;34m,\u001b[0m \u001b[0mvector_size\u001b[0m \u001b[0;34m=\u001b[0m \u001b[0;34m(\u001b[0m\u001b[0mint\u001b[0m\u001b[0;34m(\u001b[0m\u001b[0mx\u001b[0m\u001b[0;34m)\u001b[0m \u001b[0;32mfor\u001b[0m \u001b[0mx\u001b[0m \u001b[0;32min\u001b[0m \u001b[0mheader\u001b[0m\u001b[0;34m.\u001b[0m\u001b[0msplit\u001b[0m\u001b[0;34m(\u001b[0m\u001b[0;34m)\u001b[0m\u001b[0;34m)\u001b[0m  \u001b[0;31m# throws for invalid file format\u001b[0m\u001b[0;34m\u001b[0m\u001b[0;34m\u001b[0m\u001b[0m\n\u001b[0m\u001b[1;32m    174\u001b[0m         \u001b[0;32mif\u001b[0m \u001b[0mlimit\u001b[0m\u001b[0;34m:\u001b[0m\u001b[0;34m\u001b[0m\u001b[0;34m\u001b[0m\u001b[0m\n\u001b[1;32m    175\u001b[0m             \u001b[0mvocab_size\u001b[0m \u001b[0;34m=\u001b[0m \u001b[0mmin\u001b[0m\u001b[0;34m(\u001b[0m\u001b[0mvocab_size\u001b[0m\u001b[0;34m,\u001b[0m \u001b[0mlimit\u001b[0m\u001b[0;34m)\u001b[0m\u001b[0;34m\u001b[0m\u001b[0;34m\u001b[0m\u001b[0m\n",
            "\u001b[0;31mValueError\u001b[0m: invalid literal for int() with base 10: '<!DOCTYPE'"
          ]
        }
      ]
    }
  ]
}