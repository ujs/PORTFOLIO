{
  "nbformat": 4,
  "nbformat_minor": 0,
  "metadata": {
    "colab": {
      "name": "TNSE visualizations pretrained embeddings.ipynb",
      "provenance": [],
      "authorship_tag": "ABX9TyMoD89OU7yJkeN2Pd9GbnL8"
    },
    "kernelspec": {
      "name": "python3",
      "display_name": "Python 3"
    },
    "accelerator": "TPU"
  },
  "cells": [
    {
      "cell_type": "markdown",
      "metadata": {
        "id": "DlFFXkfrogQF",
        "colab_type": "text"
      },
      "source": [
        "# Introduction"
      ]
    },
    {
      "cell_type": "code",
      "metadata": {
        "id": "7ebEbOu3iYLT",
        "colab_type": "code",
        "colab": {}
      },
      "source": [
        "#Importing System performance libraries\n",
        "import warnings\n",
        "warnings.filterwarnings(\"ignore\") \n",
        "\n",
        "import os \n",
        "import psutil \n",
        "process = psutil.Process(os.getpid())\n",
        "\n",
        "from psutil import virtual_memory\n",
        "mem = virtual_memory()\n",
        "\n",
        "import time "
      ],
      "execution_count": 2,
      "outputs": []
    },
    {
      "cell_type": "code",
      "metadata": {
        "id": "JCHua-gcVUli",
        "colab_type": "code",
        "colab": {
          "base_uri": "https://localhost:8080/",
          "height": 70
        },
        "outputId": "0da8edae-10e1-494e-f39b-5e4f4396c6c5"
      },
      "source": [
        "#Importing python, ML libraries\n",
        "from gensim.models import Word2Vec, KeyedVectors #To load the model\n",
        "import numpy as np\n",
        "import matplotlib.pyplot as plt \n",
        "from sklearn.manifold import TSNE \n",
        "import nltk\n",
        "from nltk.corpus import stopwords\n",
        "nltk.download('stopwords')"
      ],
      "execution_count": 7,
      "outputs": [
        {
          "output_type": "stream",
          "text": [
            "[nltk_data] Downloading package stopwords to /root/nltk_data...\n",
            "[nltk_data]   Unzipping corpora/stopwords.zip.\n"
          ],
          "name": "stdout"
        },
        {
          "output_type": "execute_result",
          "data": {
            "text/plain": [
              "True"
            ]
          },
          "metadata": {
            "tags": []
          },
          "execution_count": 7
        }
      ]
    },
    {
      "cell_type": "code",
      "metadata": {
        "id": "5RXqr0JYo3YB",
        "colab_type": "code",
        "colab": {
          "base_uri": "https://localhost:8080/",
          "height": 228
        },
        "outputId": "f246c057-8a8f-4515-9710-c83d8495c891"
      },
      "source": [
        "!wget -P /tmp/input/ -c \"https://s3.amazonaws.com/dl4j-distribution/GoogleNews-vectors-negative300.bin.gz\"\n"
      ],
      "execution_count": 1,
      "outputs": [
        {
          "output_type": "stream",
          "text": [
            "--2020-07-04 20:33:10--  https://s3.amazonaws.com/dl4j-distribution/GoogleNews-vectors-negative300.bin.gz\n",
            "Resolving s3.amazonaws.com (s3.amazonaws.com)... 52.216.204.205\n",
            "Connecting to s3.amazonaws.com (s3.amazonaws.com)|52.216.204.205|:443... connected.\n",
            "HTTP request sent, awaiting response... 200 OK\n",
            "Length: 1647046227 (1.5G) [application/x-gzip]\n",
            "Saving to: ‘/tmp/input/GoogleNews-vectors-negative300.bin.gz’\n",
            "\n",
            "GoogleNews-vectors- 100%[===================>]   1.53G  78.4MB/s    in 18s     \n",
            "\n",
            "2020-07-04 20:33:28 (85.1 MB/s) - ‘/tmp/input/GoogleNews-vectors-negative300.bin.gz’ saved [1647046227/1647046227]\n",
            "\n"
          ],
          "name": "stdout"
        }
      ]
    },
    {
      "cell_type": "code",
      "metadata": {
        "id": "yKB5chuAjBKp",
        "colab_type": "code",
        "colab": {}
      },
      "source": [
        "pretrainedpath = '/tmp/input/GoogleNews-vectors-negative300.bin.gz'"
      ],
      "execution_count": 4,
      "outputs": []
    },
    {
      "cell_type": "markdown",
      "metadata": {
        "id": "FltHB1R8oxN4",
        "colab_type": "text"
      },
      "source": [
        "# Visualizations"
      ]
    },
    {
      "cell_type": "code",
      "metadata": {
        "id": "H3ZPWAESoZTg",
        "colab_type": "code",
        "colab": {}
      },
      "source": [
        "#Load Model with the given embeddings in the binary file\n",
        "model = KeyedVectors.load_word2vec_format(pretrainedpath, binary=True)\n",
        "\n",
        "#Preprocessing model vocab\n",
        "words_vocab= list(model.wv.vocab)#all the words in the vocabulary. \n",
        "print(\"Size of Vocabulary:\",len(words_vocab))\n",
        "print(\"Few words in Vocabulary\",words_vocab[:50])\n",
        "\n",
        "\n",
        "\n",
        "\n"
      ],
      "execution_count": null,
      "outputs": []
    },
    {
      "cell_type": "code",
      "metadata": {
        "id": "63wEC_t9ktEt",
        "colab_type": "code",
        "colab": {
          "base_uri": "https://localhost:8080/",
          "height": 72
        },
        "outputId": "70cd82a4-d8af-4fbd-8d75-6265da59bed4"
      },
      "source": [
        "#Let us remove the stop words from this it will help making the visualization cleaner\n",
        "stopwords_en = stopwords.words()\n",
        "words_vocab_without_sw = [word.lower() for word in words_vocab if not word in stopwords_en]\n",
        "print(\"Size of Vocabulary without stopwords:\",len(words_vocab_without_sw))\n",
        "print(\"Few words in Vocabulary without stopwords\",words_vocab_without_sw[:30])"
      ],
      "execution_count": 12,
      "outputs": [
        {
          "output_type": "stream",
          "text": [
            "Size of Vocabulary without stopwords: 2998714\n",
            "Few words in Vocabulary without stopwords ['</s>', '##', 'the', 'said', 'i', '####', '$', 'year', '###', 'would', 'it', 'two', 'first', 'he', 'time', 'we', 'last', 'new', 'people', 'in', 'a', 'could', 'years', 'u.s.', 'three', 'million', 'but', 'like', 'percent', 'get']\n"
          ],
          "name": "stdout"
        }
      ]
    },
    {
      "cell_type": "code",
      "metadata": {
        "id": "Gw9xpQmimEXL",
        "colab_type": "code",
        "colab": {
          "base_uri": "https://localhost:8080/",
          "height": 55
        },
        "outputId": "db33b740-955e-4e5d-c82d-e0b8f0948cd7"
      },
      "source": [
        "#Extracting 10 random words from the first 100000 words in vocab\n",
        "import random\n",
        "random_words = [words_vocab_without_sw[i] for i in random.sample(range(100000), 10)]\n",
        "print(random_words)"
      ],
      "execution_count": 74,
      "outputs": [
        {
          "output_type": "stream",
          "text": [
            "['spokesperson', 'prisons', 'hokie', 'mason', 'ailments', 'jarred', 'lc', 'civil_procedure', 'cities', 'e_verify']\n"
          ],
          "name": "stdout"
        }
      ]
    },
    {
      "cell_type": "code",
      "metadata": {
        "id": "6iylhbiBelF0",
        "colab_type": "code",
        "colab": {}
      },
      "source": [
        ""
      ],
      "execution_count": null,
      "outputs": []
    }
  ]
}