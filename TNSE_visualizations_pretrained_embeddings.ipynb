{
  "nbformat": 4,
  "nbformat_minor": 0,
  "metadata": {
    "colab": {
      "name": "TNSE visualizations pretrained embeddings.ipynb",
      "provenance": [],
      "authorship_tag": "ABX9TyPUmEAGVjNaY4JOtlFm+5wh"
    },
    "kernelspec": {
      "name": "python3",
      "display_name": "Python 3"
    },
    "accelerator": "TPU"
  },
  "cells": [
    {
      "cell_type": "markdown",
      "metadata": {
        "id": "DlFFXkfrogQF",
        "colab_type": "text"
      },
      "source": [
        "# Introduction"
      ]
    },
    {
      "cell_type": "code",
      "metadata": {
        "id": "JCHua-gcVUli",
        "colab_type": "code",
        "colab": {}
      },
      "source": [
        "from gensim.models import Word2Vec, KeyedVectors #To load the model\n",
        "import warnings\n",
        "warnings.filterwarnings('ignore') #ignore any generated warnings\n",
        "\n",
        "import numpy as np\n",
        "import matplotlib.pyplot as plt #to generate the t-SNE plot\n",
        "from sklearn.manifold import TSNE #scikit learn's TSNE"
      ],
      "execution_count": 8,
      "outputs": []
    },
    {
      "cell_type": "code",
      "metadata": {
        "id": "5RXqr0JYo3YB",
        "colab_type": "code",
        "colab": {
          "base_uri": "https://localhost:8080/",
          "height": 1000
        },
        "outputId": "3db7b2bf-f4a9-46fb-b68b-5409aeac925e"
      },
      "source": [
        "\n",
        "!wget 'http://nlp.stanford.edu/data/glove.6B.zip' -d /content\n",
        "!unzip glove.6B.zip\n"
      ],
      "execution_count": 2,
      "outputs": [
        {
          "output_type": "stream",
          "text": [
            "DEBUG output created by Wget 1.19.4 on linux-gnu.\n",
            "\n",
            "Reading HSTS entries from /root/.wget-hsts\n",
            "URI encoding = ‘UTF-8’\n",
            "Converted file name 'glove.6B.zip' (UTF-8) -> 'glove.6B.zip' (UTF-8)\n",
            "--2020-07-04 01:22:31--  http://nlp.stanford.edu/data/glove.6B.zip\n",
            "Resolving nlp.stanford.edu (nlp.stanford.edu)... 171.64.67.140\n",
            "Caching nlp.stanford.edu => 171.64.67.140\n",
            "Connecting to nlp.stanford.edu (nlp.stanford.edu)|171.64.67.140|:80... connected.\n",
            "Created socket 3.\n",
            "Releasing 0x00005594cd1d83a0 (new refcount 1).\n",
            "\n",
            "---request begin---\n",
            "GET /data/glove.6B.zip HTTP/1.1\r\n",
            "User-Agent: Wget/1.19.4 (linux-gnu)\r\n",
            "Accept: */*\r\n",
            "Accept-Encoding: identity\r\n",
            "Host: nlp.stanford.edu\r\n",
            "Connection: Keep-Alive\r\n",
            "\r\n",
            "---request end---\n",
            "HTTP request sent, awaiting response... \n",
            "---response begin---\n",
            "HTTP/1.1 302 Found\r\n",
            "Date: Sat, 04 Jul 2020 01:22:31 GMT\r\n",
            "Server: Apache/2.2.15 (CentOS)\r\n",
            "Location: https://nlp.stanford.edu/data/glove.6B.zip\r\n",
            "Content-Length: 308\r\n",
            "Connection: close\r\n",
            "Content-Type: text/html; charset=iso-8859-1\r\n",
            "\r\n",
            "---response end---\n",
            "302 Found\n",
            "URI content encoding = ‘iso-8859-1’\n",
            "Location: https://nlp.stanford.edu/data/glove.6B.zip [following]\n",
            "Closed fd 3\n",
            "URI content encoding = None\n",
            "Converted file name 'glove.6B.zip' (UTF-8) -> 'glove.6B.zip' (UTF-8)\n",
            "--2020-07-04 01:22:31--  https://nlp.stanford.edu/data/glove.6B.zip\n",
            "Found nlp.stanford.edu in host_name_addresses_map (0x5594cd1d83a0)\n",
            "Connecting to nlp.stanford.edu (nlp.stanford.edu)|171.64.67.140|:443... connected.\n",
            "Created socket 5.\n",
            "Releasing 0x00005594cd1d83a0 (new refcount 1).\n",
            "Initiating SSL handshake.\n",
            "Handshake successful; connected socket 5 to SSL handle 0x00005594cd232000\n",
            "certificate:\n",
            "  subject: CN=nlp.stanford.edu,OU=IT Services,O=Stanford University,street=450 Serra Mall,L=Stanford,ST=CA,postalCode=94305,C=US\n",
            "  issuer:  CN=InCommon RSA Server CA,OU=InCommon,O=Internet2,L=Ann Arbor,ST=MI,C=US\n",
            "X509 certificate successfully verified and matches host nlp.stanford.edu\n",
            "\n",
            "---request begin---\n",
            "GET /data/glove.6B.zip HTTP/1.1\r\n",
            "User-Agent: Wget/1.19.4 (linux-gnu)\r\n",
            "Accept: */*\r\n",
            "Accept-Encoding: identity\r\n",
            "Host: nlp.stanford.edu\r\n",
            "Connection: Keep-Alive\r\n",
            "\r\n",
            "---request end---\n",
            "HTTP request sent, awaiting response... \n",
            "---response begin---\n",
            "HTTP/1.1 301 Moved Permanently\r\n",
            "Date: Sat, 04 Jul 2020 01:22:31 GMT\r\n",
            "Server: Apache/2.2.15 (CentOS)\r\n",
            "Location: http://downloads.cs.stanford.edu/nlp/data/glove.6B.zip\r\n",
            "Content-Length: 345\r\n",
            "Connection: close\r\n",
            "Content-Type: text/html; charset=iso-8859-1\r\n",
            "\r\n",
            "---response end---\n",
            "301 Moved Permanently\n",
            "URI content encoding = ‘iso-8859-1’\n",
            "Location: http://downloads.cs.stanford.edu/nlp/data/glove.6B.zip [following]\n",
            "Closed 5/SSL 0x00005594cd232000\n",
            "URI content encoding = None\n",
            "Converted file name 'glove.6B.zip' (UTF-8) -> 'glove.6B.zip' (UTF-8)\n",
            "--2020-07-04 01:22:32--  http://downloads.cs.stanford.edu/nlp/data/glove.6B.zip\n",
            "Resolving downloads.cs.stanford.edu (downloads.cs.stanford.edu)... 171.64.64.22\n",
            "Caching downloads.cs.stanford.edu => 171.64.64.22\n",
            "Connecting to downloads.cs.stanford.edu (downloads.cs.stanford.edu)|171.64.64.22|:80... connected.\n",
            "Created socket 5.\n",
            "Releasing 0x00005594cd282860 (new refcount 1).\n",
            "\n",
            "---request begin---\n",
            "GET /nlp/data/glove.6B.zip HTTP/1.1\r\n",
            "User-Agent: Wget/1.19.4 (linux-gnu)\r\n",
            "Accept: */*\r\n",
            "Accept-Encoding: identity\r\n",
            "Host: downloads.cs.stanford.edu\r\n",
            "Connection: Keep-Alive\r\n",
            "\r\n",
            "---request end---\n",
            "HTTP request sent, awaiting response... \n",
            "---response begin---\n",
            "HTTP/1.1 200 OK\n",
            "Server: nginx/1.10.3 (Ubuntu)\n",
            "Date: Sat, 04 Jul 2020 01:22:32 GMT\n",
            "Content-Type: application/zip\n",
            "Content-Length: 862182613\n",
            "Last-Modified: Sun, 25 Oct 2015 00:21:09 GMT\n",
            "Connection: keep-alive\n",
            "ETag: \"562c2075-3363dcd5\"\n",
            "Accept-Ranges: bytes\n",
            "\n",
            "---response end---\n",
            "200 OK\n",
            "Registered socket 5 for persistent reuse.\n",
            "Length: 862182613 (822M) [application/zip]\n",
            "Saving to: ‘glove.6B.zip’\n",
            "\n",
            "glove.6B.zip        100%[===================>] 822.24M  2.13MB/s    in 6m 26s  \n",
            "\n",
            "2020-07-04 01:28:58 (2.13 MB/s) - ‘glove.6B.zip’ saved [862182613/862182613]\n",
            "\n",
            "URI encoding = ‘UTF-8’\n",
            "/content: Scheme missing.\n",
            "FINISHED --2020-07-04 01:28:58--\n",
            "Total wall clock time: 6m 27s\n",
            "Downloaded: 1 files, 822M in 6m 26s (2.13 MB/s)\n",
            "Archive:  glove.6B.zip\n",
            "  inflating: glove.6B.50d.txt        \n",
            "  inflating: glove.6B.100d.txt       \n",
            "  inflating: glove.6B.200d.txt       \n",
            "  inflating: glove.6B.300d.txt       \n"
          ],
          "name": "stdout"
        }
      ]
    },
    {
      "cell_type": "markdown",
      "metadata": {
        "id": "FltHB1R8oxN4",
        "colab_type": "text"
      },
      "source": [
        "# Visualizations"
      ]
    },
    {
      "cell_type": "code",
      "metadata": {
        "id": "H3ZPWAESoZTg",
        "colab_type": "code",
        "colab": {
          "base_uri": "https://localhost:8080/",
          "height": 35
        },
        "outputId": "8c7d1622-48f4-420c-fd26-232a32f772ca"
      },
      "source": [
        "\n",
        "#Convert .txt to .bin format\n",
        "f = open('glove.6B.50d.txt')\n",
        "vocab = [word.strip('\\n') for word in f.readlines()]\n",
        "\n",
        "len(vocab)\n",
        "\n",
        "\n",
        "\n",
        "\n"
      ],
      "execution_count": 16,
      "outputs": [
        {
          "output_type": "execute_result",
          "data": {
            "text/plain": [
              "400000"
            ]
          },
          "metadata": {
            "tags": []
          },
          "execution_count": 16
        }
      ]
    },
    {
      "cell_type": "code",
      "metadata": {
        "id": "OMyICvxde1Yx",
        "colab_type": "code",
        "colab": {
          "base_uri": "https://localhost:8080/",
          "height": 159
        },
        "outputId": "09f7775c-4b50-4091-9ac7-c8e9705c7726"
      },
      "source": [
        "vocab[:7]\n"
      ],
      "execution_count": 17,
      "outputs": [
        {
          "output_type": "execute_result",
          "data": {
            "text/plain": [
              "['the 0.418 0.24968 -0.41242 0.1217 0.34527 -0.044457 -0.49688 -0.17862 -0.00066023 -0.6566 0.27843 -0.14767 -0.55677 0.14658 -0.0095095 0.011658 0.10204 -0.12792 -0.8443 -0.12181 -0.016801 -0.33279 -0.1552 -0.23131 -0.19181 -1.8823 -0.76746 0.099051 -0.42125 -0.19526 4.0071 -0.18594 -0.52287 -0.31681 0.00059213 0.0074449 0.17778 -0.15897 0.012041 -0.054223 -0.29871 -0.15749 -0.34758 -0.045637 -0.44251 0.18785 0.0027849 -0.18411 -0.11514 -0.78581',\n",
              " ', 0.013441 0.23682 -0.16899 0.40951 0.63812 0.47709 -0.42852 -0.55641 -0.364 -0.23938 0.13001 -0.063734 -0.39575 -0.48162 0.23291 0.090201 -0.13324 0.078639 -0.41634 -0.15428 0.10068 0.48891 0.31226 -0.1252 -0.037512 -1.5179 0.12612 -0.02442 -0.042961 -0.28351 3.5416 -0.11956 -0.014533 -0.1499 0.21864 -0.33412 -0.13872 0.31806 0.70358 0.44858 -0.080262 0.63003 0.32111 -0.46765 0.22786 0.36034 -0.37818 -0.56657 0.044691 0.30392',\n",
              " '. 0.15164 0.30177 -0.16763 0.17684 0.31719 0.33973 -0.43478 -0.31086 -0.44999 -0.29486 0.16608 0.11963 -0.41328 -0.42353 0.59868 0.28825 -0.11547 -0.041848 -0.67989 -0.25063 0.18472 0.086876 0.46582 0.015035 0.043474 -1.4671 -0.30384 -0.023441 0.30589 -0.21785 3.746 0.0042284 -0.18436 -0.46209 0.098329 -0.11907 0.23919 0.1161 0.41705 0.056763 -6.3681e-05 0.068987 0.087939 -0.10285 -0.13931 0.22314 -0.080803 -0.35652 0.016413 0.10216',\n",
              " 'of 0.70853 0.57088 -0.4716 0.18048 0.54449 0.72603 0.18157 -0.52393 0.10381 -0.17566 0.078852 -0.36216 -0.11829 -0.83336 0.11917 -0.16605 0.061555 -0.012719 -0.56623 0.013616 0.22851 -0.14396 -0.067549 -0.38157 -0.23698 -1.7037 -0.86692 -0.26704 -0.2589 0.1767 3.8676 -0.1613 -0.13273 -0.68881 0.18444 0.0052464 -0.33874 -0.078956 0.24185 0.36576 -0.34727 0.28483 0.075693 -0.062178 -0.38988 0.22902 -0.21617 -0.22562 -0.093918 -0.80375',\n",
              " 'to 0.68047 -0.039263 0.30186 -0.17792 0.42962 0.032246 -0.41376 0.13228 -0.29847 -0.085253 0.17118 0.22419 -0.10046 -0.43653 0.33418 0.67846 0.057204 -0.34448 -0.42785 -0.43275 0.55963 0.10032 0.18677 -0.26854 0.037334 -2.0932 0.22171 -0.39868 0.20912 -0.55725 3.8826 0.47466 -0.95658 -0.37788 0.20869 -0.32752 0.12751 0.088359 0.16351 -0.21634 -0.094375 0.018324 0.21048 -0.03088 -0.19722 0.082279 -0.09434 -0.073297 -0.064699 -0.26044',\n",
              " 'and 0.26818 0.14346 -0.27877 0.016257 0.11384 0.69923 -0.51332 -0.47368 -0.33075 -0.13834 0.2702 0.30938 -0.45012 -0.4127 -0.09932 0.038085 0.029749 0.10076 -0.25058 -0.51818 0.34558 0.44922 0.48791 -0.080866 -0.10121 -1.3777 -0.10866 -0.23201 0.012839 -0.46508 3.8463 0.31362 0.13643 -0.52244 0.3302 0.33707 -0.35601 0.32431 0.12041 0.3512 -0.069043 0.36885 0.25168 -0.24517 0.25381 0.1367 -0.31178 -0.6321 -0.25028 -0.38097',\n",
              " 'in 0.33042 0.24995 -0.60874 0.10923 0.036372 0.151 -0.55083 -0.074239 -0.092307 -0.32821 0.09598 -0.82269 -0.36717 -0.67009 0.42909 0.016496 -0.23573 0.12864 -1.0953 0.43334 0.57067 -0.1036 0.20422 0.078308 -0.42795 -1.7984 -0.27865 0.11954 -0.12689 0.031744 3.8631 -0.17786 -0.082434 -0.62698 0.26497 -0.057185 -0.073521 0.46103 0.30862 0.12498 -0.48609 -0.0080272 0.031184 -0.36576 -0.42699 0.42164 -0.11666 -0.50703 -0.027273 -0.53285']"
            ]
          },
          "metadata": {
            "tags": []
          },
          "execution_count": 17
        }
      ]
    },
    {
      "cell_type": "code",
      "metadata": {
        "id": "ZNwfpLlgcFDV",
        "colab_type": "code",
        "colab": {}
      },
      "source": [
        "import nltk\n",
        "from nltk.corpus import stopwords"
      ],
      "execution_count": 6,
      "outputs": []
    },
    {
      "cell_type": "code",
      "metadata": {
        "id": "6-xhwWTsXpeR",
        "colab_type": "code",
        "colab": {}
      },
      "source": [
        "\n",
        "# load model\n",
        "model = KeyedVectors.load_word2vec_format(vocab, binary=True)\n",
        "\n",
        "\n",
        "nltk.download('stopwords')\n",
        "\n",
        "words_vocab= list(model.wv.vocab)#all the words in the vocabulary. \n",
        "print(\"Vocabulary size:\",len(words_vocab))\n",
        "print(\"Few words in Vocabulary\",words_vocab[:10])\n",
        "\n",
        "#Removing stopwords to make the visualization cleaner\n",
        "stopwords_en = stopwords.words()\n",
        "words_vocab_without_sw = [word.lower() for word in words_vocab if not word in stopwords_en]\n",
        "print(\"Size of Vocabulary without stopwords:\",len(words_vocab_without_sw))\n"
      ],
      "execution_count": null,
      "outputs": []
    },
    {
      "cell_type": "code",
      "metadata": {
        "id": "6iylhbiBelF0",
        "colab_type": "code",
        "colab": {}
      },
      "source": [
        ""
      ],
      "execution_count": null,
      "outputs": []
    }
  ]
}